{
 "cells": [
  {
   "cell_type": "code",
   "execution_count": 13,
   "metadata": {},
   "outputs": [],
   "source": [
    "import numpy as np\n",
    "import matplotlib.pyplot as plt\n",
    "import pymc3 as pm\n",
    "import theano\n",
    "import theano.tensor as tt\n",
    "from theano.tensor import fft\n",
    "\n",
    "muJ=np.asarray([-0.03425363, -0.03351397, -0.02664699, -0.02273714, -0.03174768,\n",
    "       -0.03957353, -0.04738784, -0.05586893, -0.06363427, -0.07391645,\n",
    "       -0.08178534, -0.08926872, -0.09593623, -0.09036217, -0.07807825,\n",
    "       -0.06753805, -0.05767188, -0.06243789, -0.06809364, -0.06405182,\n",
    "       -0.06114183, -0.04508844, -0.03290343, -0.02404407, -0.02079736,\n",
    "       -0.03644591, -0.03598996, -0.03445805, -0.03331908, -0.01566788,\n",
    "       -0.01656279, -0.01754197, -0.0130746 ,  0.00193958,  0.01056539,\n",
    "        0.01698442,  0.0382919 ,  0.05958532,  0.06605687,  0.07316159,\n",
    "        0.07929714,  0.08111757,  0.08236758,  0.08409051,  0.07132862,\n",
    "        0.06410184,  0.06383741,  0.0638774 ,  0.06268115,  0.0642296 ,\n",
    "        0.07699274,  0.09465466,  0.10719381,  0.07496593,  0.04823132,\n",
    "        0.02464346,  0.00900288, -0.00262479, -0.01581547, -0.02713472,\n",
    "       -0.04211868, -0.06695968, -0.0843794 , -0.0838455 , -0.09070336,\n",
    "       -0.09610623, -0.09881969, -0.09027169, -0.08033855, -0.06809048,\n",
    "       -0.04661056, -0.01563495,  0.0156263 ,  0.03325961,  0.04721029,\n",
    "        0.0665903 ,  0.09242785,  0.10892494,  0.12218285,  0.1282392 ,\n",
    "        0.13511139,  0.14373963,  0.15130526,  0.15932193,  0.1431794 ,\n",
    "        0.08651746,  0.06932233,  0.05781805,  0.05321184,  0.04833902,\n",
    "        0.04359331,  0.03972242,  0.03617235,  0.0324834 ,  0.04958008,\n",
    "        0.05654622,  0.05459009,  0.07174552,  0.09021518,  0.10966458])\n",
    "XK_new=np.linspace(57690.160596,58541.349392,100,dtype=np.float64)\n",
    "\n",
    "muK = np.asarray([-0.0188423 , -0.01101513, -0.02182555, -0.04066994, -0.0372273 ,\n",
    "       -0.04142979, -0.04643643, -0.05618733, -0.06305947, -0.07055236,\n",
    "       -0.07793845, -0.08585502, -0.06063842, -0.04144011, -0.04482767,\n",
    "       -0.05074738, -0.05828078, -0.06202257, -0.0469031 , -0.03229114,\n",
    "       -0.01682147, -0.00109132,  0.01100408,  0.02217135,  0.00313528,\n",
    "       -0.01391616, -0.02103778, -0.00784842, -0.00958049, -0.00958786,\n",
    "        0.01109297, -0.00763489, -0.02091672, -0.01876265,  0.00469278,\n",
    "        0.0188317 ,  0.03078942,  0.04751188,  0.06810743,  0.07498746,\n",
    "        0.08292102,  0.08732753,  0.10046523,  0.11947633,  0.13786948,\n",
    "        0.14400703,  0.13987333,  0.13111406,  0.12287179,  0.11626273,\n",
    "        0.11051379,  0.09606653,  0.03146849, -0.03145527, -0.03731231,\n",
    "        0.05864158,  0.10667121,  0.12383762,  0.11461967,  0.08906796,\n",
    "        0.06559065,  0.04109558,  0.02030753, -0.00256419, -0.02360279,\n",
    "       -0.04425853, -0.07565115, -0.11281323, -0.158842  , -0.15194773,\n",
    "       -0.13758974, -0.12698046, -0.11453399, -0.09043922, -0.06368814,\n",
    "       -0.03801246, -0.01361853,  0.01826796,  0.04772783,  0.0783482 ,\n",
    "        0.10210635,  0.11343715,  0.11997221,  0.12888862,  0.14047052,\n",
    "        0.1510065 ,  0.16296829,  0.15034888,  0.12048199,  0.10888384,\n",
    "        0.10030352,  0.09039116,  0.08457157,  0.07565612,  0.06965578,\n",
    "        0.06232899,  0.05684617,  0.07264807,  0.09185271,  0.10704618])\n",
    "\n",
    "sdK= np.asarray([0.01988143, 0.02823802, 0.02842399, 0.02519744, 0.02685983,\n",
    "       0.03892542, 0.05028333, 0.05689614, 0.05813455, 0.05403651,\n",
    "       0.04471803, 0.02418143, 0.03161986, 0.02934869, 0.04177712,\n",
    "       0.04655686, 0.03921996, 0.02387052, 0.02670243, 0.0358775 ,\n",
    "       0.0404354 , 0.02561409, 0.03271019, 0.02208746, 0.03147129,\n",
    "       0.02778667, 0.01997748, 0.02645743, 0.02909296, 0.02507729,\n",
    "       0.02358237, 0.03032299, 0.02790866, 0.01985626, 0.02860159,\n",
    "       0.02765181, 0.02107263, 0.03497932, 0.0255268 , 0.03756821,\n",
    "       0.04205965, 0.03471579, 0.03107883, 0.03834469, 0.03036075,\n",
    "       0.02955552, 0.0268117 , 0.04630602, 0.05364562, 0.0514371 ,\n",
    "       0.04249924, 0.0266177 , 0.03959254, 0.04223779, 0.03861979,\n",
    "       0.02962969, 0.03502534, 0.03253784, 0.03910857, 0.04728147,\n",
    "       0.0472931 , 0.03952985, 0.0238944 , 0.03969748, 0.04179032,\n",
    "       0.02498722, 0.03114984, 0.02718431, 0.02714058, 0.03081888,\n",
    "       0.02916275, 0.0340881 , 0.02559767, 0.02691825, 0.03102352,\n",
    "       0.02701771, 0.01996262, 0.02890135, 0.02935551, 0.02249271,\n",
    "       0.02631584, 0.03960783, 0.05016029, 0.05681583, 0.05473107,\n",
    "       0.04716982, 0.03231861, 0.02949984, 0.02315253, 0.0270892 ,\n",
    "       0.03911139, 0.05046017, 0.05845151, 0.05975193, 0.05511116,\n",
    "       0.04632993, 0.02836088, 0.02897927, 0.02732322, 0.02084374])"
   ]
  },
  {
   "cell_type": "code",
   "execution_count": 2,
   "metadata": {},
   "outputs": [],
   "source": [
    "import numpy as np\n",
    "import theano\n",
    "import theano.tensor as tt\n",
    "from theano.tensor import fft\n",
    "\n",
    "x = tt.matrix('x')\n",
    "\n",
    "rfft = fft.rfft(x, norm='ortho')\n",
    "f_rfft = theano.function([x], rfft)\n",
    "\n",
    "N = 1024\n",
    "box = np.zeros((1, N))\n",
    "box[:, N//2-10: N//2+10] = 1\n",
    "\n",
    "out = f_rfft(box)\n",
    "c_out = np.asarray(out[0, :, 0] + 1j*out[0, :, 1])\n",
    "abs_out = abs(c_out)"
   ]
  },
  {
   "cell_type": "code",
   "execution_count": 13,
   "metadata": {},
   "outputs": [
    {
     "data": {
      "text/plain": [
       "(100,)"
      ]
     },
     "execution_count": 13,
     "metadata": {},
     "output_type": "execute_result"
    }
   ],
   "source": [
    "import theano\n",
    "import theano.tensor as tt\n",
    "from theano.tensor.nnet import conv\n",
    "import lasagne\n",
    "\n",
    "conv2d = theano.tensor.nnet.conv2d\n",
    "\n",
    "#x = tt.matrix()\n",
    "#y = tt.matrix()\n",
    "\n",
    "#veclen = x.shape[1]\n",
    "#print(veclen)\n",
    "\n",
    "#conv1d_expr = conv2d(x, y, input_shape=(1, veclen), border_mode='full')\n",
    "\n",
    "#conv1d = theano.function([x, y], outputs=conv1d_expr)\n",
    "muJ.shape"
   ]
  },
  {
   "cell_type": "code",
   "execution_count": 5,
   "metadata": {},
   "outputs": [
    {
     "ename": "TypeError",
     "evalue": "conv2d() missing 1 required positional argument: 'filters'",
     "output_type": "error",
     "traceback": [
      "\u001b[1;31m---------------------------------------------------------------------------\u001b[0m",
      "\u001b[1;31mTypeError\u001b[0m                                 Traceback (most recent call last)",
      "\u001b[1;32m<ipython-input-5-53bdb3d16420>\u001b[0m in \u001b[0;36m<module>\u001b[1;34m\u001b[0m\n\u001b[0;32m     40\u001b[0m     \u001b[0mconv2d\u001b[0m \u001b[1;33m=\u001b[0m \u001b[0mtheano\u001b[0m\u001b[1;33m.\u001b[0m\u001b[0mtensor\u001b[0m\u001b[1;33m.\u001b[0m\u001b[0mnnet\u001b[0m\u001b[1;33m.\u001b[0m\u001b[0mconv2d\u001b[0m\u001b[1;33m\u001b[0m\u001b[1;33m\u001b[0m\u001b[0m\n\u001b[0;32m     41\u001b[0m \u001b[1;33m\u001b[0m\u001b[0m\n\u001b[1;32m---> 42\u001b[1;33m     \u001b[0mconv1d_expr\u001b[0m \u001b[1;33m=\u001b[0m \u001b[0mconv2d\u001b[0m\u001b[1;33m(\u001b[0m\u001b[1;33m[\u001b[0m\u001b[0mtransfer\u001b[0m\u001b[1;33m,\u001b[0m\u001b[0mmuJ\u001b[0m\u001b[1;33m,\u001b[0m\u001b[1;36m1\u001b[0m\u001b[1;33m,\u001b[0m\u001b[1;36m1\u001b[0m\u001b[1;33m]\u001b[0m\u001b[1;33m,\u001b[0m \u001b[0minput_shape\u001b[0m\u001b[1;33m=\u001b[0m\u001b[1;33m(\u001b[0m\u001b[0mlen\u001b[0m\u001b[1;33m(\u001b[0m\u001b[0mmuJ\u001b[0m\u001b[1;33m)\u001b[0m\u001b[1;33m,\u001b[0m\u001b[0mlen\u001b[0m\u001b[1;33m(\u001b[0m\u001b[0mmuJ\u001b[0m\u001b[1;33m)\u001b[0m\u001b[1;33m,\u001b[0m\u001b[1;36m1\u001b[0m\u001b[1;33m,\u001b[0m\u001b[1;36m1\u001b[0m\u001b[1;33m)\u001b[0m\u001b[1;33m,\u001b[0m\u001b[0mfilter_shape\u001b[0m\u001b[1;33m=\u001b[0m\u001b[1;32mNone\u001b[0m \u001b[1;33m,\u001b[0m\u001b[0mborder_mode\u001b[0m\u001b[1;33m=\u001b[0m\u001b[1;34m'full'\u001b[0m\u001b[1;33m)\u001b[0m\u001b[1;33m\u001b[0m\u001b[1;33m\u001b[0m\u001b[0m\n\u001b[0m\u001b[0;32m     43\u001b[0m \u001b[1;33m\u001b[0m\u001b[0m\n\u001b[0;32m     44\u001b[0m     \u001b[1;31m#conv= np.convolve(transfer,muJ,'same')\u001b[0m\u001b[1;33m\u001b[0m\u001b[1;33m\u001b[0m\u001b[1;33m\u001b[0m\u001b[0m\n",
      "\u001b[1;31mTypeError\u001b[0m: conv2d() missing 1 required positional argument: 'filters'"
     ]
    }
   ],
   "source": [
    "import theano\n",
    "import theano.tensor as tt\n",
    "from theano.tensor.nnet import conv\n",
    "import lasagne\n",
    "\n",
    "with pm.Model() as convmodel:\n",
    "    \n",
    "    # Define priors\n",
    "    sigma_DT=pm.Uniform('sigma_DT', lower=-7.0, upper=2.0)\n",
    "    sigma_AD=pm.Uniform('sigma_AD', lower=-7.0, upper=2.0)\n",
    "    mu_DT=pm.Uniform('mu_DT', lower=2.7, upper=4.0)\n",
    "    mu_AD=pm.Uniform('mu_AD', lower=0.0, upper=2.3)\n",
    "    A_T=pm.Uniform('A_T', lower=0.0, upper=1.0)\n",
    "    T=pm.Uniform('T', lower=1300.0, upper=1700.0)\n",
    "    wav=pm.Uniform('wav', lower=0.0, upper=10000.0)\n",
    "    wav_0=pm.Uniform('wav_0', lower=0.0, upper=10000.0)\n",
    "    index=pm.Uniform('index', lower=0.0, upper=10.0)\n",
    "   \n",
    "    h = 6.626e-34#Plancks constant\n",
    "    c = 299792458#speed of light\n",
    "    k = 1.38e-23#Boltzmanns constant\n",
    "    \n",
    "    a = 2.0*h*c**2\n",
    "    b = h*c/(wav*k*T)\n",
    "    BB = a/ ( (wav**5) * (np.exp(b) - 1.0) )\n",
    "    exp_DT = -((tt.log(XK_new)-mu_DT)**2/(2*sigma_DT**2))\n",
    "    front_DT = A_T/(XK_new*sigma_DT*np.sqrt(2*np.pi))\n",
    "    Psi_DT = BB*front_DT*np.exp(exp_DT)\n",
    "    powr = (wav/wav_0)**(index)\n",
    "    exp_AD = -((tt.log(XK_new)-mu_AD)**2/(2*sigma_AD**2))\n",
    "    front_AD = (1.0-A_T)/(XK_new*sigma_AD*np.sqrt(2*np.pi))\n",
    "    Psi_AD = powr*front_AD*tt.exp(exp_AD)\n",
    "    transfer = Psi_DT + Psi_AD\n",
    "    \n",
    "    #ffttransfer= theano.tensor.fft.rfft(transfer,norm='ortho')#np.fft.fft(transfer)#theano.tensor.fft.rfft(transfer,norm='ortho')#np.fft.fft(transfer)#theano.tensor.fft.rfft(transfer)##f_rfft(transfer)#\n",
    "    #fftmu= np.fft.fft(mu)#theano.tensor.fft.rfft(Fc)#np.fft.fft(mu)\n",
    "    #con=ffttransfer*fftmu\n",
    "    #conv= theano.tensor.fft.irfft(con)#f_irftt(con)#np.fft.ifft(ffttransfer*fftmu)\n",
    "    \n",
    "    conv2d = theano.tensor.nnet.conv2d\n",
    "\n",
    "    conv1d_expr = conv2d([transfer,muJ,1,1], input_shape=(len(muJ),len(muJ),1,1),filter_shape=None ,border_mode='full')\n",
    "    \n",
    "    #conv= np.convolve(transfer,muJ,'same')\n",
    "    #conv = np.fft.ifft(np.fft.fft(transfer) * np.fft.fft(muJ)).real\n",
    "    \n",
    "    likelihood = pm.Normal('muK', mu=conv1d_expr, sigma=sdK, observed=muK)\n",
    "\n",
    "    tracetransfer = pm.sample(2000)"
   ]
  },
  {
   "cell_type": "markdown",
   "metadata": {},
   "source": [
    "# All of this stuff below is just for looking at the transfer function and using MCMC hammer instead"
   ]
  },
  {
   "cell_type": "code",
   "execution_count": 11,
   "metadata": {},
   "outputs": [],
   "source": [
    "#Define simple planck function\n",
    "h = 6.626e-34\n",
    "c = 3.0e+8\n",
    "k = 1.38e-23\n",
    "\n",
    "def planck(wav, T):\n",
    "    a = 2.0*h*c**2\n",
    "    b = h*c/(wav*k*T)\n",
    "    intensity = a/ ( (wav**5) * (np.exp(b) - 1.0) )\n",
    "    return intensity"
   ]
  },
  {
   "cell_type": "code",
   "execution_count": 12,
   "metadata": {},
   "outputs": [],
   "source": [
    "def transferDT(x,mu,sigma,A_T,wav,T):\n",
    "    '''Defines the transfer function for the DT'''\n",
    "    BB = planck(wav, T)\n",
    "    exp = -((np.log(x)-mu)**2/(2*sigma**2))\n",
    "    front = A_T/(x*sigma*np.sqrt(2*np.pi))\n",
    "    return BB*front*np.exp(exp)"
   ]
  },
  {
   "cell_type": "code",
   "execution_count": 13,
   "metadata": {},
   "outputs": [],
   "source": [
    "#might need to include a normalization here\n",
    "#can you determine the index of the power law? Maybe by a fit in a filter?\n",
    "def power(wav,wav_0,index):\n",
    "    powr=(wav/wav_0)**(index)\n",
    "    return powr"
   ]
  },
  {
   "cell_type": "code",
   "execution_count": 14,
   "metadata": {},
   "outputs": [],
   "source": [
    "def transferAD(x,mu,sigma,A_T,wav,wav_0,index):\n",
    "    '''Defines the transfer function for the AD'''\n",
    "    powr = power(wav, wav_0, index)\n",
    "    exp = -((np.log(x)-mu)**2/(2*sigma**2))\n",
    "    front = (1.0-A_T)/(x*sigma*np.sqrt(2*np.pi))\n",
    "    return powr*front*np.exp(exp)"
   ]
  },
  {
   "cell_type": "code",
   "execution_count": 34,
   "metadata": {},
   "outputs": [],
   "source": [
    "def transfertot(x,mu_DT,mu_AD,sigma_DT,sigma_AD,A_T,T,wav,wav_0,index):\n",
    "    transfer_DT = transferDT(x,mu_DT,sigma_DT,A_T,wav,T)\n",
    "    transfer_AD = transferAD(x,mu_AD,sigma_AD,A_T,wav,wav_0,index)\n",
    "    return transfer_DT + transfer_AD"
   ]
  },
  {
   "cell_type": "code",
   "execution_count": 42,
   "metadata": {},
   "outputs": [
    {
     "data": {
      "image/png": "[encoded data removed]",
      "text/plain": [
       "<Figure size 432x288 with 1 Axes>"
      ]
     },
     "metadata": {
      "needs_background": "light"
     },
     "output_type": "display_data"
    }
   ],
   "source": [
    "#define some data and parameters and plot the transfer functions \n",
    "#tau=np.linspace(0.01,4,100)\n",
    "sigma_DT=1\n",
    "sigma_AD=1\n",
    "mu_DT=12\n",
    "mu_AD=1\n",
    "A_T=0.4\n",
    "T=1700\n",
    "wav=6200\n",
    "wav_0=6200\n",
    "index=1.0\n",
    "\n",
    "resDT= transferDT(XK_new,mu_DT,sigma_DT,A_T,wav,T)\n",
    "resAD= transferAD(XK_new,mu_AD,sigma_AD,A_T,wav,wav_0,index)\n",
    "ressum= resDT+resAD#transfertot(X_new,mu_DT,mu_AD,sigma_DT,sigma_AD,A_T,T,wav,wav_0,index)\n",
    "#ffttransfer= theano.tensor.fft.irfft(resDT*resAD)\n",
    "plt.plot(XK_new,resDT,'r',label=\"Dusty Torus\")\n",
    "plt.plot(XK_new,resAD,'b',label=\"Accretion Disk\")\n",
    "plt.plot(XK_new,ressum,'g',label=\"Sum\")\n",
    "plt.xlabel(\"tau\")\n",
    "plt.ylabel(\"Transfer function\")\n",
    "plt.legend()\n",
    "plt.show()"
   ]
  },
  {
   "cell_type": "code",
   "execution_count": 54,
   "metadata": {},
   "outputs": [],
   "source": [
    "def convolution(X,mu_DT,mu_AD,sigma_DT,sigma_AD,A_T,T,wav,wav_0,index):\n",
    "    x,muJ=X\n",
    "    convol=np.convolve(transfertot(x,mu_DT,mu_AD,sigma_DT,sigma_AD,A_T,T,wav,wav_0,index),muJ,'same')\n",
    "    return convol"
   ]
  },
  {
   "cell_type": "code",
   "execution_count": 55,
   "metadata": {},
   "outputs": [
    {
     "data": {
      "text/plain": [
       "[<matplotlib.lines.Line2D at 0x29c41409710>]"
      ]
     },
     "execution_count": 55,
     "metadata": {},
     "output_type": "execute_result"
    },
    {
     "data": {
      "image/png": "[encoded data removed]",
      "text/plain": [
       "<Figure size 432x288 with 1 Axes>"
      ]
     },
     "metadata": {
      "needs_background": "light"
     },
     "output_type": "display_data"
    }
   ],
   "source": [
    "Xhere=[XK_new,muJ]\n",
    "convol=convolution(Xhere,mu_DT,mu_AD,sigma_DT,sigma_AD,A_T,T,wav,wav_0,index)\n",
    "\n",
    "plt.plot(XK_new,convol*1e26)\n",
    "plt.plot(XK_new,conv*1e26)\n",
    "plt.plot(XK_new,conv-convol)\n",
    "#plt.plot(XK_new,muK)\n"
   ]
  },
  {
   "cell_type": "code",
   "execution_count": 58,
   "metadata": {},
   "outputs": [],
   "source": [
    "import matplotlib.pyplot as plt\n",
    "from scipy.optimize import curve_fit\n",
    "\n",
    "\n",
    "p0= 12., 1., 1., 1., 0.4, 1700., 6200., 6200., 1.0\n",
    "popt, pcov = curve_fit(convolution, [XK_new,muJ], muK, p0)"
   ]
  },
  {
   "cell_type": "code",
   "execution_count": 59,
   "metadata": {},
   "outputs": [
    {
     "data": {
      "text/plain": [
       "array([1.2e+01, 1.0e+00, 1.0e+00, 1.0e+00, 4.0e-01, 1.7e+03, 6.2e+03,\n",
       "       6.2e+03, 1.0e+00])"
      ]
     },
     "execution_count": 59,
     "metadata": {},
     "output_type": "execute_result"
    }
   ],
   "source": [
    "popt"
   ]
  },
  {
   "cell_type": "code",
   "execution_count": 68,
   "metadata": {},
   "outputs": [
    {
     "data": {
      "text/plain": [
       "[<matplotlib.lines.Line2D at 0x29c3fd90828>]"
      ]
     },
     "execution_count": 68,
     "metadata": {},
     "output_type": "execute_result"
    },
    {
     "data": {
      "image/png": "[encoded data removed]",
      "text/plain": [
       "<Figure size 432x288 with 1 Axes>"
      ]
     },
     "metadata": {
      "needs_background": "light"
     },
     "output_type": "display_data"
    }
   ],
   "source": [
    "#plt.plot(XK_new,muK)\n",
    "plt.plot(XK_new,convolution(Xhere,popt[0],popt[1],popt[2],popt[3],popt[4],popt[5],popt[6],popt[7],popt[8]))"
   ]
  },
  {
   "cell_type": "code",
   "execution_count": 69,
   "metadata": {},
   "outputs": [],
   "source": [
    "from lmfit import Model\n",
    "mod = Model(convolution)"
   ]
  },
  {
   "cell_type": "code",
   "execution_count": 79,
   "metadata": {},
   "outputs": [],
   "source": [
    "params = mod.make_params(mu_DT=3.,mu_AD=1.,sigma_DT=1.,sigma_AD=1.,A_T=0.1,T=1300.,wav=6200.,wav_0=6200.,index=1.0)\n",
    "\n",
    "params['sigma_DT'].min = -7.0\n",
    "params['sigma_DT'].max = 2.0\n",
    "params['sigma_AD'].min = -7.0\n",
    "params['sigma_AD'].max = 2.0\n",
    "params['mu_DT'].min = 2.7\n",
    "params['mu_DT'].max = 4.0\n",
    "params['mu_AD'].min = 0.0\n",
    "params['mu_AD'].max = 2.3\n",
    "params['A_T'].min = 0.0\n",
    "params['A_T'].max = 1.0\n",
    "params['T'].min = 1300.0\n",
    "params['T'].max = 1700.0\n",
    "params['wav'].min = 0.0\n",
    "params['wav'].max = 10000.0\n",
    "params['wav_0'].min = 0.0\n",
    "params['wav_0'].max = 10000.0\n",
    "params['index'].min = 0.0\n",
    "params['index'].max = 10.0\n",
    "\n",
    "result = mod.fit(muK, params, X=Xhere)"
   ]
  },
  {
   "cell_type": "code",
   "execution_count": 80,
   "metadata": {},
   "outputs": [
    {
     "name": "stdout",
     "output_type": "stream",
     "text": [
      "[[Model]]\n",
      "    Model(convolution)\n",
      "[[Fit Statistics]]\n",
      "    # fitting method   = leastsq\n",
      "    # function evals   = 10\n",
      "    # data points      = 100\n",
      "    # variables        = 9\n",
      "    chi-square         = 0.67761632\n",
      "    reduced chi-square = 0.00744633\n",
      "    Akaike info crit   = -481.434424\n",
      "    Bayesian info crit = -457.987892\n",
      "##  Warning: uncertainties could not be estimated:\n",
      "    mu_DT:     at initial value\n",
      "    mu_AD:     at initial value\n",
      "    sigma_DT:  at initial value\n",
      "    sigma_AD:  at initial value\n",
      "    A_T:       at initial value\n",
      "    T:         at initial value\n",
      "    T:         at boundary\n",
      "    wav:       at initial value\n",
      "    wav_0:     at initial value\n",
      "    index:     at initial value\n",
      "[[Variables]]\n",
      "    mu_DT:     3.00000000 (init = 3)\n",
      "    mu_AD:     1.00000000 (init = 1)\n",
      "    sigma_DT:  1.00000000 (init = 1)\n",
      "    sigma_AD:  1.00000000 (init = 1)\n",
      "    A_T:       0.10000000 (init = 0.1)\n",
      "    T:         1300.00000 (init = 1300)\n",
      "    wav:       6200.00000 (init = 6200)\n",
      "    wav_0:     6200.00000 (init = 6200)\n",
      "    index:     1.00000000 (init = 1)\n"
     ]
    }
   ],
   "source": [
    "print(result.fit_report())"
   ]
  },
  {
   "cell_type": "code",
   "execution_count": 61,
   "metadata": {},
   "outputs": [],
   "source": [
    "def log_likelihood(theta, x, y, Fc, yerr):\n",
    "    sigma_DT, sigma_AD, mu_DT, mu_AD, A_T, T, wav, wav_0, K_0, index, log_f = theta\n",
    "    h = 6.626e-34#Plancks constant\n",
    "    c = 299792458#speed of light\n",
    "    k = 1.38e-23#Boltzmanns constant\n",
    "    \n",
    "    a = 2.0*h*c**2\n",
    "    b = h*c/(wav*k*T)\n",
    "    BB = a/ ( (wav**5) * (np.exp(b) - 1.0) )\n",
    "    exp_DT = -((np.log(x)-mu_DT)**2/(2*sigma_DT**2))\n",
    "    front_DT = A_T/(x*sigma_DT*np.sqrt(2*np.pi))\n",
    "    Psi_DT = BB*front_DT*np.exp(exp_DT)\n",
    "    \n",
    "    powr = K_0*(wav/wav_0)**(index)\n",
    "    exp_AD = -((np.log(x)-mu_AD)**2/(2*sigma_AD**2))\n",
    "    front_AD = (1.0-A_T)/(x*sigma_AD*np.sqrt(2*np.pi))\n",
    "    Psi_AD = powr*front_AD*np.exp(exp_AD)\n",
    "    \n",
    "    transfer = Psi_DT + Psi_AD\n",
    "    \n",
    "    model = np.convolve(transfer, Fc,'same')\n",
    "    sigma2 = yerr**2 + model**2*np.exp(2*log_f)\n",
    "    return -0.5*np.sum((y-model)**2/sigma2 + np.log(sigma2))"
   ]
  },
  {
   "cell_type": "code",
   "execution_count": 81,
   "metadata": {},
   "outputs": [
    {
     "name": "stdout",
     "output_type": "stream",
     "text": [
      "Maximum likelihood estimates:\n",
      "[ 8.96714153e-02  2.61735699e-02  1.10647689e+01  1.11523030e+01\n",
      "  4.76584663e-01  1.69997659e+03  1.01579213e+01  1.00076743e+02\n",
      "  9.53052561e-01  2.05425600e+00 -4.63417693e-02]\n"
     ]
    }
   ],
   "source": [
    "from scipy.optimize import minimize\n",
    "\n",
    "sigma_DT_val=0.04\n",
    "sigma_AD_val=0.04\n",
    "mu_DT_val=11.0\n",
    "mu_AD_val=11.0\n",
    "A_T_val=0.5\n",
    "T_val=1700.0\n",
    "wav_val=10.0\n",
    "wav_0_val=100.0\n",
    "K_0_val=1.0\n",
    "index_val=2.0\n",
    "log_f_val=0.0\n",
    "param=11\n",
    "\n",
    "np.random.seed(42)\n",
    "nll = lambda *args: -log_likelihood(*args)\n",
    "initial = np.array([sigma_DT_val, sigma_AD_val, mu_DT_val, mu_AD_val, A_T_val, T_val, wav_val, wav_0_val, K_0_val, index_val, log_f_val]) + 0.1*np.random.randn(param)\n",
    "soln = minimize(nll, initial, args=(XK_new, muK, muJ, sdK))\n",
    "sigma_DT_ml, sigma_AD_ml, mu_DT_ml, mu_AD_ml, A_T_ml, T_ml, wav_ml, wav_0_ml, K_0_ml, index_ml, log_f_ml = soln.x\n",
    "\n",
    "print(\"Maximum likelihood estimates:\")\n",
    "print(soln.x)\n",
    "  "
   ]
  },
  {
   "cell_type": "code",
   "execution_count": 82,
   "metadata": {},
   "outputs": [],
   "source": [
    "#Define simple planck function\n",
    "h = 6.626e-34\n",
    "c = 3.0e+8\n",
    "k = 1.38e-23\n",
    "\n",
    "def planck(wav, T):\n",
    "    a = 2.0*h*c**2\n",
    "    b = h*c/(wav*k*T)\n",
    "    intensity = a/ ( (wav**5) * (np.exp(b) - 1.0) )\n",
    "    return intensity\n",
    "def transferDT(x,mu,sigma,A_T,wav,T):\n",
    "    '''Defines the transfer function for the DT'''\n",
    "    BB = planck(wav, T)\n",
    "    exp = -((np.log(x)-mu)**2/(2*sigma**2))\n",
    "    front = A_T/(x*sigma*np.sqrt(2*np.pi))\n",
    "    return BB*front*np.exp(exp)\n",
    "#might need to include a normalization here\n",
    "#can you determine the index of the power law? Maybe by a fit in a filter?\n",
    "def power(wav,wav_0,K_0,index):\n",
    "    powr=K_0*(wav/wav_0)**(index)\n",
    "    return powr\n",
    "def transferAD(x,mu,sigma,A_T,wav,wav_0,K_0,index):\n",
    "    '''Defines the transfer function for the AD'''\n",
    "    powr = power(wav, wav_0, K_0, index)\n",
    "    exp = -((np.log(x)-mu)**2/(2*sigma**2))\n",
    "    front = (1.0-A_T)/(x*sigma*np.sqrt(2*np.pi))\n",
    "    return powr*front*np.exp(exp)\n",
    "def transfertot(x,mu_DT,mu_AD,sigma_DT,sigma_AD,A_T,T,wav,wav_0, K_0,index):\n",
    "    transfer_DT = transferDT(x,mu_DT,sigma_DT,A_T,wav,T)\n",
    "    transfer_AD = transferAD(x,mu_AD,sigma_AD,A_T,wav,wav_0,K_0,index)\n",
    "    return transfer_DT + transfer_AD"
   ]
  },
  {
   "cell_type": "code",
   "execution_count": 83,
   "metadata": {},
   "outputs": [],
   "source": [
    "conv=np.convolve( transfertot(XK_new,mu_DT_ml,mu_AD_ml,sigma_DT_ml,sigma_AD_ml,A_T_ml,T_ml,wav_ml,wav_0_ml,K_0_ml,index_ml), muJ, 'same')"
   ]
  },
  {
   "cell_type": "code",
   "execution_count": 88,
   "metadata": {},
   "outputs": [
    {
     "data": {
      "image/png": "[encoded data removed]",
      "text/plain": [
       "<Figure size 432x288 with 1 Axes>"
      ]
     },
     "metadata": {
      "needs_background": "light"
     },
     "output_type": "display_data"
    }
   ],
   "source": [
    "plt.errorbar(XK_new, muK, yerr=sdK, fmt=\".k\", capsize=0)\n",
    "plt.plot(XK_new, 1e15*conv, \":r\", label=\"1e15 ML\")\n",
    "plt.plot(XK_new, muJ, '*', label=\"muJ\")\n",
    "plt.legend(fontsize=14)\n",
    "plt.xlabel(\"x\")\n",
    "plt.ylabel(\"y\");  "
   ]
  },
  {
   "cell_type": "code",
   "execution_count": 19,
   "metadata": {},
   "outputs": [],
   "source": [
    "#define the prior \n",
    "def log_prior(theta):\n",
    "    sigma_DT, sigma_AD, mu_DT, mu_AD, A_T, T, wav, wav_0, K_0, index, log_f = theta\n",
    "    if (-5.0 < sigma_DT < 0.5 and 0.0 < sigma_AD < 10.0 and -10.0 < mu_DT < 1.0\n",
    "        and 0.0 < mu_AD < 10.0 and 0.0 < A_T < 1.0 and 1300.0 < T < 2000.0 and 0.0 < wav < 1e4\n",
    "        and 0.0 < wav_0 < 1e4 and 0.0 < K_0 < 10.0 and 1.0 < index < 5.0 and 0.0 < log_f < 1.0):\n",
    "        return 0.0\n",
    "    return -np.inf"
   ]
  },
  {
   "cell_type": "code",
   "execution_count": 27,
   "metadata": {},
   "outputs": [],
   "source": [
    "def log_probability(theta, x, y, Fc, yerr):\n",
    "    lp = log_prior(theta)\n",
    "    if not np.isfinite(lp):\n",
    "        return -np.inf\n",
    "    return lp + log_likelihood(theta, x, y, Fc, yerr)"
   ]
  },
  {
   "cell_type": "code",
   "execution_count": 28,
   "metadata": {},
   "outputs": [
    {
     "name": "stderr",
     "output_type": "stream",
     "text": [
      "100%|██████████| 5000/5000 [00:16<00:00, 300.56it/s]\n"
     ]
    }
   ],
   "source": [
    "import emcee\n",
    "\n",
    "pos = soln.x + 1e-4 * np.random.randn(32, 11)\n",
    "nwalkers, ndim = pos.shape\n",
    "\n",
    "sampler = emcee.EnsembleSampler(nwalkers, ndim, log_probability, args=(XK_new, muK, muJ, sdK))\n",
    "sampler.run_mcmc(pos, 5000, progress=True);"
   ]
  },
  {
   "cell_type": "code",
   "execution_count": 32,
   "metadata": {},
   "outputs": [
    {
     "data": {
      "image/png": "[encoded data removed]",
      "text/plain": [
       "<Figure size 1008x648 with 11 Axes>"
      ]
     },
     "metadata": {
      "needs_background": "light"
     },
     "output_type": "display_data"
    }
   ],
   "source": [
    "fig, axes = plt.subplots(11, figsize=(14, 9), sharex=True)\n",
    "samples = sampler.get_chain()\n",
    "labels = [\"sigma_DT\", \"sigma_AD\", \"mu_DT\", \"mu_AD\", \"A_T\", \"T\", \"wav\", \"wav_0\", \"K_0\", \"index\", \"log_f\"]\n",
    "for i in range(ndim):\n",
    "    ax = axes[i]\n",
    "    ax.plot(samples[:, :, i], \"k\", alpha=0.3)\n",
    "    ax.set_xlim(0, len(samples))\n",
    "    ax.set_ylabel(labels[i])\n",
    "    ax.yaxis.set_label_coords(-0.1, 0.5)\n",
    "\n",
    "axes[-1].set_xlabel(\"step number\");"
   ]
  },
  {
   "cell_type": "code",
   "execution_count": 33,
   "metadata": {},
   "outputs": [
    {
     "name": "stdout",
     "output_type": "stream",
     "text": [
      "[nan nan nan nan nan nan nan nan nan nan nan]\n"
     ]
    }
   ],
   "source": [
    "tau = sampler.get_autocorr_time()\n",
    "print(tau)"
   ]
  },
  {
   "cell_type": "code",
   "execution_count": 34,
   "metadata": {},
   "outputs": [
    {
     "name": "stdout",
     "output_type": "stream",
     "text": [
      "(10432, 11)\n"
     ]
    }
   ],
   "source": [
    "flat_samples = sampler.get_chain(discard=100, thin=15, flat=True)\n",
    "print(flat_samples.shape)"
   ]
  },
  {
   "cell_type": "code",
   "execution_count": 77,
   "metadata": {},
   "outputs": [
    {
     "data": {
      "text/plain": [
       "3.602495921120419e-25"
      ]
     },
     "execution_count": 77,
     "metadata": {},
     "output_type": "execute_result"
    }
   ],
   "source": [
    "planck(wav_ml,T_ml)"
   ]
  },
  {
   "cell_type": "code",
   "execution_count": 78,
   "metadata": {},
   "outputs": [
    {
     "data": {
      "text/plain": [
       "array([1.23599445e-47, 1.23282825e-47, 1.22967055e-47, 1.22652132e-47,\n",
       "       1.22338052e-47, 1.22024815e-47, 1.21712417e-47, 1.21400857e-47,\n",
       "       1.21090131e-47, 1.20780238e-47, 1.20471175e-47, 1.20162940e-47,\n",
       "       1.19855530e-47, 1.19548944e-47, 1.19243179e-47, 1.18938232e-47,\n",
       "       1.18634101e-47, 1.18330785e-47, 1.18028280e-47, 1.17726585e-47,\n",
       "       1.17425697e-47, 1.17125615e-47, 1.16826335e-47, 1.16527855e-47,\n",
       "       1.16230174e-47, 1.15933288e-47, 1.15637197e-47, 1.15341897e-47,\n",
       "       1.15047386e-47, 1.14753663e-47, 1.14460724e-47, 1.14168569e-47,\n",
       "       1.13877194e-47, 1.13586597e-47, 1.13296777e-47, 1.13007730e-47,\n",
       "       1.12719456e-47, 1.12431951e-47, 1.12145214e-47, 1.11859243e-47,\n",
       "       1.11574035e-47, 1.11289587e-47, 1.11005900e-47, 1.10722969e-47,\n",
       "       1.10440792e-47, 1.10159369e-47, 1.09878696e-47, 1.09598772e-47,\n",
       "       1.09319594e-47, 1.09041161e-47, 1.08763470e-47, 1.08486519e-47,\n",
       "       1.08210307e-47, 1.07934830e-47, 1.07660088e-47, 1.07386077e-47,\n",
       "       1.07112797e-47, 1.06840245e-47, 1.06568418e-47, 1.06297316e-47,\n",
       "       1.06026935e-47, 1.05757274e-47, 1.05488332e-47, 1.05220105e-47,\n",
       "       1.04952592e-47, 1.04685790e-47, 1.04419699e-47, 1.04154316e-47,\n",
       "       1.03889639e-47, 1.03625666e-47, 1.03362395e-47, 1.03099824e-47,\n",
       "       1.02837951e-47, 1.02576774e-47, 1.02316292e-47, 1.02056502e-47,\n",
       "       1.01797402e-47, 1.01538992e-47, 1.01281267e-47, 1.01024228e-47,\n",
       "       1.00767871e-47, 1.00512195e-47, 1.00257198e-47, 1.00002879e-47,\n",
       "       9.97492342e-48, 9.94962632e-48, 9.92439637e-48, 9.89923339e-48,\n",
       "       9.87413719e-48, 9.84910758e-48, 9.82414438e-48, 9.79924741e-48,\n",
       "       9.77441649e-48, 9.74965142e-48, 9.72495203e-48, 9.70031813e-48,\n",
       "       9.67574955e-48, 9.65124610e-48, 9.62680761e-48, 9.60243388e-48])"
      ]
     },
     "execution_count": 78,
     "metadata": {},
     "output_type": "execute_result"
    }
   ],
   "source": [
    "transferDT(XK_new,mu_DT_ml,sigma_DT_ml,A_T_ml,wav_ml,T_ml)"
   ]
  },
  {
   "cell_type": "code",
   "execution_count": 79,
   "metadata": {},
   "outputs": [
    {
     "data": {
      "text/plain": [
       "1.2393355011140388"
      ]
     },
     "execution_count": 79,
     "metadata": {},
     "output_type": "execute_result"
    }
   ],
   "source": [
    "power(wav_ml,wav_0_ml,K_0_ml,index_ml)"
   ]
  },
  {
   "cell_type": "code",
   "execution_count": 80,
   "metadata": {},
   "outputs": [
    {
     "data": {
      "text/plain": [
       "array([8.32666782e-62, 8.28452954e-62, 8.24260997e-62, 8.20090794e-62,\n",
       "       8.15942230e-62, 8.11815188e-62, 8.07709555e-62, 8.03625217e-62,\n",
       "       7.99562061e-62, 7.95519974e-62, 7.91498844e-62, 7.87498560e-62,\n",
       "       7.83519010e-62, 7.79560086e-62, 7.75621676e-62, 7.71703673e-62,\n",
       "       7.67805968e-62, 7.63928453e-62, 7.60071021e-62, 7.56233565e-62,\n",
       "       7.52415979e-62, 7.48618158e-62, 7.44839997e-62, 7.41081392e-62,\n",
       "       7.37342238e-62, 7.33622433e-62, 7.29921874e-62, 7.26240459e-62,\n",
       "       7.22578087e-62, 7.18934656e-62, 7.15310066e-62, 7.11704217e-62,\n",
       "       7.08117010e-62, 7.04548346e-62, 7.00998126e-62, 6.97466254e-62,\n",
       "       6.93952632e-62, 6.90457163e-62, 6.86979752e-62, 6.83520301e-62,\n",
       "       6.80078718e-62, 6.76654906e-62, 6.73248771e-62, 6.69860221e-62,\n",
       "       6.66489163e-62, 6.63135502e-62, 6.59799149e-62, 6.56480010e-62,\n",
       "       6.53177995e-62, 6.49893014e-62, 6.46624976e-62, 6.43373792e-62,\n",
       "       6.40139373e-62, 6.36921630e-62, 6.33720475e-62, 6.30535820e-62,\n",
       "       6.27367578e-62, 6.24215662e-62, 6.21079987e-62, 6.17960466e-62,\n",
       "       6.14857015e-62, 6.11769547e-62, 6.08697980e-62, 6.05642228e-62,\n",
       "       6.02602209e-62, 5.99577840e-62, 5.96569037e-62, 5.93575719e-62,\n",
       "       5.90597805e-62, 5.87635212e-62, 5.84687860e-62, 5.81755668e-62,\n",
       "       5.78838558e-62, 5.75936448e-62, 5.73049261e-62, 5.70176918e-62,\n",
       "       5.67319339e-62, 5.64476448e-62, 5.61648168e-62, 5.58834420e-62,\n",
       "       5.56035129e-62, 5.53250219e-62, 5.50479613e-62, 5.47723237e-62,\n",
       "       5.44981015e-62, 5.42252873e-62, 5.39538738e-62, 5.36838534e-62,\n",
       "       5.34152190e-62, 5.31479631e-62, 5.28820786e-62, 5.26175582e-62,\n",
       "       5.23543948e-62, 5.20925812e-62, 5.18321104e-62, 5.15729752e-62,\n",
       "       5.13151687e-62, 5.10586839e-62, 5.08035138e-62, 5.05496515e-62])"
      ]
     },
     "execution_count": 80,
     "metadata": {},
     "output_type": "execute_result"
    }
   ],
   "source": [
    "transferAD(XK_new,mu_AD_ml,sigma_AD_ml,A_T_ml,wav_ml,wav_0_ml,K_0_ml,index_ml)"
   ]
  },
  {
   "cell_type": "code",
   "execution_count": null,
   "metadata": {},
   "outputs": [],
   "source": []
  }
 ],
 "metadata": {
  "kernelspec": {
   "display_name": "Python 3",
   "language": "python",
   "name": "python3"
  },
  "language_info": {
   "codemirror_mode": {
    "name": "ipython",
    "version": 3
   },
   "file_extension": ".py",
   "mimetype": "text/x-python",
   "name": "python",
   "nbconvert_exporter": "python",
   "pygments_lexer": "ipython3",
   "version": "3.7.3"
  }
 },
 "nbformat": 4,
 "nbformat_minor": 2
}
