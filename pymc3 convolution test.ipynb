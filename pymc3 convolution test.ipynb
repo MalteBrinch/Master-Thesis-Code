{
 "cells": [
  {
   "cell_type": "code",
   "execution_count": 1,
   "metadata": {},
   "outputs": [],
   "source": [
    "import numpy as np\n",
    "import matplotlib.pyplot as plt\n",
    "import pymc3 as pm\n",
    "import theano\n",
    "import theano.tensor as tt\n",
    "from theano.tensor import fft\n",
    "\n",
    "muJ=np.asarray([-0.03425363, -0.03351397, -0.02664699, -0.02273714, -0.03174768,\n",
    "       -0.03957353, -0.04738784, -0.05586893, -0.06363427, -0.07391645,\n",
    "       -0.08178534, -0.08926872, -0.09593623, -0.09036217, -0.07807825,\n",
    "       -0.06753805, -0.05767188, -0.06243789, -0.06809364, -0.06405182,\n",
    "       -0.06114183, -0.04508844, -0.03290343, -0.02404407, -0.02079736,\n",
    "       -0.03644591, -0.03598996, -0.03445805, -0.03331908, -0.01566788,\n",
    "       -0.01656279, -0.01754197, -0.0130746 ,  0.00193958,  0.01056539,\n",
    "        0.01698442,  0.0382919 ,  0.05958532,  0.06605687,  0.07316159,\n",
    "        0.07929714,  0.08111757,  0.08236758,  0.08409051,  0.07132862,\n",
    "        0.06410184,  0.06383741,  0.0638774 ,  0.06268115,  0.0642296 ,\n",
    "        0.07699274,  0.09465466,  0.10719381,  0.07496593,  0.04823132,\n",
    "        0.02464346,  0.00900288, -0.00262479, -0.01581547, -0.02713472,\n",
    "       -0.04211868, -0.06695968, -0.0843794 , -0.0838455 , -0.09070336,\n",
    "       -0.09610623, -0.09881969, -0.09027169, -0.08033855, -0.06809048,\n",
    "       -0.04661056, -0.01563495,  0.0156263 ,  0.03325961,  0.04721029,\n",
    "        0.0665903 ,  0.09242785,  0.10892494,  0.12218285,  0.1282392 ,\n",
    "        0.13511139,  0.14373963,  0.15130526,  0.15932193,  0.1431794 ,\n",
    "        0.08651746,  0.06932233,  0.05781805,  0.05321184,  0.04833902,\n",
    "        0.04359331,  0.03972242,  0.03617235,  0.0324834 ,  0.04958008,\n",
    "        0.05654622,  0.05459009,  0.07174552,  0.09021518,  0.10966458])\n",
    "XK_new=np.linspace(57690.160596,58541.349392,100,dtype=np.float64)\n",
    "\n",
    "muK = np.asarray([-0.0188423 , -0.01101513, -0.02182555, -0.04066994, -0.0372273 ,\n",
    "       -0.04142979, -0.04643643, -0.05618733, -0.06305947, -0.07055236,\n",
    "       -0.07793845, -0.08585502, -0.06063842, -0.04144011, -0.04482767,\n",
    "       -0.05074738, -0.05828078, -0.06202257, -0.0469031 , -0.03229114,\n",
    "       -0.01682147, -0.00109132,  0.01100408,  0.02217135,  0.00313528,\n",
    "       -0.01391616, -0.02103778, -0.00784842, -0.00958049, -0.00958786,\n",
    "        0.01109297, -0.00763489, -0.02091672, -0.01876265,  0.00469278,\n",
    "        0.0188317 ,  0.03078942,  0.04751188,  0.06810743,  0.07498746,\n",
    "        0.08292102,  0.08732753,  0.10046523,  0.11947633,  0.13786948,\n",
    "        0.14400703,  0.13987333,  0.13111406,  0.12287179,  0.11626273,\n",
    "        0.11051379,  0.09606653,  0.03146849, -0.03145527, -0.03731231,\n",
    "        0.05864158,  0.10667121,  0.12383762,  0.11461967,  0.08906796,\n",
    "        0.06559065,  0.04109558,  0.02030753, -0.00256419, -0.02360279,\n",
    "       -0.04425853, -0.07565115, -0.11281323, -0.158842  , -0.15194773,\n",
    "       -0.13758974, -0.12698046, -0.11453399, -0.09043922, -0.06368814,\n",
    "       -0.03801246, -0.01361853,  0.01826796,  0.04772783,  0.0783482 ,\n",
    "        0.10210635,  0.11343715,  0.11997221,  0.12888862,  0.14047052,\n",
    "        0.1510065 ,  0.16296829,  0.15034888,  0.12048199,  0.10888384,\n",
    "        0.10030352,  0.09039116,  0.08457157,  0.07565612,  0.06965578,\n",
    "        0.06232899,  0.05684617,  0.07264807,  0.09185271,  0.10704618])\n",
    "\n",
    "sdK= np.asarray([0.01988143, 0.02823802, 0.02842399, 0.02519744, 0.02685983,\n",
    "       0.03892542, 0.05028333, 0.05689614, 0.05813455, 0.05403651,\n",
    "       0.04471803, 0.02418143, 0.03161986, 0.02934869, 0.04177712,\n",
    "       0.04655686, 0.03921996, 0.02387052, 0.02670243, 0.0358775 ,\n",
    "       0.0404354 , 0.02561409, 0.03271019, 0.02208746, 0.03147129,\n",
    "       0.02778667, 0.01997748, 0.02645743, 0.02909296, 0.02507729,\n",
    "       0.02358237, 0.03032299, 0.02790866, 0.01985626, 0.02860159,\n",
    "       0.02765181, 0.02107263, 0.03497932, 0.0255268 , 0.03756821,\n",
    "       0.04205965, 0.03471579, 0.03107883, 0.03834469, 0.03036075,\n",
    "       0.02955552, 0.0268117 , 0.04630602, 0.05364562, 0.0514371 ,\n",
    "       0.04249924, 0.0266177 , 0.03959254, 0.04223779, 0.03861979,\n",
    "       0.02962969, 0.03502534, 0.03253784, 0.03910857, 0.04728147,\n",
    "       0.0472931 , 0.03952985, 0.0238944 , 0.03969748, 0.04179032,\n",
    "       0.02498722, 0.03114984, 0.02718431, 0.02714058, 0.03081888,\n",
    "       0.02916275, 0.0340881 , 0.02559767, 0.02691825, 0.03102352,\n",
    "       0.02701771, 0.01996262, 0.02890135, 0.02935551, 0.02249271,\n",
    "       0.02631584, 0.03960783, 0.05016029, 0.05681583, 0.05473107,\n",
    "       0.04716982, 0.03231861, 0.02949984, 0.02315253, 0.0270892 ,\n",
    "       0.03911139, 0.05046017, 0.05845151, 0.05975193, 0.05511116,\n",
    "       0.04632993, 0.02836088, 0.02897927, 0.02732322, 0.02084374])"
   ]
  },
  {
   "cell_type": "code",
   "execution_count": 2,
   "metadata": {},
   "outputs": [],
   "source": [
    "import numpy as np\n",
    "import theano\n",
    "import theano.tensor as tt\n",
    "from theano.tensor import fft\n",
    "\n",
    "x = tt.matrix('x')\n",
    "\n",
    "rfft = fft.rfft(x, norm='ortho')\n",
    "f_rfft = theano.function([x], rfft)\n",
    "\n",
    "N = 1024\n",
    "box = np.zeros((1, N))\n",
    "box[:, N//2-10: N//2+10] = 1\n",
    "\n",
    "out = f_rfft(box)\n",
    "c_out = np.asarray(out[0, :, 0] + 1j*out[0, :, 1])\n",
    "abs_out = abs(c_out)"
   ]
  },
  {
   "cell_type": "code",
   "execution_count": 13,
   "metadata": {},
   "outputs": [
    {
     "data": {
      "text/plain": [
       "(100,)"
      ]
     },
     "execution_count": 13,
     "metadata": {},
     "output_type": "execute_result"
    }
   ],
   "source": [
    "import theano\n",
    "import theano.tensor as tt\n",
    "from theano.tensor.nnet import conv\n",
    "import lasagne\n",
    "\n",
    "conv2d = theano.tensor.nnet.conv2d\n",
    "\n",
    "#x = tt.matrix()\n",
    "#y = tt.matrix()\n",
    "\n",
    "#veclen = x.shape[1]\n",
    "#print(veclen)\n",
    "\n",
    "#conv1d_expr = conv2d(x, y, input_shape=(1, veclen), border_mode='full')\n",
    "\n",
    "#conv1d = theano.function([x, y], outputs=conv1d_expr)\n",
    "muJ.shape"
   ]
  },
  {
   "cell_type": "code",
   "execution_count": 5,
   "metadata": {},
   "outputs": [
    {
     "ename": "TypeError",
     "evalue": "conv2d() missing 1 required positional argument: 'filters'",
     "output_type": "error",
     "traceback": [
      "\u001b[1;31m---------------------------------------------------------------------------\u001b[0m",
      "\u001b[1;31mTypeError\u001b[0m                                 Traceback (most recent call last)",
      "\u001b[1;32m<ipython-input-5-53bdb3d16420>\u001b[0m in \u001b[0;36m<module>\u001b[1;34m\u001b[0m\n\u001b[0;32m     40\u001b[0m     \u001b[0mconv2d\u001b[0m \u001b[1;33m=\u001b[0m \u001b[0mtheano\u001b[0m\u001b[1;33m.\u001b[0m\u001b[0mtensor\u001b[0m\u001b[1;33m.\u001b[0m\u001b[0mnnet\u001b[0m\u001b[1;33m.\u001b[0m\u001b[0mconv2d\u001b[0m\u001b[1;33m\u001b[0m\u001b[1;33m\u001b[0m\u001b[0m\n\u001b[0;32m     41\u001b[0m \u001b[1;33m\u001b[0m\u001b[0m\n\u001b[1;32m---> 42\u001b[1;33m     \u001b[0mconv1d_expr\u001b[0m \u001b[1;33m=\u001b[0m \u001b[0mconv2d\u001b[0m\u001b[1;33m(\u001b[0m\u001b[1;33m[\u001b[0m\u001b[0mtransfer\u001b[0m\u001b[1;33m,\u001b[0m\u001b[0mmuJ\u001b[0m\u001b[1;33m,\u001b[0m\u001b[1;36m1\u001b[0m\u001b[1;33m,\u001b[0m\u001b[1;36m1\u001b[0m\u001b[1;33m]\u001b[0m\u001b[1;33m,\u001b[0m \u001b[0minput_shape\u001b[0m\u001b[1;33m=\u001b[0m\u001b[1;33m(\u001b[0m\u001b[0mlen\u001b[0m\u001b[1;33m(\u001b[0m\u001b[0mmuJ\u001b[0m\u001b[1;33m)\u001b[0m\u001b[1;33m,\u001b[0m\u001b[0mlen\u001b[0m\u001b[1;33m(\u001b[0m\u001b[0mmuJ\u001b[0m\u001b[1;33m)\u001b[0m\u001b[1;33m,\u001b[0m\u001b[1;36m1\u001b[0m\u001b[1;33m,\u001b[0m\u001b[1;36m1\u001b[0m\u001b[1;33m)\u001b[0m\u001b[1;33m,\u001b[0m\u001b[0mfilter_shape\u001b[0m\u001b[1;33m=\u001b[0m\u001b[1;32mNone\u001b[0m \u001b[1;33m,\u001b[0m\u001b[0mborder_mode\u001b[0m\u001b[1;33m=\u001b[0m\u001b[1;34m'full'\u001b[0m\u001b[1;33m)\u001b[0m\u001b[1;33m\u001b[0m\u001b[1;33m\u001b[0m\u001b[0m\n\u001b[0m\u001b[0;32m     43\u001b[0m \u001b[1;33m\u001b[0m\u001b[0m\n\u001b[0;32m     44\u001b[0m     \u001b[1;31m#conv= np.convolve(transfer,muJ,'same')\u001b[0m\u001b[1;33m\u001b[0m\u001b[1;33m\u001b[0m\u001b[1;33m\u001b[0m\u001b[0m\n",
      "\u001b[1;31mTypeError\u001b[0m: conv2d() missing 1 required positional argument: 'filters'"
     ]
    }
   ],
   "source": [
    "import theano\n",
    "import theano.tensor as tt\n",
    "from theano.tensor.nnet import conv\n",
    "import lasagne\n",
    "\n",
    "with pm.Model() as convmodel:\n",
    "    \n",
    "    # Define priors\n",
    "    sigma_DT=pm.Uniform('sigma_DT', lower=-7.0, upper=2.0)\n",
    "    sigma_AD=pm.Uniform('sigma_AD', lower=-7.0, upper=2.0)\n",
    "    mu_DT=pm.Uniform('mu_DT', lower=2.7, upper=4.0)\n",
    "    mu_AD=pm.Uniform('mu_AD', lower=0.0, upper=2.3)\n",
    "    A_T=pm.Uniform('A_T', lower=0.0, upper=1.0)\n",
    "    T=pm.Uniform('T', lower=1300.0, upper=1700.0)\n",
    "    wav=pm.Uniform('wav', lower=0.0, upper=10000.0)\n",
    "    wav_0=pm.Uniform('wav_0', lower=0.0, upper=10000.0)\n",
    "    index=pm.Uniform('index', lower=0.0, upper=10.0)\n",
    "   \n",
    "    h = 6.626e-34#Plancks constant\n",
    "    c = 299792458#speed of light\n",
    "    k = 1.38e-23#Boltzmanns constant\n",
    "    \n",
    "    a = 2.0*h*c**2\n",
    "    b = h*c/(wav*k*T)\n",
    "    BB = a/ ( (wav**5) * (np.exp(b) - 1.0) )\n",
    "    exp_DT = -((tt.log(XK_new)-mu_DT)**2/(2*sigma_DT**2))\n",
    "    front_DT = A_T/(XK_new*sigma_DT*np.sqrt(2*np.pi))\n",
    "    Psi_DT = BB*front_DT*np.exp(exp_DT)\n",
    "    powr = (wav/wav_0)**(index)\n",
    "    exp_AD = -((tt.log(XK_new)-mu_AD)**2/(2*sigma_AD**2))\n",
    "    front_AD = (1.0-A_T)/(XK_new*sigma_AD*np.sqrt(2*np.pi))\n",
    "    Psi_AD = powr*front_AD*tt.exp(exp_AD)\n",
    "    transfer = Psi_DT + Psi_AD\n",
    "    \n",
    "    #ffttransfer= theano.tensor.fft.rfft(transfer,norm='ortho')#np.fft.fft(transfer)#theano.tensor.fft.rfft(transfer,norm='ortho')#np.fft.fft(transfer)#theano.tensor.fft.rfft(transfer)##f_rfft(transfer)#\n",
    "    #fftmu= np.fft.fft(mu)#theano.tensor.fft.rfft(Fc)#np.fft.fft(mu)\n",
    "    #con=ffttransfer*fftmu\n",
    "    #conv= theano.tensor.fft.irfft(con)#f_irftt(con)#np.fft.ifft(ffttransfer*fftmu)\n",
    "    \n",
    "    conv2d = theano.tensor.nnet.conv2d\n",
    "\n",
    "    conv1d_expr = conv2d([transfer,muJ,1,1], input_shape=(len(muJ),len(muJ),1,1),filter_shape=None ,border_mode='full')\n",
    "    \n",
    "    #conv= np.convolve(transfer,muJ,'same')\n",
    "    #conv = np.fft.ifft(np.fft.fft(transfer) * np.fft.fft(muJ)).real\n",
    "    \n",
    "    likelihood = pm.Normal('muK', mu=conv1d_expr, sigma=sdK, observed=muK)\n",
    "\n",
    "    tracetransfer = pm.sample(2000)"
   ]
  },
  {
   "cell_type": "markdown",
   "metadata": {},
   "source": [
    "# All of this stuff below is just for looking at the transfer function and using MCMC hammer instead"
   ]
  },
  {
   "cell_type": "code",
   "execution_count": 4,
   "metadata": {},
   "outputs": [],
   "source": [
    "#Define simple planck function\n",
    "h = 6.626e-34\n",
    "c = 3.0e+8\n",
    "k = 1.38e-23\n",
    "\n",
    "def planck(wav, T):\n",
    "    a = 2.0*h*c**2\n",
    "    b = h*c/(wav*k*T)\n",
    "    intensity = a/ ( (wav**5) * (np.exp(b) - 1.0) )\n",
    "    return 1e45*intensity"
   ]
  },
  {
   "cell_type": "code",
   "execution_count": 5,
   "metadata": {},
   "outputs": [],
   "source": [
    "def transferDT(x,mu,sigma,A_T,wav,T):\n",
    "    '''Defines the transfer function for the DT'''\n",
    "    BB = planck(wav, T)\n",
    "    exp = -((np.log(x)-mu)**2/(2*sigma**2))\n",
    "    front = A_T/(x*sigma*np.sqrt(2*np.pi))\n",
    "    return BB*front*np.exp(exp)"
   ]
  },
  {
   "cell_type": "code",
   "execution_count": 6,
   "metadata": {},
   "outputs": [],
   "source": [
    "#might need to include a normalization here\n",
    "#can you determine the index of the power law? Maybe by a fit in a filter?\n",
    "def power(wav,wav_0,index):\n",
    "    powr=(wav/wav_0)**(index)\n",
    "    return powr"
   ]
  },
  {
   "cell_type": "code",
   "execution_count": 7,
   "metadata": {},
   "outputs": [],
   "source": [
    "def transferAD(x,mu,sigma,A_T,wav,wav_0,index):\n",
    "    '''Defines the transfer function for the AD'''\n",
    "    powr = power(wav, wav_0, index)\n",
    "    exp = -((np.log(x)-mu)**2/(2*sigma**2))\n",
    "    front = (1.0-A_T)/(x*sigma*np.sqrt(2*np.pi))\n",
    "    return powr*front*np.exp(exp)"
   ]
  },
  {
   "cell_type": "code",
   "execution_count": 8,
   "metadata": {},
   "outputs": [],
   "source": [
    "def transfertot(x,mu_DT,mu_AD,sigma_DT,sigma_AD,A_T,T,wav,wav_0,index):\n",
    "    transfer_DT = transferDT(x,mu_DT,sigma_DT,A_T,wav,T)\n",
    "    transfer_AD = transferAD(x,mu_AD,sigma_AD,A_T,wav,wav_0,index)\n",
    "    return transfer_DT + transfer_AD"
   ]
  },
  {
   "cell_type": "code",
   "execution_count": 9,
   "metadata": {},
   "outputs": [
    {
     "data": {
      "image/png": "[encoded data removed]",
      "text/plain": [
       "<Figure size 432x288 with 1 Axes>"
      ]
     },
     "metadata": {
      "needs_background": "light"
     },
     "output_type": "display_data"
    }
   ],
   "source": [
    "#define some data and parameters and plot the transfer functions \n",
    "#tau=np.linspace(0.01,4,100)\n",
    "sigma_DT=1\n",
    "sigma_AD=1\n",
    "mu_DT=12\n",
    "mu_AD=1\n",
    "A_T=0.4\n",
    "T=1700\n",
    "wav=6200\n",
    "wav_0=6200\n",
    "index=1.0\n",
    "\n",
    "resDT= transferDT(XK_new,mu_DT,sigma_DT,A_T,wav,T)\n",
    "resAD= transferAD(XK_new,mu_AD,sigma_AD,A_T,wav,wav_0,index)\n",
    "ressum= resDT+resAD#transfertot(X_new,mu_DT,mu_AD,sigma_DT,sigma_AD,A_T,T,wav,wav_0,index)\n",
    "#ffttransfer= theano.tensor.fft.irfft(resDT*resAD)\n",
    "plt.plot(XK_new,resDT,'r',label=\"Dusty Torus\")\n",
    "plt.plot(XK_new,resAD,'b',label=\"Accretion Disk\")\n",
    "plt.plot(XK_new,ressum,'g',label=\"Sum\")\n",
    "plt.xlabel(\"tau\")\n",
    "plt.ylabel(\"Transfer function\")\n",
    "plt.legend()\n",
    "plt.show()"
   ]
  },
  {
   "cell_type": "code",
   "execution_count": 10,
   "metadata": {},
   "outputs": [],
   "source": [
    "def convolution(X,mu_DT,mu_AD,sigma_DT,sigma_AD,A_T,T,wav,wav_0,index):\n",
    "    x,muJ=X\n",
    "    convol=np.convolve(transfertot(x,mu_DT,mu_AD,sigma_DT,sigma_AD,A_T,T,wav,wav_0,index),muJ,'same')\n",
    "    return convol"
   ]
  },
  {
   "cell_type": "code",
   "execution_count": 12,
   "metadata": {},
   "outputs": [
    {
     "data": {
      "text/plain": [
       "[<matplotlib.lines.Line2D at 0x1f4875e3940>]"
      ]
     },
     "execution_count": 12,
     "metadata": {},
     "output_type": "execute_result"
    },
    {
     "data": {
      "image/png": "[encoded data removed]",
      "text/plain": [
       "<Figure size 432x288 with 1 Axes>"
      ]
     },
     "metadata": {
      "needs_background": "light"
     },
     "output_type": "display_data"
    }
   ],
   "source": [
    "Xhere=[XK_new,muJ]\n",
    "convol=convolution(Xhere,mu_DT,mu_AD,sigma_DT,sigma_AD,A_T,T,wav,wav_0,index)\n",
    "\n",
    "plt.plot(XK_new,convol)\n",
    "#plt.plot(XK_new,conv*1e26)\n",
    "#plt.plot(XK_new,conv-convol)\n",
    "#plt.plot(XK_new,muK)\n"
   ]
  },
  {
   "cell_type": "code",
   "execution_count": 58,
   "metadata": {},
   "outputs": [],
   "source": [
    "import matplotlib.pyplot as plt\n",
    "from scipy.optimize import curve_fit\n",
    "\n",
    "\n",
    "p0= 12., 1., 1., 1., 0.4, 1700., 6200., 6200., 1.0\n",
    "popt, pcov = curve_fit(convolution, [XK_new,muJ], muK, p0)"
   ]
  },
  {
   "cell_type": "code",
   "execution_count": 59,
   "metadata": {},
   "outputs": [
    {
     "data": {
      "text/plain": [
       "array([1.2e+01, 1.0e+00, 1.0e+00, 1.0e+00, 4.0e-01, 1.7e+03, 6.2e+03,\n",
       "       6.2e+03, 1.0e+00])"
      ]
     },
     "execution_count": 59,
     "metadata": {},
     "output_type": "execute_result"
    }
   ],
   "source": [
    "popt"
   ]
  },
  {
   "cell_type": "code",
   "execution_count": 68,
   "metadata": {},
   "outputs": [
    {
     "data": {
      "text/plain": [
       "[<matplotlib.lines.Line2D at 0x29c3fd90828>]"
      ]
     },
     "execution_count": 68,
     "metadata": {},
     "output_type": "execute_result"
    },
    {
     "data": {
      "image/png": "[encoded data removed]",
      "text/plain": [
       "<Figure size 432x288 with 1 Axes>"
      ]
     },
     "metadata": {
      "needs_background": "light"
     },
     "output_type": "display_data"
    }
   ],
   "source": [
    "#plt.plot(XK_new,muK)\n",
    "plt.plot(XK_new,convolution(Xhere,popt[0],popt[1],popt[2],popt[3],popt[4],popt[5],popt[6],popt[7],popt[8]))"
   ]
  },
  {
   "cell_type": "code",
   "execution_count": 69,
   "metadata": {},
   "outputs": [],
   "source": [
    "from lmfit import Model\n",
    "mod = Model(convolution)"
   ]
  },
  {
   "cell_type": "code",
   "execution_count": 79,
   "metadata": {},
   "outputs": [],
   "source": [
    "params = mod.make_params(mu_DT=3.,mu_AD=1.,sigma_DT=1.,sigma_AD=1.,A_T=0.1,T=1300.,wav=6200.,wav_0=6200.,index=1.0)\n",
    "\n",
    "params['sigma_DT'].min = -7.0\n",
    "params['sigma_DT'].max = 2.0\n",
    "params['sigma_AD'].min = -7.0\n",
    "params['sigma_AD'].max = 2.0\n",
    "params['mu_DT'].min = 2.7\n",
    "params['mu_DT'].max = 4.0\n",
    "params['mu_AD'].min = 0.0\n",
    "params['mu_AD'].max = 2.3\n",
    "params['A_T'].min = 0.0\n",
    "params['A_T'].max = 1.0\n",
    "params['T'].min = 1300.0\n",
    "params['T'].max = 1700.0\n",
    "params['wav'].min = 0.0\n",
    "params['wav'].max = 10000.0\n",
    "params['wav_0'].min = 0.0\n",
    "params['wav_0'].max = 10000.0\n",
    "params['index'].min = 0.0\n",
    "params['index'].max = 10.0\n",
    "\n",
    "result = mod.fit(muK, params, X=Xhere)"
   ]
  },
  {
   "cell_type": "code",
   "execution_count": 80,
   "metadata": {},
   "outputs": [
    {
     "name": "stdout",
     "output_type": "stream",
     "text": [
      "[[Model]]\n",
      "    Model(convolution)\n",
      "[[Fit Statistics]]\n",
      "    # fitting method   = leastsq\n",
      "    # function evals   = 10\n",
      "    # data points      = 100\n",
      "    # variables        = 9\n",
      "    chi-square         = 0.67761632\n",
      "    reduced chi-square = 0.00744633\n",
      "    Akaike info crit   = -481.434424\n",
      "    Bayesian info crit = -457.987892\n",
      "##  Warning: uncertainties could not be estimated:\n",
      "    mu_DT:     at initial value\n",
      "    mu_AD:     at initial value\n",
      "    sigma_DT:  at initial value\n",
      "    sigma_AD:  at initial value\n",
      "    A_T:       at initial value\n",
      "    T:         at initial value\n",
      "    T:         at boundary\n",
      "    wav:       at initial value\n",
      "    wav_0:     at initial value\n",
      "    index:     at initial value\n",
      "[[Variables]]\n",
      "    mu_DT:     3.00000000 (init = 3)\n",
      "    mu_AD:     1.00000000 (init = 1)\n",
      "    sigma_DT:  1.00000000 (init = 1)\n",
      "    sigma_AD:  1.00000000 (init = 1)\n",
      "    A_T:       0.10000000 (init = 0.1)\n",
      "    T:         1300.00000 (init = 1300)\n",
      "    wav:       6200.00000 (init = 6200)\n",
      "    wav_0:     6200.00000 (init = 6200)\n",
      "    index:     1.00000000 (init = 1)\n"
     ]
    }
   ],
   "source": [
    "print(result.fit_report())"
   ]
  },
  {
   "cell_type": "code",
   "execution_count": 297,
   "metadata": {},
   "outputs": [],
   "source": [
    "def log_likelihood(theta, x, y, Fc, yerr):\n",
    "    sigma_DT, sigma_AD, mu_DT, mu_AD, A_T, T, wav, wav_0, K_0, index, log_f = theta\n",
    "    h = 6.626e-34#Plancks constant\n",
    "    c = 299792458#speed of light\n",
    "    k = 1.38e-23#Boltzmanns constant\n",
    "    wav=1e-9*wav\n",
    "    \n",
    "    a = 2.0*h*c**2\n",
    "    b = h*c/(wav*k*T)\n",
    "    #norm = h/(k*T)#added\n",
    "    BB = a/ ( (wav**5) * (np.exp(b) - 1.0) )\n",
    "    exp_DT = -((np.log(x)-mu_DT)**2/(2*sigma_DT**2))\n",
    "    front_DT = A_T/(x*sigma_DT*np.sqrt(2*np.pi))\n",
    "    Psi_DT = BB*front_DT*np.exp(exp_DT)\n",
    "    \n",
    "    powr = K_0*(wav/wav_0)**(index)\n",
    "    exp_AD = -((np.log(x)-mu_AD)**2/(2*sigma_AD**2))\n",
    "    front_AD = (1.0-A_T)/(x*sigma_AD*np.sqrt(2*np.pi))\n",
    "    Psi_AD = powr*front_AD*np.exp(exp_AD)\n",
    "    \n",
    "    transfer = Psi_DT + Psi_AD\n",
    "    \n",
    "    model = np.convolve(transfer, Fc,'same')\n",
    "    sigma2 = yerr**2 + model**2*np.exp(2*log_f)\n",
    "    return -0.5*np.sum((y-model)**2/sigma2 + np.log(sigma2))"
   ]
  },
  {
   "cell_type": "code",
   "execution_count": 321,
   "metadata": {},
   "outputs": [
    {
     "name": "stdout",
     "output_type": "stream",
     "text": [
      "Maximum likelihood estimates:\n",
      "[ 1.38107015e-01  6.14600251e-03  1.02088463e+01  2.43591770e+00\n",
      "  3.30481034e-02  1.79989238e+03  2.20018172e+03  2.20007673e+03\n",
      "  1.00000000e+28 -1.66715166e+00  3.49668432e-01]\n"
     ]
    }
   ],
   "source": [
    "from scipy.optimize import minimize\n",
    "\n",
    "sigma_DT_val=1.0#.00.04\n",
    "sigma_AD_val=1.0#0.04\n",
    "mu_DT_val=5.5\n",
    "mu_AD_val=2.4#11.0\n",
    "A_T_val=0.5\n",
    "T_val=1800.0\n",
    "wav_val=2200.0#10.0\n",
    "wav_0_val=2200.0#100.0\n",
    "K_0_val=1e28\n",
    "index_val=-2.0\n",
    "log_f_val=0.5\n",
    "param=11\n",
    "\n",
    "np.random.seed(42)\n",
    "nll = lambda *args: -log_likelihood(*args)\n",
    "initial = np.array([sigma_DT_val, sigma_AD_val, mu_DT_val, mu_AD_val, A_T_val, T_val, wav_val, wav_0_val, K_0_val, index_val, log_f_val]) + 0.1*np.random.randn(param)\n",
    "soln = minimize(nll, initial, args=(XK_new, muK, muJ, sdK))\n",
    "sigma_DT_ml, sigma_AD_ml, mu_DT_ml, mu_AD_ml, A_T_ml, T_ml, wav_ml, wav_0_ml, K_0_ml, index_ml, log_f_ml = soln.x\n",
    "\n",
    "print(\"Maximum likelihood estimates:\")\n",
    "print(soln.x)\n",
    "  "
   ]
  },
  {
   "cell_type": "code",
   "execution_count": 322,
   "metadata": {},
   "outputs": [],
   "source": [
    "#Define simple planck function\n",
    "h = 6.626e-34\n",
    "c = 3.0e+8\n",
    "k = 1.38e-23\n",
    "\n",
    "def planck(wav, T):\n",
    "    a = 2.0*h*c**2\n",
    "    b = h*c/(1e-9*wav*k*T)\n",
    "    intensity = a/ ( ((1e-9*wav)**5) * (np.exp(b) - 1.0) )\n",
    "    #norm = h/(k*T)\n",
    "    return intensity\n",
    "def transferDT(x,mu,sigma,A_T,wav,T):\n",
    "    '''Defines the transfer function for the DT'''\n",
    "    BB = planck(wav, T)\n",
    "    exp = -((np.log(x)-mu)**2/(2*sigma**2))\n",
    "    front = A_T/(x*sigma*np.sqrt(2*np.pi))\n",
    "    return BB*front*np.exp(exp)\n",
    "#might need to include a normalization here\n",
    "#can you determine the index of the power law? Maybe by a fit in a filter?\n",
    "def power(wav,wav_0,K_0,index):\n",
    "    powr=K_0*(wav/wav_0)**(index)\n",
    "    return powr\n",
    "def transferAD(x,mu,sigma,A_T,wav,wav_0,K_0,index):\n",
    "    '''Defines the transfer function for the AD'''\n",
    "    powr = power(wav, wav_0, K_0, index)\n",
    "    exp = -((np.log(x)-mu)**2/(2*sigma**2))\n",
    "    front = (1.0-A_T)/(x*sigma*np.sqrt(2*np.pi))\n",
    "    return powr*front*np.exp(exp)\n",
    "def transfertot(x,mu_DT,mu_AD,sigma_DT,sigma_AD,A_T,T,wav,wav_0, K_0,index):\n",
    "    transfer_DT = transferDT(x,mu_DT,sigma_DT,A_T,wav,T)\n",
    "    transfer_AD = transferAD(x,mu_AD,sigma_AD,A_T,wav,wav_0,K_0,index)\n",
    "    return transfer_DT + transfer_AD"
   ]
  },
  {
   "cell_type": "code",
   "execution_count": 323,
   "metadata": {},
   "outputs": [],
   "source": [
    "#convol=np.convolve(transferDT(XK_new,mu_DT_ml,sigma_DT_ml,A_T_ml,wav_ml,T_ml),muJ,'same')+np.convolve(transferAD(XK_new,mu_AD_ml,sigma_AD_ml,A_T_ml,wav_ml,wav_0_ml,K_0_ml,index_ml),muJ,'same')\n",
    "conv=np.convolve( transfertot(XK_new,mu_DT_ml,mu_AD_ml,sigma_DT_ml,sigma_AD_ml,A_T_ml,T_ml,wav_ml,wav_0_ml,K_0_ml,index_ml), muJ, 'same')\n",
    "#diffcon=convol-conv\n",
    "#print(diffcon)"
   ]
  },
  {
   "cell_type": "code",
   "execution_count": 324,
   "metadata": {},
   "outputs": [
    {
     "data": {
      "image/png": "[encoded data removed]",
      "text/plain": [
       "<Figure size 432x288 with 1 Axes>"
      ]
     },
     "metadata": {
      "needs_background": "light"
     },
     "output_type": "display_data"
    }
   ],
   "source": [
    "plt.errorbar(XK_new, muK, yerr=sdK, fmt=\".k\", capsize=0)\n",
    "plt.plot(XK_new, conv, \":r\", label=\" ML\")\n",
    "plt.plot(XK_new, muJ, '*', label=\"muJ\")\n",
    "#plt.plot(XK_new, convol, '.',label=('DT+AD'))\n",
    "plt.legend(fontsize=14)\n",
    "plt.xlabel(\"x\")\n",
    "plt.ylabel(\"y\");  "
   ]
  },
  {
   "cell_type": "code",
   "execution_count": 325,
   "metadata": {},
   "outputs": [],
   "source": [
    "#define the prior \n",
    "\n",
    "def log_prior(theta):\n",
    "    sigma_DT, sigma_AD, mu_DT, mu_AD, A_T, T, wav, wav_0, K_0, index, log_f = theta\n",
    "    if (0.0 < sigma_DT < 2.5 and 0.0 < sigma_AD < 2.5 and 0.0 < mu_DT < 7.0\n",
    "        and 1.4 < mu_AD < 2.3 and 0.0 < A_T < 1.0 and 1790.0 < T < 1810.0 and 0.0 < wav < 3000.0\n",
    "        and 0.0 < wav_0 < 3000.0 and 1e26 < K_0 < 1e29 and -3.0 < index < -1.0 and 0.0 < log_f < 1.0):\n",
    "        return 0.0\n",
    "    return -np.inf"
   ]
  },
  {
   "cell_type": "code",
   "execution_count": 326,
   "metadata": {},
   "outputs": [],
   "source": [
    "def log_probability(theta, x, y, Fc, yerr):\n",
    "    lp = log_prior(theta)\n",
    "    if not np.isfinite(lp):\n",
    "        return -np.inf\n",
    "    return lp + log_likelihood(theta, x, y, Fc, yerr)"
   ]
  },
  {
   "cell_type": "code",
   "execution_count": 327,
   "metadata": {},
   "outputs": [
    {
     "name": "stderr",
     "output_type": "stream",
     "text": [
      "C:\\Users\\Ejer\\Anaconda3\\lib\\site-packages\\emcee-3.0rc2-py3.7.egg\\emcee\\ensemble.py:258: RuntimeWarning: Initial state is not linearly independent and it will not allow a full exploration of parameter space\n",
      "100%|██████████| 5000/5000 [00:34<00:00, 146.95it/s]\n"
     ]
    }
   ],
   "source": [
    "import emcee\n",
    "#sigma_DT_val, sigma_AD_val, mu_DT_val, mu_AD_val, A_T_val, T_val, wav_val, wav_0_val, K_0_val, index_val, log_f_val = soln.x\n",
    "pos = soln.x + 1e-4 * np.random.randn(100, 11)\n",
    "nwalkers, ndim = pos.shape\n",
    "\n",
    "sampler = emcee.EnsembleSampler(nwalkers, ndim, log_probability, args=(XK_new, muK, muJ, sdK))\n",
    "sampler.run_mcmc(pos, 5000, progress=True);"
   ]
  },
  {
   "cell_type": "code",
   "execution_count": 328,
   "metadata": {},
   "outputs": [
    {
     "data": {
      "image/png": "[encoded data removed]",
      "text/plain": [
       "<Figure size 1008x648 with 11 Axes>"
      ]
     },
     "metadata": {
      "needs_background": "light"
     },
     "output_type": "display_data"
    }
   ],
   "source": [
    "fig, axes = plt.subplots(11, figsize=(14, 9), sharex=True)\n",
    "samples = sampler.get_chain()\n",
    "labels = [\"sigma_DT\", \"sigma_AD\", \"mu_DT\", \"mu_AD\", \"A_T\", \"T\", \"wav\", \"wav_0\", \"K_0\", \"index\", \"log_f\"]\n",
    "for i in range(ndim):\n",
    "    ax = axes[i]\n",
    "    ax.plot(samples[:, :, i], \"k\", alpha=0.3)\n",
    "    ax.set_xlim(0, len(samples))\n",
    "    ax.set_ylabel(labels[i])\n",
    "    ax.yaxis.set_label_coords(-0.1, 0.5)\n",
    "\n",
    "axes[-1].set_xlabel(\"step number\");"
   ]
  },
  {
   "cell_type": "code",
   "execution_count": 314,
   "metadata": {},
   "outputs": [
    {
     "name": "stdout",
     "output_type": "stream",
     "text": [
      "[nan nan nan nan nan nan nan nan nan nan nan]\n"
     ]
    }
   ],
   "source": [
    "tau = sampler.get_autocorr_time()\n",
    "print(tau)"
   ]
  },
  {
   "cell_type": "code",
   "execution_count": 315,
   "metadata": {},
   "outputs": [
    {
     "name": "stdout",
     "output_type": "stream",
     "text": [
      "(32600, 11)\n"
     ]
    }
   ],
   "source": [
    "flat_samples = sampler.get_chain(discard=100, thin=15, flat=True)\n",
    "print(flat_samples.shape)"
   ]
  },
  {
   "cell_type": "code",
   "execution_count": 316,
   "metadata": {},
   "outputs": [
    {
     "data": {
      "text/plain": [
       "62536660522.98677"
      ]
     },
     "execution_count": 316,
     "metadata": {},
     "output_type": "execute_result"
    }
   ],
   "source": [
    "planck(wav_ml,T_ml)"
   ]
  },
  {
   "cell_type": "code",
   "execution_count": 317,
   "metadata": {},
   "outputs": [
    {
     "data": {
      "text/plain": [
       "array([0.03487784, 0.03466785, 0.03445912, 0.03425163, 0.03404537,\n",
       "       0.03384035, 0.03363656, 0.03343398, 0.0332326 , 0.03303244,\n",
       "       0.03283346, 0.03263568, 0.03243907, 0.03224364, 0.03204938,\n",
       "       0.03185628, 0.03166433, 0.03147353, 0.03128387, 0.03109534,\n",
       "       0.03090794, 0.03072165, 0.03053648, 0.03035242, 0.03016946,\n",
       "       0.02998759, 0.02980681, 0.02962711, 0.02944848, 0.02927092,\n",
       "       0.02909442, 0.02891898, 0.02874458, 0.02857123, 0.02839892,\n",
       "       0.02822763, 0.02805738, 0.02788813, 0.02771991, 0.02755268,\n",
       "       0.02738646, 0.02722123, 0.02705699, 0.02689374, 0.02673146,\n",
       "       0.02657015, 0.0264098 , 0.02625042, 0.02609199, 0.02593451,\n",
       "       0.02577797, 0.02562237, 0.0254677 , 0.02531395, 0.02516113,\n",
       "       0.02500922, 0.02485822, 0.02470812, 0.02455893, 0.02441062,\n",
       "       0.02426321, 0.02411668, 0.02397102, 0.02382624, 0.02368233,\n",
       "       0.02353928, 0.02339708, 0.02325574, 0.02311524, 0.02297559,\n",
       "       0.02283677, 0.02269878, 0.02256162, 0.02242529, 0.02228977,\n",
       "       0.02215506, 0.02202116, 0.02188806, 0.02175577, 0.02162426,\n",
       "       0.02149354, 0.02136361, 0.02123446, 0.02110608, 0.02097847,\n",
       "       0.02085162, 0.02072554, 0.02060021, 0.02047564, 0.02035181,\n",
       "       0.02022872, 0.02010637, 0.01998476, 0.01986388, 0.01974372,\n",
       "       0.01962429, 0.01950557, 0.01938756, 0.01927026, 0.01915366])"
      ]
     },
     "execution_count": 317,
     "metadata": {},
     "output_type": "execute_result"
    }
   ],
   "source": [
    "transferDT(XK_new,mu_DT_ml,sigma_DT_ml,A_T_ml,wav_ml,T_ml)"
   ]
  },
  {
   "cell_type": "code",
   "execution_count": 318,
   "metadata": {},
   "outputs": [
    {
     "data": {
      "text/plain": [
       "9.999233235894807e+27"
      ]
     },
     "execution_count": 318,
     "metadata": {},
     "output_type": "execute_result"
    }
   ],
   "source": [
    "power(wav_ml,wav_0_ml,K_0_ml,index_ml)"
   ]
  },
  {
   "cell_type": "code",
   "execution_count": 319,
   "metadata": {},
   "outputs": [
    {
     "data": {
      "text/plain": [
       "array([0., 0., 0., 0., 0., 0., 0., 0., 0., 0., 0., 0., 0., 0., 0., 0., 0.,\n",
       "       0., 0., 0., 0., 0., 0., 0., 0., 0., 0., 0., 0., 0., 0., 0., 0., 0.,\n",
       "       0., 0., 0., 0., 0., 0., 0., 0., 0., 0., 0., 0., 0., 0., 0., 0., 0.,\n",
       "       0., 0., 0., 0., 0., 0., 0., 0., 0., 0., 0., 0., 0., 0., 0., 0., 0.,\n",
       "       0., 0., 0., 0., 0., 0., 0., 0., 0., 0., 0., 0., 0., 0., 0., 0., 0.,\n",
       "       0., 0., 0., 0., 0., 0., 0., 0., 0., 0., 0., 0., 0., 0., 0.])"
      ]
     },
     "execution_count": 319,
     "metadata": {},
     "output_type": "execute_result"
    }
   ],
   "source": [
    "transferAD(XK_new,mu_AD_ml,sigma_AD_ml,A_T_ml,wav_ml,wav_0_ml,K_0_ml,index_ml)"
   ]
  },
  {
   "cell_type": "code",
   "execution_count": 320,
   "metadata": {},
   "outputs": [
    {
     "name": "stdout",
     "output_type": "stream",
     "text": [
      "[6.97917175e-17 6.97020618e-17 6.96125332e-17 6.95231313e-17\n",
      " 6.94338559e-17 6.93447070e-17 6.92556842e-17 6.91667874e-17\n",
      " 6.90780164e-17 6.89893710e-17 6.89008509e-17 6.88124561e-17\n",
      " 6.87241863e-17 6.86360413e-17 6.85480209e-17 6.84601250e-17\n",
      " 6.83723532e-17 6.82847056e-17 6.81971818e-17 6.81097816e-17\n",
      " 6.80225049e-17 6.79353515e-17 6.78483212e-17 6.77614138e-17\n",
      " 6.76746291e-17 6.75879669e-17 6.75014271e-17 6.74150094e-17\n",
      " 6.73287136e-17 6.72425396e-17 6.71564872e-17 6.70705562e-17\n",
      " 6.69847464e-17 6.68990576e-17 6.68134896e-17 6.67280423e-17\n",
      " 6.66427154e-17 6.65575088e-17 6.64724223e-17 6.63874557e-17\n",
      " 6.63026088e-17 6.62178814e-17 6.61332734e-17 6.60487845e-17\n",
      " 6.59644146e-17 6.58801635e-17 6.57960311e-17 6.57120170e-17\n",
      " 6.56281212e-17 6.55443435e-17 6.54606837e-17 6.53771415e-17\n",
      " 6.52937169e-17 6.52104096e-17 6.51272195e-17 6.50441464e-17\n",
      " 6.49611900e-17 6.48783503e-17 6.47956271e-17 6.47130200e-17\n",
      " 6.46305291e-17 6.45481541e-17 6.44658948e-17 6.43837511e-17\n",
      " 6.43017227e-17 6.42198095e-17 6.41380113e-17 6.40563280e-17\n",
      " 6.39747594e-17 6.38933052e-17 6.38119654e-17 6.37307396e-17\n",
      " 6.36496279e-17 6.35686299e-17 6.34877456e-17 6.34069747e-17\n",
      " 6.33263170e-17 6.32457724e-17 6.31653408e-17 6.30850219e-17\n",
      " 6.30048156e-17 6.29247217e-17 6.28447400e-17 6.27648703e-17\n",
      " 6.26851125e-17 6.26054665e-17 6.25259320e-17 6.24465088e-17\n",
      " 6.23671969e-17 6.22879960e-17 6.22089059e-17 6.21299266e-17\n",
      " 6.20510577e-17 6.19722992e-17 6.18936509e-17 6.18151126e-17\n",
      " 6.17366842e-17 6.16583654e-17 6.15801561e-17 6.15020562e-17]\n",
      "[0.00137676 0.00137655 0.00137635 0.00137614 0.00137594 0.00137573\n",
      " 0.00137553 0.00137532 0.00137512 0.00137492 0.00137471 0.00137451\n",
      " 0.0013743  0.0013741  0.00137389 0.00137369 0.00137348 0.00137328\n",
      " 0.00137308 0.00137287 0.00137267 0.00137246 0.00137226 0.00137206\n",
      " 0.00137185 0.00137165 0.00137145 0.00137124 0.00137104 0.00137083\n",
      " 0.00137063 0.00137043 0.00137022 0.00137002 0.00136982 0.00136962\n",
      " 0.00136941 0.00136921 0.00136901 0.0013688  0.0013686  0.0013684\n",
      " 0.0013682  0.00136799 0.00136779 0.00136759 0.00136739 0.00136718\n",
      " 0.00136698 0.00136678 0.00136658 0.00136637 0.00136617 0.00136597\n",
      " 0.00136577 0.00136557 0.00136536 0.00136516 0.00136496 0.00136476\n",
      " 0.00136456 0.00136436 0.00136415 0.00136395 0.00136375 0.00136355\n",
      " 0.00136335 0.00136315 0.00136295 0.00136275 0.00136254 0.00136234\n",
      " 0.00136214 0.00136194 0.00136174 0.00136154 0.00136134 0.00136114\n",
      " 0.00136094 0.00136074 0.00136054 0.00136034 0.00136014 0.00135994\n",
      " 0.00135974 0.00135954 0.00135934 0.00135914 0.00135894 0.00135874\n",
      " 0.00135854 0.00135834 0.00135814 0.00135794 0.00135774 0.00135754\n",
      " 0.00135734 0.00135714 0.00135694 0.00135674]\n"
     ]
    },
    {
     "data": {
      "text/plain": [
       "array([9.60864061e-20, 9.59486722e-20, 9.58111540e-20, 9.56738512e-20,\n",
       "       9.55367635e-20, 9.53998905e-20, 9.52632318e-20, 9.51267870e-20,\n",
       "       9.49905559e-20, 9.48545380e-20, 9.47187329e-20, 9.45831404e-20,\n",
       "       9.44477600e-20, 9.43125913e-20, 9.41776341e-20, 9.40428880e-20,\n",
       "       9.39083526e-20, 9.37740275e-20, 9.36399124e-20, 9.35060069e-20,\n",
       "       9.33723108e-20, 9.32388235e-20, 9.31055448e-20, 9.29724744e-20,\n",
       "       9.28396118e-20, 9.27069567e-20, 9.25745087e-20, 9.24422676e-20,\n",
       "       9.23102330e-20, 9.21784044e-20, 9.20467816e-20, 9.19153642e-20,\n",
       "       9.17841519e-20, 9.16531442e-20, 9.15223410e-20, 9.13917417e-20,\n",
       "       9.12613462e-20, 9.11311539e-20, 9.10011647e-20, 9.08713781e-20,\n",
       "       9.07417938e-20, 9.06124114e-20, 9.04832307e-20, 9.03542512e-20,\n",
       "       9.02254727e-20, 9.00968948e-20, 8.99685171e-20, 8.98403393e-20,\n",
       "       8.97123612e-20, 8.95845822e-20, 8.94570022e-20, 8.93296207e-20,\n",
       "       8.92024375e-20, 8.90754521e-20, 8.89486643e-20, 8.88220738e-20,\n",
       "       8.86956801e-20, 8.85694830e-20, 8.84434821e-20, 8.83176772e-20,\n",
       "       8.81920678e-20, 8.80666536e-20, 8.79414344e-20, 8.78164097e-20,\n",
       "       8.76915793e-20, 8.75669428e-20, 8.74424999e-20, 8.73182503e-20,\n",
       "       8.71941936e-20, 8.70703296e-20, 8.69466578e-20, 8.68231781e-20,\n",
       "       8.66998899e-20, 8.65767931e-20, 8.64538873e-20, 8.63311722e-20,\n",
       "       8.62086474e-20, 8.60863127e-20, 8.59641677e-20, 8.58422120e-20,\n",
       "       8.57204455e-20, 8.55988677e-20, 8.54774784e-20, 8.53562772e-20,\n",
       "       8.52352638e-20, 8.51144380e-20, 8.49937992e-20, 8.48733474e-20,\n",
       "       8.47530821e-20, 8.46330031e-20, 8.45131099e-20, 8.43934024e-20,\n",
       "       8.42738802e-20, 8.41545429e-20, 8.40353904e-20, 8.39164222e-20,\n",
       "       8.37976381e-20, 8.36790377e-20, 8.35606207e-20, 8.34423869e-20])"
      ]
     },
     "execution_count": 320,
     "metadata": {},
     "output_type": "execute_result"
    }
   ],
   "source": [
    "exp = -((np.log(XK_new)-mu_AD_ml)**2/(2*sigma_AD**2))\n",
    "print(np.exp(exp))\n",
    "front = (1.0-A_T_ml)/(XK_new*sigma_AD_ml*np.sqrt(2*np.pi))\n",
    "print(front)\n",
    "np.exp(exp)*front"
   ]
  },
  {
   "cell_type": "code",
   "execution_count": 269,
   "metadata": {},
   "outputs": [
    {
     "data": {
      "text/plain": [
       "array([1.74984889e-22, 1.74733090e-22, 1.74481688e-22, 1.74230681e-22,\n",
       "       1.73980068e-22, 1.73729850e-22, 1.73480024e-22, 1.73230591e-22,\n",
       "       1.72981550e-22, 1.72732900e-22, 1.72484641e-22, 1.72236771e-22,\n",
       "       1.71989291e-22, 1.71742199e-22, 1.71495495e-22, 1.71249178e-22,\n",
       "       1.71003248e-22, 1.70757703e-22, 1.70512544e-22, 1.70267770e-22,\n",
       "       1.70023379e-22, 1.69779372e-22, 1.69535747e-22, 1.69292504e-22,\n",
       "       1.69049643e-22, 1.68807162e-22, 1.68565061e-22, 1.68323340e-22,\n",
       "       1.68081997e-22, 1.67841033e-22, 1.67600446e-22, 1.67360235e-22,\n",
       "       1.67120401e-22, 1.66880942e-22, 1.66641858e-22, 1.66403149e-22,\n",
       "       1.66164813e-22, 1.65926850e-22, 1.65689259e-22, 1.65452040e-22,\n",
       "       1.65215192e-22, 1.64978715e-22, 1.64742607e-22, 1.64506869e-22,\n",
       "       1.64271499e-22, 1.64036497e-22, 1.63801862e-22, 1.63567595e-22,\n",
       "       1.63333693e-22, 1.63100156e-22, 1.62866985e-22, 1.62634177e-22,\n",
       "       1.62401733e-22, 1.62169653e-22, 1.61937934e-22, 1.61706577e-22,\n",
       "       1.61475582e-22, 1.61244947e-22, 1.61014671e-22, 1.60784755e-22,\n",
       "       1.60555198e-22, 1.60325999e-22, 1.60097158e-22, 1.59868673e-22,\n",
       "       1.59640544e-22, 1.59412771e-22, 1.59185354e-22, 1.58958290e-22,\n",
       "       1.58731581e-22, 1.58505225e-22, 1.58279221e-22, 1.58053570e-22,\n",
       "       1.57828270e-22, 1.57603320e-22, 1.57378722e-22, 1.57154472e-22,\n",
       "       1.56930572e-22, 1.56707021e-22, 1.56483817e-22, 1.56260961e-22,\n",
       "       1.56038452e-22, 1.55816288e-22, 1.55594470e-22, 1.55372998e-22,\n",
       "       1.55151869e-22, 1.54931085e-22, 1.54710643e-22, 1.54490545e-22,\n",
       "       1.54270788e-22, 1.54051373e-22, 1.53832299e-22, 1.53613566e-22,\n",
       "       1.53395172e-22, 1.53177117e-22, 1.52959401e-22, 1.52742023e-22,\n",
       "       1.52524983e-22, 1.52308279e-22, 1.52091912e-22, 1.51875881e-22])"
      ]
     },
     "execution_count": 269,
     "metadata": {},
     "output_type": "execute_result"
    }
   ],
   "source": [
    "transferAD(XK_new,mu_AD_val,sigma_AD_val,A_T_val,wav_val,wav_0_val,K_0_val,index_val)"
   ]
  },
  {
   "cell_type": "code",
   "execution_count": null,
   "metadata": {},
   "outputs": [],
   "source": []
  }
 ],
 "metadata": {
  "kernelspec": {
   "display_name": "Python 3",
   "language": "python",
   "name": "python3"
  },
  "language_info": {
   "codemirror_mode": {
    "name": "ipython",
    "version": 3
   },
   "file_extension": ".py",
   "mimetype": "text/x-python",
   "name": "python",
   "nbconvert_exporter": "python",
   "pygments_lexer": "ipython3",
   "version": "3.7.3"
  }
 },
 "nbformat": 4,
 "nbformat_minor": 2
}
