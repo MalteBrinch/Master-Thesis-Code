{
 "cells": [
  {
   "cell_type": "code",
   "execution_count": null,
   "metadata": {},
   "outputs": [],
   "source": [
    "x = np.linspace(-10,20,1000)\n",
    "xx = x.reshape(1000,1)\n",
    "mu = 5\n",
    "sig = 1\n",
    "hlam = np.array([0.05,0.1,0.2,0.3,3.4])\n",
    "def stg(x,mu,sig,hlam): \n",
    "    stretch = hlam * np.exp(2*hlam*(mu + hlam*sig**2 - x)) * sp.erfc( (mu + 2*hlam*sig**2 - x)/(np.sqrt(2)*sig) )\n",
    "    return stretch\n",
    "y = stg(xx,mu,sig,hlam)\n",
    "plt.plot(xx,y);"
   ]
  }
 ],
 "metadata": {
  "kernelspec": {
   "display_name": "Python 3",
   "language": "python",
   "name": "python3"
  },
  "language_info": {
   "codemirror_mode": {
    "name": "ipython",
    "version": 3
   },
   "file_extension": ".py",
   "mimetype": "text/x-python",
   "name": "python",
   "nbconvert_exporter": "python",
   "pygments_lexer": "ipython3",
   "version": "3.7.4"
  }
 },
 "nbformat": 4,
 "nbformat_minor": 4
}
