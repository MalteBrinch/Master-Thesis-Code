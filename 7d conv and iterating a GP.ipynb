{
 "cells": [
  {
   "cell_type": "code",
   "execution_count": 1,
   "metadata": {},
   "outputs": [
    {
     "data": {
      "text/plain": [
       "<Figure size 640x480 with 1 Axes>"
      ]
     },
     "metadata": {},
     "output_type": "display_data"
    }
   ],
   "source": [
    "# 15-Sep-2019\n",
    "# Bo Milvang-Jensen\n",
    "# Very rudimentary script to read+plot ...\n",
    "\n",
    "import astropy.io.fits as fits\n",
    "import numpy as np\n",
    "import matplotlib.pyplot as plt\n",
    "import pymc3 as pm\n",
    "import theano\n",
    "import theano.tensor as tt\n",
    "from theano.tensor import fft\n",
    "import theano.tensor.signal.conv\n",
    "\n",
    "# Read photometry catalogue created by my other script\n",
    "photfilename = 'F51_out_REMIR_ROS2.fits'\n",
    "data = fits.getdata(photfilename, 1)\n",
    "\n",
    "# The photometry catalogue contains aperture photometry in 25 different\n",
    "# apertures. If we number them 0..24, they correspond to diameters 1..25 arcsec\n",
    "apno = 10 # This is then 11 arcsec\n",
    "\n",
    "# The photometry catalogue contains photometry for the AGN plus some more\n",
    "# objects in the field, in this case the AGN + 6 more objetcs, so 7 in\n",
    "# total. The AGN is number 1, and the others 2, 3, etc.\n",
    "# This is seen in the column names, which end in _1, _2, etc.\n",
    "# E.g. the column MAG_APER_1 contains the aperture magnitudes (for all\n",
    "# 25 apertures) for the AGN.\n",
    "\n",
    "# Get the aperture magnitudes\n",
    "##foo = data['MAG_APER_1'] # has shape e.g. (767, 25), the 25 being the apertures\n",
    "mag_agn  = data['MAG_APER_1'][:,apno]\n",
    "mag_ref1 = data['MAG_APER_3'][:,apno] # I have found that _3 is good here\n",
    "mag_ref2 = data['MAG_APER_4'][:,apno]\n",
    "\n",
    "# Get the differential magnitudes\n",
    "delta_mag_agn_ref1 = mag_agn - mag_ref1\n",
    "delta_mag_ref2_ref1 = mag_ref2 - mag_ref1\n",
    "\n",
    "# Get the magnitude errors \n",
    "magerr_agn = data['MAGERR_APER_1'][:,apno]\n",
    "magerr_ref1 = data['MAGERR_APER_3'][:,apno]\n",
    "magerr_ref2= data['MAGERR_APER_4'][:,apno]\n",
    "\n",
    "# TODO Here I could loop over the filters, subtracting the median\n",
    "\n",
    "# For simplicity \"extract\" some arrays from the data\n",
    "filt = data['filter']\n",
    "mjd_obs = data['mjd_obs']\n",
    "\n",
    "# A simple plot of the J band differential mags, with the median subtracted\n",
    "# Do 'H' and 'K' in the same way\n",
    "maskJ = (filt == 'J')\n",
    "#print(magerr_ref1[mask])\n",
    "#plt.scatter(mjd_obs[mask], delta_mag_agn_ref1[mask]-np.median(delta_mag_agn_ref1[mask]))\n",
    "plt.errorbar(mjd_obs[maskJ], delta_mag_agn_ref1[maskJ]-np.median(delta_mag_agn_ref1[maskJ]), magerr_ref1[maskJ],fmt='b.')\n",
    "plt.title('test')\n",
    "plt.xlabel('MJD-OBS')\n",
    "plt.ylabel('delta mag')\n",
    "plt.show()"
   ]
  },
  {
   "cell_type": "code",
   "execution_count": 2,
   "metadata": {},
   "outputs": [
    {
     "name": "stdout",
     "output_type": "stream",
     "text": [
      "0.01194034152560764\n"
     ]
    }
   ],
   "source": [
    "#J band data\n",
    "xJ=np.asarray(mjd_obs[maskJ], dtype=float)\n",
    "nJ=len(xJ)\n",
    "XJ = np.reshape(xJ,(nJ,1))\n",
    "yJ=np.asarray(delta_mag_agn_ref1[maskJ]-np.median(delta_mag_agn_ref1[maskJ]), dtype=float)\n",
    "yJerr = np.array(magerr_ref1[maskJ], dtype=float)\n",
    "\n",
    "#H band data\n",
    "maskH = (filt == 'H')\n",
    "\n",
    "xHtemp=np.asarray(mjd_obs[maskH], dtype=float)\n",
    "xH=np.delete(xHtemp,(1,2))\n",
    "nH=len(xH)\n",
    "XH = np.reshape(xH,(nH,1))\n",
    "XH_new=np.linspace(min(XH),max(XH),100,dtype=np.float64)\n",
    "\n",
    "Hdelta_mag_agn_ref1=np.delete(delta_mag_agn_ref1[maskH],(1,2))\n",
    "yH=np.asarray(Hdelta_mag_agn_ref1-np.median(Hdelta_mag_agn_ref1), dtype=float)\n",
    "yHerrtemp = np.asarray(magerr_ref1[maskH], dtype=float)\n",
    "yHerr=np.delete(yHerrtemp,(1,2))\n",
    "\n",
    "#K band data\n",
    "maskK = (filt == 'K')\n",
    "xK=np.asarray(mjd_obs[maskK], dtype=float)\n",
    "nK=len(xK)\n",
    "XK = np.reshape(xK,(nK,1))\n",
    "yK=np.asarray(delta_mag_agn_ref1[maskK]-np.median(delta_mag_agn_ref1[maskK]), dtype=float)\n",
    "yKerr = np.asarray(magerr_ref1[maskK], dtype=float)\n",
    "\n",
    "#time array with all bands\n",
    "#be carefull with how XJ and xj acts \n",
    "X_tot= np.concatenate((xJ,xH,xK),axis=None)\n",
    "X_tot=np.reshape(X_tot,(len(X_tot),1))\n",
    "\n",
    "#combine all y values for guess\n",
    "Y_tot= np.concatenate((yJ,yH,yK),axis=None)\n",
    "Y_tot=np.reshape(Y_tot,(len(Y_tot),1))\n",
    "\n",
    "#time delay array\n",
    "tau=np.linspace(1.0,100.0,99)\n",
    "tau=np.reshape(tau,(1,1,99,1))\n",
    "print(np.mean(yK))"
   ]
  },
  {
   "cell_type": "code",
   "execution_count": 3,
   "metadata": {},
   "outputs": [
    {
     "data": {
      "text/plain": [
       "<matplotlib.legend.Legend at 0x2517a9e3248>"
      ]
     },
     "execution_count": 3,
     "metadata": {},
     "output_type": "execute_result"
    },
    {
     "data": {
      "image/png": "[encoded data removed]",
      "text/plain": [
       "<Figure size 432x288 with 1 Axes>"
      ]
     },
     "metadata": {
      "needs_background": "light"
     },
     "output_type": "display_data"
    }
   ],
   "source": [
    "plt.errorbar(xJ, yJ, yJerr,fmt='b.',label='J')\n",
    "plt.errorbar(xH, yH, yHerr,fmt='g.',label='H')\n",
    "plt.errorbar(xK, yK, yKerr,fmt='r.',label='K')\n",
    "plt.legend()"
   ]
  },
  {
   "cell_type": "code",
   "execution_count": 4,
   "metadata": {},
   "outputs": [
    {
     "name": "stderr",
     "output_type": "stream",
     "text": [
      "Only 1 samples in chain.\n",
      "Auto-assigning NUTS sampler...\n",
      "Initializing NUTS using jitter+adapt_diag...\n",
      "C:\\Users\\Malte\\Anaconda3\\lib\\site-packages\\theano\\tensor\\basic.py:6611: FutureWarning: Using a non-tuple sequence for multidimensional indexing is deprecated; use `arr[tuple(seq)]` instead of `arr[seq]`. In the future this will be interpreted as an array index, `arr[np.array(seq)]`, which will result either in an error or a different result.\n",
      "  result[diagonal_slice] = x\n",
      "C:\\Users\\Malte\\Anaconda3\\lib\\site-packages\\theano\\tensor\\basic.py:6611: FutureWarning: Using a non-tuple sequence for multidimensional indexing is deprecated; use `arr[tuple(seq)]` instead of `arr[seq]`. In the future this will be interpreted as an array index, `arr[np.array(seq)]`, which will result either in an error or a different result.\n",
      "  result[diagonal_slice] = x\n",
      "C:\\Users\\Malte\\Anaconda3\\lib\\site-packages\\theano\\tensor\\basic.py:6611: FutureWarning: Using a non-tuple sequence for multidimensional indexing is deprecated; use `arr[tuple(seq)]` instead of `arr[seq]`. In the future this will be interpreted as an array index, `arr[np.array(seq)]`, which will result either in an error or a different result.\n",
      "  result[diagonal_slice] = x\n",
      "Multiprocess sampling (4 chains in 4 jobs)\n",
      "NUTS: [index, K_0, T, Ktheta_AD, Km_AD, Ksigma_AD, Htheta_AD, Hm_AD, Hsigma_AD, Jtheta_AD, Jm_AD, Jsigma_AD, theta_DT, m_DT, sigma_DT, f_rotated_, η, ℓ]\n",
      "Sampling 4 chains:  68%|██████▊   | 1640/2404 [32:32<15:09,  1.19s/draws]  \n"
     ]
    },
    {
     "ename": "RuntimeError",
     "evalue": "Chain 0 failed.",
     "output_type": "error",
     "traceback": [
      "\u001b[1;31m---------------------------------------------------------------------------\u001b[0m",
      "\u001b[1;31mRemoteTraceback\u001b[0m                           Traceback (most recent call last)",
      "\u001b[1;31mRemoteTraceback\u001b[0m: \n\"\"\"\nTraceback (most recent call last):\n  File \"C:\\Users\\Malte\\Anaconda3\\lib\\site-packages\\pymc3\\parallel_sampling.py\", line 110, in run\n    self._start_loop()\n  File \"C:\\Users\\Malte\\Anaconda3\\lib\\site-packages\\pymc3\\parallel_sampling.py\", line 160, in _start_loop\n    point, stats = self._compute_point()\n  File \"C:\\Users\\Malte\\Anaconda3\\lib\\site-packages\\pymc3\\parallel_sampling.py\", line 191, in _compute_point\n    point, stats = self._step_method.step(self._point)\n  File \"C:\\Users\\Malte\\Anaconda3\\lib\\site-packages\\pymc3\\step_methods\\arraystep.py\", line 247, in step\n    apoint, stats = self.astep(array)\n  File \"C:\\Users\\Malte\\Anaconda3\\lib\\site-packages\\pymc3\\step_methods\\hmc\\base_hmc.py\", line 130, in astep\n    self.potential.raise_ok(self._logp_dlogp_func._ordering.vmap)\n  File \"C:\\Users\\Malte\\Anaconda3\\lib\\site-packages\\pymc3\\step_methods\\hmc\\quadpotential.py\", line 231, in raise_ok\n    raise ValueError('\\n'.join(errmsg))\nValueError: Mass matrix contains zeros on the diagonal. \nThe derivative of RV `Ksigma_AD`.ravel()[0] is zero.\nThe derivative of RV `Hsigma_AD`.ravel()[0] is zero.\nThe derivative of RV `Jsigma_AD`.ravel()[0] is zero.\n\"\"\"",
      "\nThe above exception was the direct cause of the following exception:\n",
      "\u001b[1;31mValueError\u001b[0m                                Traceback (most recent call last)",
      "\u001b[1;31mValueError\u001b[0m: Mass matrix contains zeros on the diagonal. \nThe derivative of RV `Ksigma_AD`.ravel()[0] is zero.\nThe derivative of RV `Hsigma_AD`.ravel()[0] is zero.\nThe derivative of RV `Jsigma_AD`.ravel()[0] is zero.",
      "\nThe above exception was the direct cause of the following exception:\n",
      "\u001b[1;31mRuntimeError\u001b[0m                              Traceback (most recent call last)",
      "\u001b[1;32m<ipython-input-4-111adb192bdc>\u001b[0m in \u001b[0;36m<module>\u001b[1;34m\u001b[0m\n\u001b[0;32m    128\u001b[0m     \u001b[1;31m#the shape of mu and observed needs to be the same\u001b[0m\u001b[1;33m\u001b[0m\u001b[1;33m\u001b[0m\u001b[1;33m\u001b[0m\u001b[0m\n\u001b[0;32m    129\u001b[0m \u001b[1;33m\u001b[0m\u001b[0m\n\u001b[1;32m--> 130\u001b[1;33m     \u001b[0mtracetransfer\u001b[0m \u001b[1;33m=\u001b[0m \u001b[0mpm\u001b[0m\u001b[1;33m.\u001b[0m\u001b[0msample\u001b[0m\u001b[1;33m(\u001b[0m\u001b[1;36m1\u001b[0m\u001b[1;33m,\u001b[0m\u001b[0mtune\u001b[0m\u001b[1;33m=\u001b[0m\u001b[1;36m600\u001b[0m\u001b[1;33m,\u001b[0m \u001b[0mdiscard_tuned_samples\u001b[0m\u001b[1;33m=\u001b[0m\u001b[1;32mFalse\u001b[0m\u001b[1;33m)\u001b[0m\u001b[1;33m\u001b[0m\u001b[1;33m\u001b[0m\u001b[0m\n\u001b[0m",
      "\u001b[1;32m~\\Anaconda3\\lib\\site-packages\\pymc3\\sampling.py\u001b[0m in \u001b[0;36msample\u001b[1;34m(draws, step, init, n_init, start, trace, chain_idx, chains, cores, tune, progressbar, model, random_seed, discard_tuned_samples, compute_convergence_checks, **kwargs)\u001b[0m\n\u001b[0;32m    435\u001b[0m             \u001b[0m_print_step_hierarchy\u001b[0m\u001b[1;33m(\u001b[0m\u001b[0mstep\u001b[0m\u001b[1;33m)\u001b[0m\u001b[1;33m\u001b[0m\u001b[1;33m\u001b[0m\u001b[0m\n\u001b[0;32m    436\u001b[0m             \u001b[1;32mtry\u001b[0m\u001b[1;33m:\u001b[0m\u001b[1;33m\u001b[0m\u001b[1;33m\u001b[0m\u001b[0m\n\u001b[1;32m--> 437\u001b[1;33m                 \u001b[0mtrace\u001b[0m \u001b[1;33m=\u001b[0m \u001b[0m_mp_sample\u001b[0m\u001b[1;33m(\u001b[0m\u001b[1;33m**\u001b[0m\u001b[0msample_args\u001b[0m\u001b[1;33m)\u001b[0m\u001b[1;33m\u001b[0m\u001b[1;33m\u001b[0m\u001b[0m\n\u001b[0m\u001b[0;32m    438\u001b[0m             \u001b[1;32mexcept\u001b[0m \u001b[0mpickle\u001b[0m\u001b[1;33m.\u001b[0m\u001b[0mPickleError\u001b[0m\u001b[1;33m:\u001b[0m\u001b[1;33m\u001b[0m\u001b[1;33m\u001b[0m\u001b[0m\n\u001b[0;32m    439\u001b[0m                 \u001b[0m_log\u001b[0m\u001b[1;33m.\u001b[0m\u001b[0mwarning\u001b[0m\u001b[1;33m(\u001b[0m\u001b[1;34m\"Could not pickle model, sampling singlethreaded.\"\u001b[0m\u001b[1;33m)\u001b[0m\u001b[1;33m\u001b[0m\u001b[1;33m\u001b[0m\u001b[0m\n",
      "\u001b[1;32m~\\Anaconda3\\lib\\site-packages\\pymc3\\sampling.py\u001b[0m in \u001b[0;36m_mp_sample\u001b[1;34m(draws, tune, step, chains, cores, chain, random_seed, start, progressbar, trace, model, **kwargs)\u001b[0m\n\u001b[0;32m    967\u001b[0m         \u001b[1;32mtry\u001b[0m\u001b[1;33m:\u001b[0m\u001b[1;33m\u001b[0m\u001b[1;33m\u001b[0m\u001b[0m\n\u001b[0;32m    968\u001b[0m             \u001b[1;32mwith\u001b[0m \u001b[0msampler\u001b[0m\u001b[1;33m:\u001b[0m\u001b[1;33m\u001b[0m\u001b[1;33m\u001b[0m\u001b[0m\n\u001b[1;32m--> 969\u001b[1;33m                 \u001b[1;32mfor\u001b[0m \u001b[0mdraw\u001b[0m \u001b[1;32min\u001b[0m \u001b[0msampler\u001b[0m\u001b[1;33m:\u001b[0m\u001b[1;33m\u001b[0m\u001b[1;33m\u001b[0m\u001b[0m\n\u001b[0m\u001b[0;32m    970\u001b[0m                     \u001b[0mtrace\u001b[0m \u001b[1;33m=\u001b[0m \u001b[0mtraces\u001b[0m\u001b[1;33m[\u001b[0m\u001b[0mdraw\u001b[0m\u001b[1;33m.\u001b[0m\u001b[0mchain\u001b[0m \u001b[1;33m-\u001b[0m \u001b[0mchain\u001b[0m\u001b[1;33m]\u001b[0m\u001b[1;33m\u001b[0m\u001b[1;33m\u001b[0m\u001b[0m\n\u001b[0;32m    971\u001b[0m                     if (trace.supports_sampler_stats\n",
      "\u001b[1;32m~\\Anaconda3\\lib\\site-packages\\pymc3\\parallel_sampling.py\u001b[0m in \u001b[0;36m__iter__\u001b[1;34m(self)\u001b[0m\n\u001b[0;32m    391\u001b[0m \u001b[1;33m\u001b[0m\u001b[0m\n\u001b[0;32m    392\u001b[0m         \u001b[1;32mwhile\u001b[0m \u001b[0mself\u001b[0m\u001b[1;33m.\u001b[0m\u001b[0m_active\u001b[0m\u001b[1;33m:\u001b[0m\u001b[1;33m\u001b[0m\u001b[1;33m\u001b[0m\u001b[0m\n\u001b[1;32m--> 393\u001b[1;33m             \u001b[0mdraw\u001b[0m \u001b[1;33m=\u001b[0m \u001b[0mProcessAdapter\u001b[0m\u001b[1;33m.\u001b[0m\u001b[0mrecv_draw\u001b[0m\u001b[1;33m(\u001b[0m\u001b[0mself\u001b[0m\u001b[1;33m.\u001b[0m\u001b[0m_active\u001b[0m\u001b[1;33m)\u001b[0m\u001b[1;33m\u001b[0m\u001b[1;33m\u001b[0m\u001b[0m\n\u001b[0m\u001b[0;32m    394\u001b[0m             \u001b[0mproc\u001b[0m\u001b[1;33m,\u001b[0m \u001b[0mis_last\u001b[0m\u001b[1;33m,\u001b[0m \u001b[0mdraw\u001b[0m\u001b[1;33m,\u001b[0m \u001b[0mtuning\u001b[0m\u001b[1;33m,\u001b[0m \u001b[0mstats\u001b[0m\u001b[1;33m,\u001b[0m \u001b[0mwarns\u001b[0m \u001b[1;33m=\u001b[0m \u001b[0mdraw\u001b[0m\u001b[1;33m\u001b[0m\u001b[1;33m\u001b[0m\u001b[0m\n\u001b[0;32m    395\u001b[0m             \u001b[1;32mif\u001b[0m \u001b[0mself\u001b[0m\u001b[1;33m.\u001b[0m\u001b[0m_progress\u001b[0m \u001b[1;32mis\u001b[0m \u001b[1;32mnot\u001b[0m \u001b[1;32mNone\u001b[0m\u001b[1;33m:\u001b[0m\u001b[1;33m\u001b[0m\u001b[1;33m\u001b[0m\u001b[0m\n",
      "\u001b[1;32m~\\Anaconda3\\lib\\site-packages\\pymc3\\parallel_sampling.py\u001b[0m in \u001b[0;36mrecv_draw\u001b[1;34m(processes, timeout)\u001b[0m\n\u001b[0;32m    295\u001b[0m             \u001b[1;32melse\u001b[0m\u001b[1;33m:\u001b[0m\u001b[1;33m\u001b[0m\u001b[1;33m\u001b[0m\u001b[0m\n\u001b[0;32m    296\u001b[0m                 \u001b[0merror\u001b[0m \u001b[1;33m=\u001b[0m \u001b[0mRuntimeError\u001b[0m\u001b[1;33m(\u001b[0m\u001b[1;34m\"Chain %s failed.\"\u001b[0m \u001b[1;33m%\u001b[0m \u001b[0mproc\u001b[0m\u001b[1;33m.\u001b[0m\u001b[0mchain\u001b[0m\u001b[1;33m)\u001b[0m\u001b[1;33m\u001b[0m\u001b[1;33m\u001b[0m\u001b[0m\n\u001b[1;32m--> 297\u001b[1;33m             \u001b[1;32mraise\u001b[0m \u001b[0merror\u001b[0m \u001b[1;32mfrom\u001b[0m \u001b[0mold_error\u001b[0m\u001b[1;33m\u001b[0m\u001b[1;33m\u001b[0m\u001b[0m\n\u001b[0m\u001b[0;32m    298\u001b[0m         \u001b[1;32melif\u001b[0m \u001b[0mmsg\u001b[0m\u001b[1;33m[\u001b[0m\u001b[1;36m0\u001b[0m\u001b[1;33m]\u001b[0m \u001b[1;33m==\u001b[0m \u001b[1;34m\"writing_done\"\u001b[0m\u001b[1;33m:\u001b[0m\u001b[1;33m\u001b[0m\u001b[1;33m\u001b[0m\u001b[0m\n\u001b[0;32m    299\u001b[0m             \u001b[0mproc\u001b[0m\u001b[1;33m.\u001b[0m\u001b[0m_readable\u001b[0m \u001b[1;33m=\u001b[0m \u001b[1;32mTrue\u001b[0m\u001b[1;33m\u001b[0m\u001b[1;33m\u001b[0m\u001b[0m\n",
      "\u001b[1;31mRuntimeError\u001b[0m: Chain 0 failed."
     ]
    }
   ],
   "source": [
    "with pm.Model() as convmodel:\n",
    "    \n",
    "    #define driving function as Gaussian Process\n",
    "    #find way to use g band as first guess of value \n",
    "    ℓ = pm.Uniform('ℓ', lower=0.0, upper=tt.sqrt(70.0))#pm.Bound(pm.Normal, lower=1.2574, upper=3.0*50.0*np.sqrt(2.0))('ℓ', mu=70.0, sigma=35.0)#timescale of variation for the driving function\n",
    "    η = pm.Uniform('η', lower=0.0, upper=0.5)#long term standard deviation for the driving function\n",
    "    cov = η**2 * pm.gp.cov.Exponential(1, ℓ)#using same cov as light curve interpolation\n",
    "    const_func = pm.gp.mean.Constant(tt.mean(yJ))#long term mean. Should it be zero or the g-band value?\n",
    "    gp = pm.gp.Latent(cov_func=cov, mean_func=const_func)\n",
    "    f = gp.prior(\"f\", X=X_tot)#has all time values for all bands, testval is for g-band diffmag values?\n",
    "    f = f.reshape((1,1,len(X_tot),1))\n",
    "    #print(len(f.tag.test_value[0,0,:,0]))\n",
    "    #print(f.tag.test_value)\n",
    "    \n",
    "    \n",
    "    #Define priors\n",
    "    \n",
    "    #Universal Dusty Torus parameters for the uniform temperature DT\n",
    "    sigma_DT=pm.Uniform('sigma_DT', lower=tt.log(1.1), upper=tt.log(25.0))#needs a source for scale\n",
    "    m_DT=pm.Uniform('m_DT', lower=2.0, upper=150.0)#we expect serveral tens to hundreds of days\n",
    "    theta_DT=pm.Uniform('theta_DT', lower=0.0, upper=np.max(tau)/1.2)#add later when simple model is staple\n",
    "    \n",
    "    #Accretion Disk paramters\n",
    "    Jsigma_AD=pm.Bound(pm.Normal, lower=1.1, upper=25.0)('Jsigma_AD', mu=7.5,sigma=4.0)#pm.Uniform('Jsigma_AD', lower=tt.log(1.1), upper=tt.log(25.0))#needs a source for scale\n",
    "    Jsigma_AD=tt.log(Jsigma_AD)\n",
    "    Jm_AD=pm.Uniform('Jm_AD', lower=2.0, upper=50.0)#AD has 3-5 times smaller lags than DT \n",
    "    Jtheta_AD=pm.Uniform('Jtheta_AD', lower=0.0, upper=np.max(tau)/1.2)#add later \n",
    "   \n",
    "    Hsigma_AD=pm.Bound(pm.Normal, lower=1.1, upper=25.0)('Hsigma_AD',mu=10.0,sigma=6.0)#pm.Uniform('Hsigma_AD', lower=tt.log(1.1), upper=tt.log(25.0))#needs a source for scale\n",
    "    Hsigma_AD=tt.log(Hsigma_AD)\n",
    "    Hm_AD=pm.Uniform('Hm_AD', lower=2.0, upper=50.0)#AD has 3-5 times smaller lags than DT\n",
    "    Htheta_AD=pm.Uniform('Htheta_AD', lower=0.0, upper=np.max(tau)/1.2)#add later \n",
    "    \n",
    "    Ksigma_AD=pm.Bound(pm.Normal, lower=1.1, upper=25.0)('Ksigma_AD',mu=10.5,sigma=8.0)#pm.Uniform('Ksigma_AD', lower=tt.log(1.1), upper=tt.log(25.0))#needs a source for scale\n",
    "    Ksigma_AD=tt.log(Ksigma_AD)\n",
    "    Km_AD=pm.Uniform('Km_AD', lower=2.0, upper=50.0)#AD has 3-5 times smaller lags than DT\n",
    "    Ktheta_AD=pm.Uniform('Ktheta_AD', lower=0.0, upper=np.max(tau)/1.2)#add later \n",
    "    \n",
    "    #BB and power law parameters\n",
    "    T=pm.Bound(pm.Normal, lower=1000.0, upper=2000.0)('T', mu=1400.0, sigma=100.0)#taken from nature letter\n",
    "    K_0=pm.Uniform('K_0', lower=0.0, upper=10.0)#is it BB/powr or powr/BB?\n",
    "    index=pm.Uniform('index', lower=0.0, upper=3.0)#sign depends on diffmag definition change to -2 to -1 for final?\n",
    "\n",
    "    #Different wavelength for different bands, not a free paramter \n",
    "    #REMIR filters in nm NEED DATASHEET\n",
    "    Jwav=1250.0\n",
    "    Hwav=1625.0\n",
    "    Kwav=2150.0\n",
    "    #Sloan filters for ROSS2 in nm\n",
    "    #gwav=475.4\n",
    "    #rwav= 620.4\n",
    "    #iwav=769.8\n",
    "    #zwav=966.5\n",
    "    \n",
    "\n",
    "    #Define constants \n",
    "    wav_0 = 1000.0#Reference wavelength in nm, use 500?\n",
    "    h = 6.626e-34#Plancks constant in J*s\n",
    "    c = 299792458.0#speed of light in m/s\n",
    "    k = 1.38e-23#Boltzmanns constant in J/K\n",
    "    \n",
    "    #peak Black Body from uniform torus temperature\n",
    "    wav_peak = 2.898*10**6/T\n",
    "    b_max = h*c/(1e-9*wav_peak*k*T)\n",
    "    BB_max = 1.0/( (wav_peak**5) * (tt.exp(b_max) - 1.0) )\n",
    "    \n",
    "    #Universal lognormal for Dusty Torus \n",
    "    exp_DT = -((tt.log((tau-theta_DT)/m_DT))**2/(2*sigma_DT**2)) \n",
    "    front_DT = 1.0/((tau-theta_DT)*sigma_DT*np.sqrt(2*np.pi))\n",
    "    lognorm_DT = front_DT*tt.exp(exp_DT)\n",
    "    lognorm_DT = tt.switch(tt.isnan(lognorm_DT), 0.0, lognorm_DT)\n",
    "    \n",
    "    #Dusty Torus transfer equation for J band\n",
    "    Jb = h*c/(1e-9*Jwav*k*T)\n",
    "    JBB = (1.0/( Jwav**5 * (tt.exp(Jb) - 1.0) ))/BB_max\n",
    "    JPsi_DT = JBB*lognorm_DT\n",
    "    \n",
    "    #Dusty Torus transfer equation for H band\n",
    "    Hb = h*c/(1e-9*Hwav*k*T)\n",
    "    HBB = (1.0/( Hwav**5 * (tt.exp(Hb) - 1.0) ))/BB_max\n",
    "    HPsi_DT = HBB*lognorm_DT\n",
    "    \n",
    "    #Dusty Torus transfer equation for K band\n",
    "    Kb = h*c/(1e-9*Kwav*k*T)\n",
    "    KBB = (1.0/( Kwav**5 * (tt.exp(Kb) - 1.0) ))/BB_max\n",
    "    KPsi_DT = KBB*lognorm_DT\n",
    "    \n",
    "    #Accretion Disk transfer equation for the J band\n",
    "    Jpowr = K_0*(Jwav/wav_0)**(index)    \n",
    "    Jexp_AD = -((tt.log((tau-Jtheta_AD)/Jm_AD)-Jsigma_AD**2)**2/(2*Jsigma_AD**2))\n",
    "    Jfront_AD = 1.0/((tau-Jtheta_AD)*Jsigma_AD*np.sqrt(2*np.pi))\n",
    "    Jlognorm_AD = Jfront_AD*tt.exp(Jexp_AD)\n",
    "    Jlognorm_AD = tt.switch(tt.isnan(Jlognorm_AD), 0.0, Jlognorm_AD)\n",
    "    JPsi_AD = Jpowr*Jlognorm_AD\n",
    "    \n",
    "    #Accretion Disk transfer equation for the H band\n",
    "    Hpowr = K_0*(Hwav/wav_0)**(index)    \n",
    "    Hexp_AD = -((tt.log((tau-Htheta_AD)/Hm_AD)-Hsigma_AD**2)**2/(2*Hsigma_AD**2))\n",
    "    Hfront_AD = 1.0/((tau-Htheta_AD)*Hsigma_AD*np.sqrt(2*np.pi))\n",
    "    Hlognorm_AD = Hfront_AD*tt.exp(Hexp_AD)\n",
    "    Hlognorm_AD = tt.switch(tt.isnan(Hlognorm_AD), 0.0, Hlognorm_AD)\n",
    "    HPsi_AD = Hpowr*Hlognorm_AD\n",
    "    \n",
    "    #Accretion Disk transfer equation for the K band\n",
    "    Kpowr = K_0*(Kwav/wav_0)**(index)    \n",
    "    Kexp_AD = -((tt.log((tau-Ktheta_AD)/Km_AD)-Ksigma_AD**2)**2/(2*Ksigma_AD**2))\n",
    "    Kfront_AD = 1.0/((tau-Ktheta_AD)*Ksigma_AD*np.sqrt(2*np.pi))\n",
    "    Klognorm_AD = Kfront_AD*tt.exp(Kexp_AD)\n",
    "    Klognorm_AD = tt.switch(tt.isnan(Klognorm_AD), 0.0, Klognorm_AD)\n",
    "    KPsi_AD = Kpowr*Klognorm_AD\n",
    "    \n",
    "    #Full transfer equations\n",
    "    Jtransfer = JPsi_DT + JPsi_AD\n",
    "    Htransfer = HPsi_DT + HPsi_AD\n",
    "    Ktransfer = KPsi_DT + KPsi_AD\n",
    "    \n",
    "    #The convolutions\n",
    "    #filter needs to be odd so tau is odd\n",
    "    Jconvol=theano.tensor.nnet.conv2d(f[:,:,0:len(xJ),:],Jtransfer,border_mode='half')\n",
    "    Hconvol=theano.tensor.nnet.conv2d(f[:,:,len(xJ):len(xJ)+len(xH),:],Htransfer,border_mode='half')\n",
    "    Kconvol=theano.tensor.nnet.conv2d(f[:,:,len(xJ)+len(xH):len(xJ)+len(xH)+len(xK),:],Ktransfer,border_mode='half')\n",
    "\n",
    "    #Define likelihoods\n",
    "    #k = pm.Uniform('k', lower=1.0, upper=10.0)#Noise boost factor \n",
    "    Jlikelihood = pm.Normal('yJ', mu=Jconvol[0,0,:,0], sigma=yJerr, observed=yJ)\n",
    "    Hlikelihood = pm.Normal('yH', mu=Hconvol[0,0,:,0], sigma=yHerr, observed=yH)\n",
    "    Klikelihood = pm.Normal('yK', mu=Kconvol[0,0,:,0], sigma=yKerr, observed=yK)\n",
    "    #the shape of mu and observed needs to be the same \n",
    "    \n",
    "    tracetransfer = pm.sample(1,tune=600, discard_tuned_samples=False)"
   ]
  },
  {
   "cell_type": "code",
   "execution_count": null,
   "metadata": {},
   "outputs": [],
   "source": [
    "names=['index', 'K_0', 'T', 'Km_AD', 'Ksigma_AD', 'sigma_DT', 'Hm_AD', 'theta_DT', 'm_DT', 'Hsigma_AD', 'Jm_AD', 'Jsigma_AD', 'η', 'ℓ']\n",
    "# display the total number and percentage of divergent\n",
    "divergent = tracetransfer['diverging']\n",
    "print('Number of Divergent %d' % divergent.nonzero()[0].size)\n",
    "divperc = (divergent.nonzero()[0].size / (2*len(tracetransfer))) * 100\n",
    "print('Percentage of Divergent %.1f' % divperc)"
   ]
  },
  {
   "cell_type": "code",
   "execution_count": null,
   "metadata": {},
   "outputs": [],
   "source": [
    "from collections import defaultdict\n",
    "divergent_point = defaultdict(list)\n",
    "\n",
    "chain_warn = tracetransfer.report._chain_warnings\n",
    "for i in range(len(chain_warn)):\n",
    "    for warning_ in chain_warn[i]:\n",
    "        if warning_.step is not None and warning_.extra is not None:\n",
    "            for RV in convmodel.free_RVs:\n",
    "                para_name = RV.name\n",
    "                divergent_point[para_name].append(warning_.extra[para_name])\n",
    "\n",
    "for RV in convmodel.free_RVs:\n",
    "    para_name = RV.name\n",
    "    divergent_point[para_name] = np.asarray(divergent_point[para_name])\n"
   ]
  },
  {
   "cell_type": "code",
   "execution_count": null,
   "metadata": {},
   "outputs": [],
   "source": [
    "tracedf = pm.trace_to_dataframe(tracetransfer)\n",
    "plotorder = names\n",
    "tracedf = tracedf[plotorder]\n",
    "\n",
    "_, ax = plt.subplots(1, 2, figsize=(15, 4), sharex=True, sharey=True)\n",
    "ax[0].plot(tracedf.values[divergent == 0].T, color='k', alpha=.025)\n",
    "ax[0].plot(tracedf.values[divergent == 1].T, color='C2', lw=.5)\n",
    "\n",
    "ax[1].plot(tracedf.values[divergent == 0].T, color='k', alpha=.025)\n",
    "ax[1].plot(tracedf.values[divergent == 1].T, color='C2', lw=.5)\n",
    "divsp = np.hstack([divergent_point['Km_AD_interval__'][:,None],\n",
    "                  ])\n",
    "\n",
    "ax[1].plot(divsp.T, 'C3', lw=.5)\n",
    "plt.ylim([-20,40])\n",
    "plt.xticks(range(10), plotorder)\n",
    "plt.tight_layout();"
   ]
  },
  {
   "cell_type": "code",
   "execution_count": null,
   "metadata": {},
   "outputs": [],
   "source": [
    "pm.summary(tracetransfer, names).round(2)"
   ]
  },
  {
   "cell_type": "code",
   "execution_count": null,
   "metadata": {},
   "outputs": [],
   "source": [
    "pm.traceplot(tracetransfer, var_names=names);"
   ]
  },
  {
   "cell_type": "code",
   "execution_count": null,
   "metadata": {},
   "outputs": [],
   "source": [
    "pm.plot_posterior(tracetransfer,names)"
   ]
  },
  {
   "cell_type": "code",
   "execution_count": null,
   "metadata": {},
   "outputs": [],
   "source": [
    "import numpy as np\n",
    "import matplotlib.pyplot as plt\n",
    "\n",
    "mu,sigma,n = 7.5,5.,1000\n",
    "\n",
    "def normal(x,mu,sigma):\n",
    "    return ( 2.*np.pi*sigma**2. )**-.5 * np.exp( -.5 * (x-mu)**2. / sigma**2. )\n",
    "\n",
    "x = np.random.normal(mu,sigma,n) \n",
    "y = normal(x,mu,sigma) \n",
    "\n",
    "\n",
    "plt.plot(x,y,'.')"
   ]
  },
  {
   "cell_type": "code",
   "execution_count": null,
   "metadata": {},
   "outputs": [],
   "source": []
  },
  {
   "cell_type": "code",
   "execution_count": null,
   "metadata": {},
   "outputs": [],
   "source": [
    "3.0*50.0*np.sqrt(2.0)"
   ]
  },
  {
   "cell_type": "code",
   "execution_count": null,
   "metadata": {},
   "outputs": [],
   "source": []
  }
 ],
 "metadata": {
  "kernelspec": {
   "display_name": "Python 3",
   "language": "python",
   "name": "python3"
  },
  "language_info": {
   "codemirror_mode": {
    "name": "ipython",
    "version": 3
   },
   "file_extension": ".py",
   "mimetype": "text/x-python",
   "name": "python",
   "nbconvert_exporter": "python",
   "pygments_lexer": "ipython3",
   "version": "3.7.4"
  }
 },
 "nbformat": 4,
 "nbformat_minor": 2
}
