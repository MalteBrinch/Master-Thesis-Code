{
 "cells": [
  {
   "cell_type": "code",
   "execution_count": 2,
   "metadata": {},
   "outputs": [
    {
     "data": {
      "text/plain": [
       "<Figure size 640x480 with 1 Axes>"
      ]
     },
     "metadata": {},
     "output_type": "display_data"
    }
   ],
   "source": [
    "# 15-Sep-2019\n",
    "# Bo Milvang-Jensen\n",
    "# Very rudimentary script to read+plot ...\n",
    "\n",
    "import astropy.io.fits as fits\n",
    "import numpy as np\n",
    "import matplotlib.pyplot as plt\n",
    "\n",
    "# Read photometry catalogue created by my other script\n",
    "photfilename = 'F51_out_REMIR_ROS2.fits'\n",
    "data = fits.getdata(photfilename, 1)\n",
    "\n",
    "# The photometry catalogue contains aperture photometry in 25 different\n",
    "# apertures. If we number them 0..24, they correspond to diameters 1..25 arcsec\n",
    "apno = 10 # This is then 11 arcsec\n",
    "\n",
    "# The photometry catalogue contains photometry for the AGN plus some more\n",
    "# objects in the field, in this case the AGN + 6 more objetcs, so 7 in\n",
    "# total. The AGN is number 1, and the others 2, 3, etc.\n",
    "# This is seen in the column names, which end in _1, _2, etc.\n",
    "# E.g. the column MAG_APER_1 contains the aperture magnitudes (for all\n",
    "# 25 apertures) for the AGN.\n",
    "\n",
    "# Get the aperture magnitudes\n",
    "##foo = data['MAG_APER_1'] # has shape e.g. (767, 25), the 25 being the apertures\n",
    "mag_agn  = data['MAG_APER_1'][:,apno]\n",
    "mag_ref1 = data['MAG_APER_3'][:,apno] # I have found that _3 is good here\n",
    "mag_ref2 = data['MAG_APER_4'][:,apno]\n",
    "\n",
    "# Get the differential magnitudes\n",
    "delta_mag_agn_ref1 = mag_agn - mag_ref1\n",
    "delta_mag_ref2_ref1 = mag_ref2 - mag_ref1\n",
    "\n",
    "# Get the magnitude errors \n",
    "magerr_agn = data['MAGERR_APER_1'][:,apno]\n",
    "magerr_ref1 = data['MAGERR_APER_3'][:,apno]\n",
    "magerr_ref2= data['MAGERR_APER_4'][:,apno]\n",
    "\n",
    "# TODO Here I could loop over the filters, subtracting the median\n",
    "\n",
    "# For simplicity \"extract\" some arrays from the data\n",
    "filt = data['filter']\n",
    "mjd_obs = data['mjd_obs']\n",
    "\n",
    "# A simple plot of the J band differential mags, with the median subtracted\n",
    "# Do 'H' and 'K' in the same way\n",
    "mask = (filt == 'J')\n",
    "#print(magerr_ref1[mask])\n",
    "#plt.scatter(mjd_obs[mask], delta_mag_agn_ref1[mask]-np.median(delta_mag_agn_ref1[mask]))\n",
    "plt.errorbar(mjd_obs[mask], delta_mag_agn_ref1[mask]-np.median(delta_mag_agn_ref1[mask]), magerr_ref1[mask],fmt='b.')\n",
    "plt.title('test')\n",
    "plt.xlabel('MJD-OBS')\n",
    "plt.ylabel('delta mag')\n",
    "plt.show()"
   ]
  },
  {
   "cell_type": "code",
   "execution_count": 3,
   "metadata": {},
   "outputs": [
    {
     "name": "stdout",
     "output_type": "stream",
     "text": [
      "49\n"
     ]
    }
   ],
   "source": [
    "#J band data\n",
    "xJ=np.asarray(mjd_obs[mask], dtype=float)\n",
    "nJ=len(xJ)\n",
    "XJ = np.reshape(xJ,(nJ,1))\n",
    "yJ=np.asarray(delta_mag_agn_ref1[mask]-np.median(delta_mag_agn_ref1[mask]), dtype=float)\n",
    "yJerr = np.array(magerr_ref1[mask], dtype=float)\n",
    "\n",
    "\n",
    "#K band data\n",
    "mask2 = (filt == 'K')\n",
    "xK=np.asarray(mjd_obs[mask2], dtype=float)\n",
    "nK=len(xK)\n",
    "XK = np.reshape(xK,(nK,1))\n",
    "yK=np.asarray(delta_mag_agn_ref1[mask2]-np.median(delta_mag_agn_ref1[mask2]), dtype=float)\n",
    "yKerr = np.asarray(magerr_ref1[mask2], dtype=float)\n",
    "print(nJ)"
   ]
  },
  {
   "cell_type": "code",
   "execution_count": 4,
   "metadata": {},
   "outputs": [
    {
     "name": "stdout",
     "output_type": "stream",
     "text": [
      "(99, 1)\n"
     ]
    }
   ],
   "source": [
    "import numpy as np\n",
    "import matplotlib.pyplot as plt\n",
    "import pymc3 as pm\n",
    "import theano\n",
    "import theano.tensor as tt\n",
    "from theano.tensor import fft\n",
    "\n",
    "X_new_temp,muJ_temp,sdJ_temp = np.loadtxt('Jband.txt', delimiter=',', usecols=(0,1,2), unpack=True)\n",
    "XK_new_temp,muK_temp,sdK_temp = np.loadtxt('Kband.txt', delimiter=',', usecols=(0,1,2), unpack=True)\n",
    "\n",
    "i_low=1\n",
    "i_high=100\n",
    "X_new=X_new_temp[i_low:i_high]\n",
    "X_new=np.reshape(X_new,(len(X_new),1))\n",
    "muJ=muJ_temp[i_low:i_high]\n",
    "sdJ=sdJ_temp[i_low:i_high]\n",
    "\n",
    "XK_new=XK_new_temp[i_low:i_high]\n",
    "muK=muK_temp[i_low:i_high]\n",
    "sdK=sdK_temp[i_low:i_high]\n",
    "\n",
    "tau=np.linspace(1,100,99)#time delay array\n",
    "tau=np.reshape(tau,(1,1,99,1))\n",
    "\n",
    "print(X_new.shape)"
   ]
  },
  {
   "cell_type": "code",
   "execution_count": null,
   "metadata": {},
   "outputs": [
    {
     "name": "stdout",
     "output_type": "stream",
     "text": [
      "[-0.06002389 -0.05328291 -0.04674592 -0.04054536 -0.03489332 -0.03010178\n",
      " -0.02625847 -0.02334123 -0.02134983 -0.02031886 -0.02028028 -0.02156702\n",
      " -0.0241967  -0.02794278 -0.03279721 -0.0386162  -0.04521739 -0.05213206\n",
      " -0.05906459 -0.06576065 -0.07158115 -0.0757734  -0.07801241 -0.07855185\n",
      " -0.07756018 -0.07493213 -0.07043204 -0.06424851 -0.05670262 -0.04834713\n",
      " -0.03945259 -0.0301706  -0.02057165 -0.01082603 -0.00124781  0.0073916\n",
      "  0.01528291  0.02253711  0.02925938  0.03552413  0.04135662  0.0467995\n",
      "  0.05185284  0.05654744  0.06154754  0.06687359  0.07230542  0.07829876\n",
      "  0.08512635  0.09299886  0.05834737  0.04296163  0.03368393  0.02733627\n",
      "  0.02268342  0.01912445  0.01632474  0.01408098  0.01226187  0.01077803\n",
      "  0.00956617  0.00857943  0.00777867  0.00713118  0.00661084  0.00619607\n",
      "  0.00587349  0.00563285  0.00546129  0.00534794  0.00528101  0.00525279\n",
      "  0.00525608  0.0052867   0.00534909  0.00543974  0.00555605  0.00569576\n",
      "  0.00584916  0.00601378  0.00618866  0.00637175  0.00655615  0.00673748\n",
      "  0.0069135   0.00707509  0.00721308  0.0073252   0.00740994  0.00746513\n",
      "  0.00749064  0.00748673  0.0074542   0.00739905  0.00732453  0.00723204\n",
      "  0.00712285  0.00699831  0.00685901]\n"
     ]
    },
    {
     "name": "stderr",
     "output_type": "stream",
     "text": [
      "Auto-assigning NUTS sampler...\n",
      "Initializing NUTS using jitter+adapt_diag...\n",
      "C:\\Users\\Ejer\\Anaconda3\\lib\\site-packages\\theano\\tensor\\basic.py:6611: FutureWarning: Using a non-tuple sequence for multidimensional indexing is deprecated; use `arr[tuple(seq)]` instead of `arr[seq]`. In the future this will be interpreted as an array index, `arr[np.array(seq)]`, which will result either in an error or a different result.\n",
      "  result[diagonal_slice] = x\n",
      "C:\\Users\\Ejer\\Anaconda3\\lib\\site-packages\\theano\\tensor\\basic.py:6611: FutureWarning: Using a non-tuple sequence for multidimensional indexing is deprecated; use `arr[tuple(seq)]` instead of `arr[seq]`. In the future this will be interpreted as an array index, `arr[np.array(seq)]`, which will result either in an error or a different result.\n",
      "  result[diagonal_slice] = x\n",
      "C:\\Users\\Ejer\\Anaconda3\\lib\\site-packages\\theano\\tensor\\basic.py:6611: FutureWarning: Using a non-tuple sequence for multidimensional indexing is deprecated; use `arr[tuple(seq)]` instead of `arr[seq]`. In the future this will be interpreted as an array index, `arr[np.array(seq)]`, which will result either in an error or a different result.\n",
      "  result[diagonal_slice] = x\n",
      "Multiprocess sampling (4 chains in 4 jobs)\n",
      "NUTS: [index, K_0, T, wav, A_T, N_AD, N_DT, m_AD, m_DT, sigma_AD, sigma_DT, f_rotated_, η, ℓ]\n",
      "Sampling 4 chains:  13%|█▎        | 1595/12000 [1:32:31<10:26:59,  3.62s/draws]  "
     ]
    }
   ],
   "source": [
    "import theano\n",
    "import theano.tensor as tt\n",
    "import theano.tensor.signal.conv\n",
    "\n",
    "with pm.Model() as convmodel:\n",
    "    \n",
    "    #define driving function as Gaussian Process\n",
    "    #fine way to use g band as first guess of value \n",
    "    ℓ = pm.Uniform('ℓ', lower=1.2574, upper=6.0*50.0*np.sqrt(2.0))#\n",
    "    η = pm.Uniform('η', lower=0.0, upper=1.0)#\n",
    "    cov = η**2 * pm.gp.cov.Exponential(1, ℓ)#using same cov as light curve interpolation\n",
    "    gp = pm.gp.Latent(cov_func=cov)\n",
    "    f = gp.prior(\"f\", X=X_new,testval=muJ)#use the g band time values here, testval is for diffmag values\n",
    "    f = f.reshape((1,1,len(X_new),1))\n",
    "    #print(f.shape.ndim)\n",
    "    #print(f.tag.test_value)\n",
    "    \n",
    "    \n",
    "    #Define priors\n",
    "    sigma_DT=pm.Uniform('sigma_DT', lower=tt.log(2.0), upper=tt.log(500.0))#needs a source for scale\n",
    "    sigma_AD=pm.Uniform('sigma_AD', lower=tt.log(2.0), upper=tt.log(500.0))#needs a source for scale\n",
    "    m_DT=pm.Uniform('m_DT', lower=10.0, upper=300.0)#we expect serveral tens to hundreds of days\n",
    "    m_AD=pm.Uniform('m_AD', lower=2.0, upper=100.0)#AD has 3-5 times smaller lags than DT \n",
    "    #theta_DT=pm.Uniform('theta_DT', lower=-99.0, upper=np.max(tau)-1.0)\n",
    "    #theta_AD=pm.Uniform('theta_AD', lower=-99.0, upper=np.max(tau)-1.0)\n",
    "    N_DT=pm.Uniform('N_DT', lower=0.0, upper=100.0)#supposed to be a function of lamb_B and T_BB\n",
    "    N_AD=pm.Uniform('N_AD', lower=0.0, upper=100.0)#supposed to a function of lamb_B and index\n",
    "    \n",
    "    A_T=pm.Uniform('A_T', lower=0.0, upper=1.0)#needs to be restricted between 0 to 1\n",
    "    wav=pm.Uniform('wav', lower=tt.log(100.0), upper=tt.log(10000.0))#the range is large \n",
    "    T=pm.Uniform('T', lower=tt.log(1000.0), upper=tt.log(1700.0))#pm.Normal('T', mu=tt.log(1400.0), sigma=tt.log(100.0))##taken from nature letter\n",
    "    K_0=pm.Uniform('K_0', lower=0.0, upper=10.0)#is it BB/powr or powr/BB?\n",
    "    index=pm.Uniform('index', lower=0.1, upper=10.0)#sign depends on diffmag definition change to -2 to -1 for final\n",
    "\n",
    "    #Define constants \n",
    "    wav_0 = 5000.0#Reference wavelength\n",
    "    h = 6.626e-34#Plancks constant\n",
    "    c = 299792458.0#speed of light\n",
    "    k = 1.38e-23#Boltzmanns constant\n",
    "    \n",
    "    #Dusty Torus transfer equation\n",
    "    wav_peak = 2.898*10**6/tt.exp(T)\n",
    "    b_max = h*c/(1e-9*wav_peak*k*tt.exp(T))\n",
    "    BB_max = 1.0/( (wav_peak**5) * (tt.exp(b_max) - 1.0) )\n",
    "    b = h*c/(1e-9*tt.exp(wav)*k*tt.exp(T))\n",
    "    BB = (1.0/( (tt.exp(wav)**5) * (tt.exp(b) - 1.0) ))/BB_max\n",
    "\n",
    "    exp_DT = -((tt.log(tau)/m_DT)**2/(2*sigma_DT**2))\n",
    "    front_DT = A_T/((tau)*sigma_DT*np.sqrt(2*np.pi))\n",
    "    lognorm_DT = front_DT*np.exp(exp_DT)\n",
    "    Psi_DT = N_DT*BB*lognorm_DT\n",
    "    \n",
    "    #Accretion Disk transfer equation\n",
    "        \n",
    "    powr = K_0*(tt.exp(wav)/wav_0)**(index)    \n",
    "\n",
    "    exp_AD = -((tt.log(tau)/m_AD)**2/(2*sigma_AD**2))\n",
    "    front_AD = (1.0-A_T)/((tau)*sigma_AD*np.sqrt(2*np.pi))\n",
    "    lognorm_AD = front_AD*tt.exp(exp_AD)\n",
    "    Psi_AD = N_AD*powr*lognorm_AD\n",
    "\n",
    "    \n",
    "    #Full transfer equation\n",
    "    transfer = (Psi_DT + Psi_AD)\n",
    "    \n",
    "    #The convolution\n",
    "    \n",
    "    convol=theano.tensor.nnet.conv2d(f,transfer,border_mode='half')\n",
    "    print(convol[0,0,:,0].tag.test_value)\n",
    "    \n",
    "    #Define likelihood\n",
    "    likelihood = pm.Normal('muK', mu=convol[0,0,:,0], sigma=sdK, observed=muK)\n",
    "    #the shape of mu and observed needs to be the same \n",
    "    tracetransfer = pm.sample(2000, tune=1000)#tuning improves speed?"
   ]
  },
  {
   "cell_type": "code",
   "execution_count": null,
   "metadata": {},
   "outputs": [],
   "source": []
  }
 ],
 "metadata": {
  "kernelspec": {
   "display_name": "Python 3",
   "language": "python",
   "name": "python3"
  },
  "language_info": {
   "codemirror_mode": {
    "name": "ipython",
    "version": 3
   },
   "file_extension": ".py",
   "mimetype": "text/x-python",
   "name": "python",
   "nbconvert_exporter": "python",
   "pygments_lexer": "ipython3",
   "version": "3.7.3"
  }
 },
 "nbformat": 4,
 "nbformat_minor": 2
}
