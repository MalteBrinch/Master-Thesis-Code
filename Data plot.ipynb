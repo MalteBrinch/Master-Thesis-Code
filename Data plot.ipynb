{
 "cells": [
  {
   "cell_type": "code",
   "execution_count": 30,
   "metadata": {},
   "outputs": [],
   "source": [
    "import astropy.io.fits as fits\n",
    "import numpy as np\n",
    "import matplotlib.pyplot as plt\n",
    "import theano\n",
    "import theano.tensor as tt\n",
    "from theano.tensor import fft\n",
    "import pymc3 as pm\n",
    "from pymc3.variational.callbacks import CheckParametersConvergence\n",
    "import theano.tensor.signal.conv\n",
    "import exoplanet as xo\n",
    "import scipy.signal"
   ]
  },
  {
   "cell_type": "code",
   "execution_count": 66,
   "metadata": {},
   "outputs": [],
   "source": [
    "# Read photometry catalogue created by my other script\n",
    "photfilename = 'F51_out_REMIR_ROS2_phot_v02.fits'\n",
    "data = fits.getdata(photfilename, 1)\n",
    "\n",
    "# The photometry catalogue contains aperture photometry in 25 different\n",
    "# apertures. If we number them 0..24, they correspond to diameters 1..25 arcsec\n",
    "apno = 10 # This is then 11 arcsec\n",
    "\n",
    "# The photometry catalogue contains photometry for the AGN plus some more\n",
    "# objects in the field, in this case the AGN + 6 more objetcs, so 7 in\n",
    "# total. The AGN is number 1, and the others 2, 3, etc.\n",
    "# This is seen in the column names, which end in _1, _2, etc.\n",
    "# E.g. the column MAG_APER_1 contains the aperture magnitudes (for all\n",
    "# 25 apertures) for the AGN.\n",
    "\n",
    "# Get the aperture magnitudes\n",
    "##foo = data['MAG_APER_1'] # has shape e.g. (767, 25), the 25 being the apertures\n",
    "mag_agn  = data['MAG_APER_1'][:,apno]\n",
    "mag_ref1 = data['MAG_APER_3'][:,apno] # I have found that _3 is good here\n",
    "mag_ref2 = data['MAG_APER_4'][:,apno]\n",
    "\n",
    "# Get the differential magnitudes\n",
    "delta_mag_agn_ref1 = mag_agn - mag_ref1\n",
    "delta_mag_ref2_ref1 = mag_ref2 - mag_ref1\n",
    "\n",
    "# Get the magnitude errors \n",
    "magerr_agn = data['MAGERR_APER_1'][:,apno]\n",
    "magerr_ref1 = data['MAGERR_APER_3'][:,apno]\n",
    "magerr_ref2= data['MAGERR_APER_4'][:,apno]\n",
    "\n",
    "# Get the differential magnitudes error\n",
    "delta_magerr_agn_ref1 = np.sqrt(magerr_agn**2 + magerr_ref1**2)\n",
    "delta_magerr_ref2_ref1 = np.sqrt(magerr_ref2**2 + magerr_ref1**2)\n",
    "errlim = 0.1 #max error value\n",
    "\n",
    "# TODO Here I could loop over the filters, subtracting the median\n",
    "\n",
    "# For simplicity \"extract\" some arrays from the data\n",
    "filt = data['filter']\n",
    "mjd_obs = data['mjd_obs']\n",
    "\n",
    "# A simple plot of the J band differential mags, with the median subtracted\n",
    "# Do 'H' and 'K' in the same way\n",
    "maskJ = (filt == 'J')\n",
    "#J band data\n",
    "#Remove NaN\n",
    "Jtemp=delta_mag_agn_ref1[maskJ]\n",
    "Jisnan=~np.isnan(Jtemp)\n",
    "xJ=np.asarray(mjd_obs[maskJ][Jisnan], dtype=float)\n",
    "nJ=len(xJ)\n",
    "XJ = np.reshape(xJ,(nJ,1))\n",
    "yJ=np.asarray(delta_mag_agn_ref1[maskJ][Jisnan]-np.median(delta_mag_agn_ref1[maskJ][Jisnan]), dtype=float)\n",
    "yJerr = np.asarray(delta_magerr_agn_ref1[maskJ][Jisnan], dtype=float)\n",
    "#Remove >errlim mag errors\n",
    "xJ=xJ[yJerr<errlim]\n",
    "nJ=len(xJ)\n",
    "XJ = np.reshape(xJ,(nJ,1))\n",
    "yJ=yJ[yJerr<errlim]\n",
    "yJerr = yJerr[yJerr<errlim]\n",
    "\n",
    "\n",
    "#H band data\n",
    "#Remove NaN\n",
    "maskH = (filt == 'H')\n",
    "Htemp=delta_mag_agn_ref1[maskH]\n",
    "Hisnan=~np.isnan(Htemp)\n",
    "xH=np.asarray(mjd_obs[maskH][Hisnan], dtype=float)\n",
    "nH=len(xH)\n",
    "XH = np.reshape(xH,(nH,1))\n",
    "yH=np.asarray(delta_mag_agn_ref1[maskH][Hisnan]-np.median(delta_mag_agn_ref1[maskH][Hisnan]), dtype=float)\n",
    "yHerr = np.asarray(delta_magerr_agn_ref1[maskH][Hisnan], dtype=float)\n",
    "#Remove >errlim mag errors\n",
    "xH=xH[yHerr<errlim]\n",
    "nH=len(xH)\n",
    "XH = np.reshape(xH,(nH,1))\n",
    "yH=yH[yHerr<errlim]\n",
    "yHerr = yHerr[yHerr<errlim]\n",
    "\n",
    "#K band data\n",
    "#Remove NaN\n",
    "maskK = (filt == 'K')\n",
    "xK=np.asarray(mjd_obs[maskK], dtype=float)\n",
    "nK=len(xK)\n",
    "XK = np.reshape(xK,(nK,1))\n",
    "yK=np.asarray(delta_mag_agn_ref1[maskK]-np.median(delta_mag_agn_ref1[maskK]), dtype=float)\n",
    "yKerr = np.asarray(delta_magerr_agn_ref1[maskK], dtype=float)\n",
    "#Remove >errlim mag errors\n",
    "xK=xK[yKerr<errlim]\n",
    "nK=len(xK)\n",
    "XK = np.reshape(xK,(nK,1))\n",
    "yK=yK[yKerr<errlim]\n",
    "yKerr = yKerr[yKerr<errlim]\n",
    "\n",
    "#g band data\n",
    "#Remove NaN\n",
    "maskg = (filt == 'g')\n",
    "gtemp=delta_mag_agn_ref1[maskg]\n",
    "gisnan=~np.isnan(gtemp)\n",
    "xg=np.asarray(mjd_obs[maskg][gisnan], dtype=float)\n",
    "ng=len(xg)\n",
    "Xg = np.reshape(xg,(ng,1))\n",
    "yg=np.asarray(delta_mag_agn_ref1[maskg][gisnan]-np.median(delta_mag_agn_ref1[maskg][gisnan]), dtype=float)\n",
    "ygerr = np.asarray(delta_magerr_agn_ref1[maskg][gisnan], dtype=float)\n",
    "#Remove >errlim mag errors\n",
    "xg=xg[ygerr<errlim]\n",
    "ng=len(xg)\n",
    "Xg = np.reshape(xg,(ng,1))\n",
    "yg=yg[ygerr<errlim]\n",
    "ygerr = ygerr[ygerr<errlim]\n",
    "#remove values \n",
    "xg=xg[(yg>-0.4) & (yg<0.4)]\n",
    "ng=len(xg)\n",
    "Xg = np.reshape(xg,(ng,1))\n",
    "ygerr=ygerr[(yg>-0.4) & (yg<0.4)]\n",
    "yg=yg[(yg>-0.4) & (yg<0.4)]\n",
    "\n",
    "#r band data\n",
    "#Remove NaN\n",
    "maskr = (filt == 'r')\n",
    "rtemp=delta_mag_agn_ref1[maskr]\n",
    "risnan=~np.isnan(rtemp)\n",
    "xr=np.asarray(mjd_obs[maskr][risnan], dtype=float)\n",
    "nr=len(xr)\n",
    "Xr = np.reshape(xr,(nr,1))\n",
    "yr=np.asarray(delta_mag_agn_ref1[maskr][risnan]-np.median(delta_mag_agn_ref1[maskr][risnan]), dtype=float)\n",
    "yrerr = np.asarray(delta_magerr_agn_ref1[maskr][risnan], dtype=float)\n",
    "#Remove >errlim mag errors\n",
    "xr=xr[yrerr<errlim]\n",
    "nr=len(xr)\n",
    "Xr = np.reshape(xr,(nr,1))\n",
    "yr=yr[yrerr<errlim]\n",
    "yrerr = yrerr[yrerr<errlim]\n",
    "#remove values \n",
    "xr=xr[(yr>-0.4) & (yr<0.4)]\n",
    "nr=len(xr)\n",
    "Xr = np.reshape(xr,(nr,1))\n",
    "yrerr=yrerr[(yr>-0.4) & (yr<0.4)]\n",
    "yr=yr[(yr>-0.4) & (yr<0.4)]\n",
    "\n",
    "#i band data\n",
    "#Remove NaN\n",
    "maski = (filt == 'i')\n",
    "itemp=delta_mag_agn_ref1[maski]\n",
    "iisnan=~np.isnan(itemp)\n",
    "xi=np.asarray(mjd_obs[maski][iisnan], dtype=float)\n",
    "ni=len(xi)\n",
    "Xi = np.reshape(xi,(ni,1))\n",
    "yi=np.asarray(delta_mag_agn_ref1[maski][iisnan]-np.median(delta_mag_agn_ref1[maski][iisnan]), dtype=float)\n",
    "yierr = np.asarray(delta_magerr_agn_ref1[maski][iisnan], dtype=float)\n",
    "#Remove >errlim mag errors\n",
    "xi=xi[yierr<errlim]\n",
    "ni=len(xi)\n",
    "Xi = np.reshape(xi,(ni,1))\n",
    "yi=yi[yierr<errlim]\n",
    "yierr = yierr[yierr<errlim]\n",
    "#remove values \n",
    "xi=xi[(yi>-0.4) & (yi<0.4)]\n",
    "ni=len(xi)\n",
    "Xi= np.reshape(xi,(ni,1))\n",
    "yierr=yierr[(yi>-0.4) & (yi<0.4)]\n",
    "yi=yi[(yi>-0.4) & (yi<0.4)]\n",
    "\n",
    "#z band data\n",
    "#Remove NaN\n",
    "maskz = (filt == 'z')\n",
    "ztemp=delta_mag_agn_ref1[maskz]\n",
    "zisnan=~np.isnan(ztemp)\n",
    "xz=np.asarray(mjd_obs[maskz][zisnan], dtype=float)\n",
    "nz=len(xz)\n",
    "Xz = np.reshape(xz,(nz,1))\n",
    "yz=np.asarray(delta_mag_agn_ref1[maskz][zisnan]-np.median(delta_mag_agn_ref1[maskz][zisnan]), dtype=float)\n",
    "yzerr = np.asarray(delta_magerr_agn_ref1[maskz][zisnan], dtype=float)\n",
    "#Remove >errlim mag errors\n",
    "xz=xz[yzerr<errlim]\n",
    "nz=len(xz)\n",
    "Xz = np.reshape(xz,(nz,1))\n",
    "yz=yz[yzerr<errlim]\n",
    "yzerr = yzerr[yzerr<errlim]\n",
    "#remove values \n",
    "xz=xz[(yz>-0.4) & (yz<0.4)]\n",
    "nz=len(xz)\n",
    "Xz = np.reshape(xz,(nz,1))\n",
    "yzerr=yzerr[(yz>-0.4) & (yz<0.4)]\n",
    "yz=yz[(yz>-0.4) & (yz<0.4)]\n",
    "\n",
    "#time array with all bands\n",
    "#be carefull with how XJ and xj acts \n",
    "X_tot= np.concatenate((xJ,xH,xK,xg,xr,xi,xz),axis=None)\n",
    "X_tot=np.reshape(X_tot,(len(X_tot),1))\n",
    "\n",
    "#combine all y values for guess\n",
    "Y_tot= np.concatenate((yJ,yH,yK),axis=None)"
   ]
  },
  {
   "cell_type": "code",
   "execution_count": 68,
   "metadata": {},
   "outputs": [
    {
     "data": {
      "text/plain": [
       "<matplotlib.legend.Legend at 0x7f7e5a4687d0>"
      ]
     },
     "execution_count": 68,
     "metadata": {},
     "output_type": "execute_result"
    },
    {
     "data": {
      "image/png": "[encoded data removed]",
      "text/plain": [
       "<Figure size 432x288 with 1 Axes>"
      ]
     },
     "metadata": {
      "needs_background": "light"
     },
     "output_type": "display_data"
    }
   ],
   "source": [
    "plt.errorbar(xJ, yJ, yJerr,fmt='b.',label='J')\n",
    "plt.errorbar(xH, yH, yHerr,fmt='r.',label='H')\n",
    "plt.errorbar(xK, yK, yKerr,fmt='g.',label='K')\n",
    "plt.errorbar(xg, yg, ygerr,fmt='c.',label='g')\n",
    "plt.errorbar(xr, yr, yrerr,fmt='m.',label='r')\n",
    "plt.errorbar(xi, yi, yierr,fmt='y.',label='i')\n",
    "plt.errorbar(xz, yz, yzerr,fmt='k.',label='z')\n",
    "\n",
    "#plt.ylim(-0.25,0.25)\n",
    "#plt.xlim(58200,58400)\n",
    "plt.title('Light curves')\n",
    "plt.xlabel('Time')\n",
    "plt.ylabel('Delta mag')\n",
    "plt.legend()"
   ]
  },
  {
   "cell_type": "markdown",
   "metadata": {},
   "source": [
    "# Combine data points"
   ]
  },
  {
   "cell_type": "code",
   "execution_count": 152,
   "metadata": {},
   "outputs": [
    {
     "name": "stdout",
     "output_type": "stream",
     "text": [
      "[57690.1558053 57690.1578785 57690.1599501]\n",
      "[57714.0926328 57714.0946803 57714.0967258]\n",
      "[57727.0577714 57727.059818  57727.0618634]\n",
      "[57785.3366939 57785.3387671 57785.3408377]\n",
      "[57799.3365427 57799.3386169 57799.3406711]\n",
      "57870.3807495\n",
      "[57872.3467083 57872.348781  57872.3508274]\n",
      "[57901.2941713 57901.2962195 57901.2982903]\n",
      "[57913.2612585 57913.263306  57913.2653501]\n",
      "[57925.1230267 57925.1250735 57925.1271487]\n",
      "[57949.1624252 57949.1644727 57949.1665225]\n",
      "57962.1287033\n",
      "57974.0979079\n",
      "57987.047722\n",
      "[58047.2079666 58047.2100395]\n",
      "[58072.0497473 58072.0517936 58072.0538395]\n",
      "[58127.353073  58127.3551229 58127.3571969]\n",
      "[58166.3257914 58166.3278644 58166.3299096]\n",
      "[58222.3145811 58222.3166286 58222.3186739]\n",
      "[58250.3402352 58250.3444066]\n",
      "[58263.3045405 58263.3065859 58263.3086322]\n",
      "[58289.2408928 58289.2429393 58289.2450109]\n",
      "[58307.1843439 58307.1863879]\n",
      "[58320.1216738 58320.1237213 58320.1257965]\n",
      "[58332.1150159 58332.1170922 58332.1191399]\n",
      "[58344.0807702 58344.0828687 58344.0849411]\n",
      "[58368.3304116 58368.3324579 58368.3345019]\n",
      "[58380.2885672 58380.2906425 58380.2927164]\n",
      "[58433.1140567 58433.1161281 58433.1181745]\n",
      "[58458.0581351 58458.060182  58458.062225 ]\n",
      "[58517.3467639 58517.3488346 58517.3509041]\n",
      "[58529.3347242 58529.336796  58529.3388423]\n",
      "[58541.3446449 58541.3466942 58541.3487463]\n",
      "[58599.0865416 58599.0886231 58599.0908167]\n"
     ]
    }
   ],
   "source": [
    "print(xg[0:3])\n",
    "print(xg[3:6])\n",
    "print(xg[6:9])\n",
    "print(xg[9:12])\n",
    "print(xg[12:15])\n",
    "print(xg[15])\n",
    "print(xg[16:19])\n",
    "print(xg[19:22])\n",
    "print(xg[22:25])\n",
    "print(xg[25:28])\n",
    "print(xg[28:31])\n",
    "print(xg[31])\n",
    "print(xg[32])\n",
    "print(xg[33])\n",
    "print(xg[34:36])\n",
    "print(xg[36:39])\n",
    "print(xg[39:42])\n",
    "print(xg[42:45])\n",
    "print(xg[45:48])\n",
    "print(xg[48:50])\n",
    "print(xg[50:53])\n",
    "print(xg[53:56])\n",
    "print(xg[56:58])\n",
    "print(xg[58:61])\n",
    "print(xg[61:64])\n",
    "print(xg[64:67])\n",
    "print(xg[67:70])\n",
    "print(xg[70:73])\n",
    "print(xg[73:76])\n",
    "print(xg[76:79])\n",
    "print(xg[79:82])\n",
    "print(xg[82:85])\n",
    "print(xg[85:88])\n",
    "print(xg[88:91])"
   ]
  },
  {
   "cell_type": "code",
   "execution_count": 161,
   "metadata": {},
   "outputs": [
    {
     "data": {
      "text/plain": [
       "array([], dtype=float64)"
      ]
     },
     "execution_count": 161,
     "metadata": {},
     "output_type": "execute_result"
    }
   ],
   "source": []
  },
  {
   "cell_type": "code",
   "execution_count": 56,
   "metadata": {},
   "outputs": [
    {
     "data": {
      "text/plain": [
       "array([0.00397403, 0.00395333, 0.00396734])"
      ]
     },
     "execution_count": 56,
     "metadata": {},
     "output_type": "execute_result"
    }
   ],
   "source": [
    "ygerr[0:3]"
   ]
  },
  {
   "cell_type": "code",
   "execution_count": 73,
   "metadata": {},
   "outputs": [
    {
     "data": {
      "text/plain": [
       "<ErrorbarContainer object of 3 artists>"
      ]
     },
     "execution_count": 73,
     "metadata": {},
     "output_type": "execute_result"
    },
    {
     "data": {
      "image/png": "[encoded data removed]",
      "text/plain": [
       "<Figure size 432x288 with 1 Axes>"
      ]
     },
     "metadata": {
      "needs_background": "light"
     },
     "output_type": "display_data"
    }
   ],
   "source": [
    "plt.errorbar(0.0001+xg[0:3], yg[0:3], ygerr[0:3],fmt='b.',label='g')\n",
    "plt.errorbar(xg[0:3], yg[0:3], 5*ygerr[0:3],fmt='c.',label='g')\n"
   ]
  },
  {
   "cell_type": "code",
   "execution_count": 229,
   "metadata": {},
   "outputs": [],
   "source": [
    "newx=np.zeros(34)\n",
    "newy=np.zeros(34)\n",
    "newyerr=np.zeros(34)\n",
    "\n",
    "\n",
    "start=[0,3,6,9,12,15,16,19,22,25,28,31,32,33,34,36,39,43,45,48,50,53,56,58,61,64,67,70,73,76,79,82,85,88]\n",
    "end=[3,6,9,12,15,15,19,22,25,28,31,31,32,33,36,39,42,45,48,50,53,56,58,61,64,67,70,73,76,79,82,85,88,91]\n",
    "\n",
    "for i in range(0,34):\n",
    "    if start[i] == end[i]:\n",
    "        newx[i]=xg[start[i]]\n",
    "        newy[i]=yg[start[i]]\n",
    "        newyerr[i]=ygerr[start[i]]\n",
    "    else:\n",
    "        newx[i]=np.mean(xg[start[i]:end[i]])\n",
    "        newy[i]=np.mean(yg[start[i]:end[i]])\n",
    "        newyerr[i]=(max(yg[start[i]:end[i]])-min(yg[start[i]:end[i]]))/2.0\n",
    "        \n",
    "        #if end[i]-start[i]==3:\n",
    "        #    newyerr[i]=np.sqrt((ygerr[start[i]]**2)+(ygerr[start[i]+1]**2)+(ygerr[start[i]+2]**2))/3.0\n",
    "        #elif end[i]-start[i]==2:\n",
    "        #    newyerr[i]=np.sqrt((ygerr[start[i]]**2)+(ygerr[start[i]+1]**2))/2.0\n",
    "        "
   ]
  },
  {
   "cell_type": "code",
   "execution_count": 230,
   "metadata": {},
   "outputs": [
    {
     "data": {
      "text/plain": [
       "array([1.24769211e-02, 5.14984131e-02, 8.73184204e-03, 1.44977570e-02,\n",
       "       5.88607788e-03, 4.53888392e-03, 3.35016251e-02, 1.12142563e-02,\n",
       "       1.57041550e-02, 6.38294220e-03, 7.52067566e-03, 7.37878866e-03,\n",
       "       5.12537779e-03, 3.38575337e-03, 3.14712524e-05, 2.19688416e-02,\n",
       "       3.92951965e-02, 1.49106979e-02, 1.03340149e-02, 4.89234924e-03,\n",
       "       1.10273361e-02, 3.55720520e-03, 6.18934631e-04, 1.55868530e-02,\n",
       "       1.46684647e-02, 1.13897324e-02, 1.65052414e-02, 1.30977631e-02,\n",
       "       1.78709030e-02, 2.12955475e-03, 2.62193680e-02, 1.03788376e-02,\n",
       "       2.43911743e-02, 2.65960693e-02])"
      ]
     },
     "execution_count": 230,
     "metadata": {},
     "output_type": "execute_result"
    }
   ],
   "source": [
    "newyerr"
   ]
  },
  {
   "cell_type": "code",
   "execution_count": 234,
   "metadata": {},
   "outputs": [
    {
     "data": {
      "text/plain": [
       "<ErrorbarContainer object of 3 artists>"
      ]
     },
     "execution_count": 234,
     "metadata": {},
     "output_type": "execute_result"
    },
    {
     "data": {
      "image/png": "[encoded data removed]",
      "text/plain": [
       "<Figure size 432x288 with 1 Axes>"
      ]
     },
     "metadata": {
      "needs_background": "light"
     },
     "output_type": "display_data"
    }
   ],
   "source": [
    "plt.errorbar(newx, newy, newyerr,fmt='c.',label='new g')\n",
    "#plt.errorbar(xg, yg, ygerr,fmt='b.',label='g')\n",
    "#plt.errorbar(xK, yK, yKerr,fmt='g.',label='K')"
   ]
  },
  {
   "cell_type": "code",
   "execution_count": 224,
   "metadata": {},
   "outputs": [
    {
     "name": "stdout",
     "output_type": "stream",
     "text": [
      "[  0.        11.885684  23.936849  36.901938  95.180896 109.18074\n",
      " 145.188422 157.062172 182.190904 197.178206 211.138338 223.105428\n",
      " 234.967194 247.030978 259.00659  271.970842 283.937964 296.891876\n",
      " 310.1475   328.076698 357.052162 381.8939   393.899236 437.19724\n",
      " 461.131338 476.169988 493.166796 532.158744 560.184468 573.148688\n",
      " 586.209084 599.085064 617.026458 629.96585  641.959212 653.925004\n",
      " 665.891876 678.174572 690.13276  742.958232 754.893836 767.902292\n",
      " 827.190958 839.178918 851.188796]\n"
     ]
    }
   ],
   "source": [
    "print(xK-min(xK))"
   ]
  },
  {
   "cell_type": "code",
   "execution_count": 264,
   "metadata": {},
   "outputs": [
    {
     "name": "stdout",
     "output_type": "stream",
     "text": [
      "[0.00298699 0.0029724  0.00297391 0.00350339 0.00356852 0.00341163\n",
      " 0.0049513  0.00601686 0.00512889 0.00320513 0.00319594 0.00320182\n",
      " 0.00333633 0.00334465 0.00343626 0.00393661 0.00392925 0.00391526\n",
      " 0.00324846 0.00326502 0.00326896 0.00243152 0.00243063 0.00242924\n",
      " 0.00312081 0.00321634 0.00324197 0.00292102 0.00303648 0.00304085\n",
      " 0.00360923 0.0036519  0.00367785 0.00283886 0.00296593 0.00270843\n",
      " 0.00267531 0.0026844  0.00271468 0.00322356 0.00430757 0.003384\n",
      " 0.00369312 0.00662155 0.00404542 0.00310351 0.00308007 0.00307963\n",
      " 0.00274064 0.00270908 0.00270801 0.00322657 0.00327019 0.00327992\n",
      " 0.00282894 0.00287057 0.00290254 0.00325668 0.00324608 0.00322059\n",
      " 0.00299689 0.0029827  0.00298079 0.00321333 0.00322805 0.00322407\n",
      " 0.01213106 0.01046622 0.00930025 0.0032793  0.00326038 0.00322229\n",
      " 0.00353992 0.00353399 0.00349565 0.0030959  0.00307177 0.00307414\n",
      " 0.00415243 0.00375377 0.00568246 0.0212427  0.00301407 0.00301496\n",
      " 0.00299514 0.00326769 0.00324302 0.00320815 0.00415503 0.00572606\n",
      " 0.00507999 0.00302459 0.00300562 0.00302232 0.00312387 0.00312682\n",
      " 0.00312566 0.00330074 0.00328063 0.00329236 0.00336087 0.00336228\n",
      " 0.00333778 0.00336549 0.00331328 0.00329684 0.00474862 0.00457525\n",
      " 0.00439492 0.00344987 0.00345155 0.00345117 0.00393294 0.00389135\n",
      " 0.00397177 0.00366159 0.00361565 0.00362471 0.00475939 0.00479441\n",
      " 0.00475929 0.00382219 0.00380765 0.00381561 0.00417598 0.00415784\n",
      " 0.00415759 0.00386667 0.00386825 0.00384983 0.00411349 0.00410721\n",
      " 0.00411906]\n"
     ]
    }
   ],
   "source": [
    "print(yierr)"
   ]
  },
  {
   "cell_type": "code",
   "execution_count": 265,
   "metadata": {},
   "outputs": [],
   "source": [
    "starti=[0,3,6,9,12,15,18,21,24,27,30,33,36,39,42,45,48,51,54,57,60,63,66,69,72,75,78,81,81,85,88,91,94,97,100,103,106,\n",
    "     109,112,115,118,121,124,127,130]\n",
    "endi=[3,6,9,12,15,18,21,24,27,30,33,36,39,42,45,48,51,54,57,60,63,66,69,72,75,78,81,81,85,88,91,94,97,100,103,106,\n",
    "     109,112,115,118,121,124,127,130,133]\n",
    "\n",
    "newxi=np.zeros(len(endi))\n",
    "newyi=np.zeros(len(endi))\n",
    "newyierr=np.zeros(len(endi))\n",
    "\n",
    "for i in range(0,45):\n",
    "    if starti[i] == endi[i]:\n",
    "        newxi[i]=xi[starti[i]]\n",
    "        newyi[i]=yi[starti[i]]\n",
    "        newyierr[i]=yierr[starti[i]]\n",
    "    else:\n",
    "        newxi[i]=np.mean(xi[starti[i]:endi[i]])\n",
    "        newyi[i]=np.mean(yi[starti[i]:endi[i]])\n",
    "        newyierr[i]=(max(yi[starti[i]:endi[i]])-min(yi[starti[i]:endi[i]]))/2.0\n",
    "        \n",
    "        #if endi[i]-starti[i]==3:\n",
    "        #    newyierr[i]=np.sqrt((yierr[starti[i]]**2)+(yierr[starti[i]+1]**2)+(yierr[starti[i]+2]**2))/3.0\n",
    "        #elif endi[i]-starti[i]==2:\n",
    "        #    newyierr[i]=np.sqrt((yierr[starti[i]]**2)+(yierr[starti[i]+1]**2))/2.0\n",
    "                "
   ]
  },
  {
   "cell_type": "code",
   "execution_count": 268,
   "metadata": {},
   "outputs": [
    {
     "data": {
      "text/plain": [
       "<matplotlib.legend.Legend at 0x7f6a94fd6fd0>"
      ]
     },
     "execution_count": 268,
     "metadata": {},
     "output_type": "execute_result"
    },
    {
     "data": {
      "image/png": "[encoded data removed]",
      "text/plain": [
       "<Figure size 432x288 with 1 Axes>"
      ]
     },
     "metadata": {
      "needs_background": "light"
     },
     "output_type": "display_data"
    }
   ],
   "source": [
    "#plt.errorbar(newx, newy, newyerr,fmt='c.',label='new g')\n",
    "plt.errorbar(newxi, newyi, 2*newyierr,fmt='y.',label='new i')\n",
    "#plt.errorbar(xg, yg, ygerr,fmt='b.',label='g')\n",
    "plt.errorbar(xK, yK, yKerr,fmt='g.',label='K')\n",
    "\n",
    "#plt.ylim(-1,1)\n",
    "#plt.xlim(58200,58400)\n",
    "plt.title('Light curves')\n",
    "plt.xlabel('Time')\n",
    "plt.ylabel('Delta mag')\n",
    "plt.legend()"
   ]
  },
  {
   "cell_type": "code",
   "execution_count": null,
   "metadata": {},
   "outputs": [],
   "source": []
  }
 ],
 "metadata": {
  "kernelspec": {
   "display_name": "Python 3",
   "language": "python",
   "name": "python3"
  },
  "language_info": {
   "codemirror_mode": {
    "name": "ipython",
    "version": 3
   },
   "file_extension": ".py",
   "mimetype": "text/x-python",
   "name": "python",
   "nbconvert_exporter": "python",
   "pygments_lexer": "ipython3",
   "version": "3.7.4"
  }
 },
 "nbformat": 4,
 "nbformat_minor": 4
}
