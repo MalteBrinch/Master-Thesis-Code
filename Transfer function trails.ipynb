{
 "cells": [
  {
   "cell_type": "code",
   "execution_count": 1,
   "metadata": {},
   "outputs": [
    {
     "data": {
      "text/plain": [
       "<Figure size 640x480 with 1 Axes>"
      ]
     },
     "metadata": {},
     "output_type": "display_data"
    }
   ],
   "source": [
    "# 15-Sep-2019\n",
    "# Bo Milvang-Jensen\n",
    "# Very rudimentary script to read+plot ...\n",
    "\n",
    "import astropy.io.fits as fits\n",
    "import numpy as np\n",
    "import matplotlib.pyplot as plt\n",
    "\n",
    "# Read photometry catalogue created by my other script\n",
    "photfilename = 'F51_out_REMIR_ROS2.fits'\n",
    "data = fits.getdata(photfilename, 1)\n",
    "\n",
    "# The photometry catalogue contains aperture photometry in 25 different\n",
    "# apertures. If we number them 0..24, they correspond to diameters 1..25 arcsec\n",
    "apno = 10 # This is then 11 arcsec\n",
    "\n",
    "# The photometry catalogue contains photometry for the AGN plus some more\n",
    "# objects in the field, in this case the AGN + 6 more objetcs, so 7 in\n",
    "# total. The AGN is number 1, and the others 2, 3, etc.\n",
    "# This is seen in the column names, which end in _1, _2, etc.\n",
    "# E.g. the column MAG_APER_1 contains the aperture magnitudes (for all\n",
    "# 25 apertures) for the AGN.\n",
    "\n",
    "# Get the aperture magnitudes\n",
    "##foo = data['MAG_APER_1'] # has shape e.g. (767, 25), the 25 being the apertures\n",
    "mag_agn  = data['MAG_APER_1'][:,apno]\n",
    "mag_ref1 = data['MAG_APER_3'][:,apno] # I have found that _3 is good here\n",
    "mag_ref2 = data['MAG_APER_4'][:,apno]\n",
    "\n",
    "# Get the differential magnitudes\n",
    "delta_mag_agn_ref1 = mag_agn - mag_ref1\n",
    "delta_mag_ref2_ref1 = mag_ref2 - mag_ref1\n",
    "\n",
    "# Get the magnitude errors \n",
    "magerr_agn = data['MAGERR_APER_1'][:,apno]\n",
    "magerr_ref1 = data['MAGERR_APER_3'][:,apno]\n",
    "magerr_ref2= data['MAGERR_APER_4'][:,apno]\n",
    "\n",
    "# TODO Here I could loop over the filters, subtracting the median\n",
    "\n",
    "# For simplicity \"extract\" some arrays from the data\n",
    "filt = data['filter']\n",
    "mjd_obs = data['mjd_obs']\n",
    "\n",
    "# A simple plot of the J band differential mags, with the median subtracted\n",
    "# Do 'H' and 'K' in the same way\n",
    "mask = (filt == 'J')\n",
    "#print(magerr_ref1[mask])\n",
    "#plt.scatter(mjd_obs[mask], delta_mag_agn_ref1[mask]-np.median(delta_mag_agn_ref1[mask]))\n",
    "plt.errorbar(mjd_obs[mask], delta_mag_agn_ref1[mask]-np.median(delta_mag_agn_ref1[mask]), magerr_ref1[mask],fmt='b.')\n",
    "plt.title('test')\n",
    "plt.xlabel('MJD-OBS')\n",
    "plt.ylabel('delta mag')\n",
    "plt.show()"
   ]
  },
  {
   "cell_type": "code",
   "execution_count": 2,
   "metadata": {},
   "outputs": [],
   "source": [
    "x=np.asarray(mjd_obs[mask], dtype=float)\n",
    "y=np.asarray(delta_mag_agn_ref1[mask]-np.median(delta_mag_agn_ref1[mask]), dtype=float)\n",
    "yerr = np.array(magerr_ref1[mask], dtype=float)\n",
    "n=len(x)\n",
    "X = np.reshape(x,(n,1))"
   ]
  },
  {
   "cell_type": "code",
   "execution_count": 3,
   "metadata": {},
   "outputs": [],
   "source": [
    "muJ=np.asarray([-0.03425363, -0.03351397, -0.02664699, -0.02273714, -0.03174768,\n",
    "       -0.03957353, -0.04738784, -0.05586893, -0.06363427, -0.07391645,\n",
    "       -0.08178534, -0.08926872, -0.09593623, -0.09036217, -0.07807825,\n",
    "       -0.06753805, -0.05767188, -0.06243789, -0.06809364, -0.06405182,\n",
    "       -0.06114183, -0.04508844, -0.03290343, -0.02404407, -0.02079736,\n",
    "       -0.03644591, -0.03598996, -0.03445805, -0.03331908, -0.01566788,\n",
    "       -0.01656279, -0.01754197, -0.0130746 ,  0.00193958,  0.01056539,\n",
    "        0.01698442,  0.0382919 ,  0.05958532,  0.06605687,  0.07316159,\n",
    "        0.07929714,  0.08111757,  0.08236758,  0.08409051,  0.07132862,\n",
    "        0.06410184,  0.06383741,  0.0638774 ,  0.06268115,  0.0642296 ,\n",
    "        0.07699274,  0.09465466,  0.10719381,  0.07496593,  0.04823132,\n",
    "        0.02464346,  0.00900288, -0.00262479, -0.01581547, -0.02713472,\n",
    "       -0.04211868, -0.06695968, -0.0843794 , -0.0838455 , -0.09070336,\n",
    "       -0.09610623, -0.09881969, -0.09027169, -0.08033855, -0.06809048,\n",
    "       -0.04661056, -0.01563495,  0.0156263 ,  0.03325961,  0.04721029,\n",
    "        0.0665903 ,  0.09242785,  0.10892494,  0.12218285,  0.1282392 ,\n",
    "        0.13511139,  0.14373963,  0.15130526,  0.15932193,  0.1431794 ,\n",
    "        0.08651746,  0.06932233,  0.05781805,  0.05321184,  0.04833902,\n",
    "        0.04359331,  0.03972242,  0.03617235,  0.0324834 ,  0.04958008,\n",
    "        0.05654622,  0.05459009,  0.07174552,  0.09021518,  0.10966458])\n",
    "XK_new=np.linspace(57690.160596,58541.349392,100,dtype=np.float64)\n",
    "\n",
    "muK = np.asarray([-0.0188423 , -0.01101513, -0.02182555, -0.04066994, -0.0372273 ,\n",
    "       -0.04142979, -0.04643643, -0.05618733, -0.06305947, -0.07055236,\n",
    "       -0.07793845, -0.08585502, -0.06063842, -0.04144011, -0.04482767,\n",
    "       -0.05074738, -0.05828078, -0.06202257, -0.0469031 , -0.03229114,\n",
    "       -0.01682147, -0.00109132,  0.01100408,  0.02217135,  0.00313528,\n",
    "       -0.01391616, -0.02103778, -0.00784842, -0.00958049, -0.00958786,\n",
    "        0.01109297, -0.00763489, -0.02091672, -0.01876265,  0.00469278,\n",
    "        0.0188317 ,  0.03078942,  0.04751188,  0.06810743,  0.07498746,\n",
    "        0.08292102,  0.08732753,  0.10046523,  0.11947633,  0.13786948,\n",
    "        0.14400703,  0.13987333,  0.13111406,  0.12287179,  0.11626273,\n",
    "        0.11051379,  0.09606653,  0.03146849, -0.03145527, -0.03731231,\n",
    "        0.05864158,  0.10667121,  0.12383762,  0.11461967,  0.08906796,\n",
    "        0.06559065,  0.04109558,  0.02030753, -0.00256419, -0.02360279,\n",
    "       -0.04425853, -0.07565115, -0.11281323, -0.158842  , -0.15194773,\n",
    "       -0.13758974, -0.12698046, -0.11453399, -0.09043922, -0.06368814,\n",
    "       -0.03801246, -0.01361853,  0.01826796,  0.04772783,  0.0783482 ,\n",
    "        0.10210635,  0.11343715,  0.11997221,  0.12888862,  0.14047052,\n",
    "        0.1510065 ,  0.16296829,  0.15034888,  0.12048199,  0.10888384,\n",
    "        0.10030352,  0.09039116,  0.08457157,  0.07565612,  0.06965578,\n",
    "        0.06232899,  0.05684617,  0.07264807,  0.09185271,  0.10704618])\n",
    "\n",
    "sdK= np.asarray([0.01988143, 0.02823802, 0.02842399, 0.02519744, 0.02685983,\n",
    "       0.03892542, 0.05028333, 0.05689614, 0.05813455, 0.05403651,\n",
    "       0.04471803, 0.02418143, 0.03161986, 0.02934869, 0.04177712,\n",
    "       0.04655686, 0.03921996, 0.02387052, 0.02670243, 0.0358775 ,\n",
    "       0.0404354 , 0.02561409, 0.03271019, 0.02208746, 0.03147129,\n",
    "       0.02778667, 0.01997748, 0.02645743, 0.02909296, 0.02507729,\n",
    "       0.02358237, 0.03032299, 0.02790866, 0.01985626, 0.02860159,\n",
    "       0.02765181, 0.02107263, 0.03497932, 0.0255268 , 0.03756821,\n",
    "       0.04205965, 0.03471579, 0.03107883, 0.03834469, 0.03036075,\n",
    "       0.02955552, 0.0268117 , 0.04630602, 0.05364562, 0.0514371 ,\n",
    "       0.04249924, 0.0266177 , 0.03959254, 0.04223779, 0.03861979,\n",
    "       0.02962969, 0.03502534, 0.03253784, 0.03910857, 0.04728147,\n",
    "       0.0472931 , 0.03952985, 0.0238944 , 0.03969748, 0.04179032,\n",
    "       0.02498722, 0.03114984, 0.02718431, 0.02714058, 0.03081888,\n",
    "       0.02916275, 0.0340881 , 0.02559767, 0.02691825, 0.03102352,\n",
    "       0.02701771, 0.01996262, 0.02890135, 0.02935551, 0.02249271,\n",
    "       0.02631584, 0.03960783, 0.05016029, 0.05681583, 0.05473107,\n",
    "       0.04716982, 0.03231861, 0.02949984, 0.02315253, 0.0270892 ,\n",
    "       0.03911139, 0.05046017, 0.05845151, 0.05975193, 0.05511116,\n",
    "       0.04632993, 0.02836088, 0.02897927, 0.02732322, 0.02084374])"
   ]
  },
  {
   "cell_type": "code",
   "execution_count": 81,
   "metadata": {},
   "outputs": [],
   "source": [
    "#Define simple planck function\n",
    "h = 6.626e-34\n",
    "c = 3.0e+8\n",
    "k = 1.38e-23\n",
    "\n",
    "def planck(wav, T):\n",
    "    a = 2.0*h*c**2\n",
    "    b = h*c/(1e-9*wav*k*T)\n",
    "    intensity = a/ ( ((1e-9*wav)**5) * (np.exp(b) - 1.0) )\n",
    "    return intensity\n",
    "def transferDT(x,mu,sigma,A_T,wav,T):\n",
    "    '''Defines the transfer function for the DT'''\n",
    "    BB = planck(wav, T)\n",
    "    exp = -((np.log(x)-mu)**2/(2*sigma**2))\n",
    "    front = A_T/(x*sigma*np.sqrt(2*np.pi))\n",
    "    return BB*front*np.exp(exp)\n",
    "#might need to include a normalization here\n",
    "#can you determine the index of the power law? Maybe by a fit in a filter?\n",
    "def power(wav,wav_0,K_0,index):\n",
    "    powr=K_0*(wav/wav_0)**(index)\n",
    "    return powr\n",
    "def transferAD(x,mu,sigma,A_T,wav,wav_0,K_0,index):\n",
    "    '''Defines the transfer function for the AD'''\n",
    "    powr = power(wav, wav_0, K_0, index)\n",
    "    exp = -((np.log(x)-mu)**2/(2*sigma**2))\n",
    "    front = (1.0-A_T)/(x*sigma*np.sqrt(2*np.pi))\n",
    "    return powr*front*np.exp(exp)\n",
    "def transfertot(x,mu_DT,mu_AD,sigma_DT,sigma_AD,A_T,T,wav,wav_0, K_0,index):\n",
    "    transfer_DT = transferDT(x,mu_DT,sigma_DT,A_T,wav,T)\n",
    "    transfer_AD = transferAD(x,mu_AD,sigma_AD,A_T,wav,wav_0,K_0,index)\n",
    "    return transfer_DT + transfer_AD"
   ]
  },
  {
   "cell_type": "code",
   "execution_count": 82,
   "metadata": {},
   "outputs": [],
   "source": [
    "sigma_DT_val=1.0#.00.04\n",
    "sigma_AD_val=1.0#0.04\n",
    "mu_DT_val=6\n",
    "mu_AD_val=2.3#11.0\n",
    "A_T_val=0.5\n",
    "T_val=1800.0\n",
    "wav_val=2200#10.0\n",
    "wav_0_val=2200#100.0\n",
    "K_0_val=1.0e20\n",
    "index_val=2.0\n",
    "\n",
    "#sigma_DT=1\n",
    "#sigma_AD=1\n",
    "#mu_DT=12\n",
    "#mu_AD=1\n",
    "#A_T=0.4\n",
    "#T=1700\n",
    "#wav=2200\n",
    "#wav_0=2200\n",
    "#index=1.0\n"
   ]
  },
  {
   "cell_type": "code",
   "execution_count": 83,
   "metadata": {},
   "outputs": [
    {
     "data": {
      "text/plain": [
       "array([0.016, 0.024, 0.016])"
      ]
     },
     "execution_count": 83,
     "metadata": {},
     "output_type": "execute_result"
    }
   ],
   "source": [
    "a=[0.08,0.08,0.08]\n",
    "b=[0.1,0.1,0.1]\n",
    "np.convolve(a,b,'same')"
   ]
  },
  {
   "cell_type": "code",
   "execution_count": 84,
   "metadata": {},
   "outputs": [
    {
     "data": {
      "text/plain": [
       "62555338514.04285"
      ]
     },
     "execution_count": 84,
     "metadata": {},
     "output_type": "execute_result"
    }
   ],
   "source": [
    "planck(wav_val, T_val)"
   ]
  },
  {
   "cell_type": "code",
   "execution_count": 85,
   "metadata": {},
   "outputs": [
    {
     "data": {
      "text/plain": [
       "array([[0.96995103],\n",
       "       [0.96876027],\n",
       "       [0.96755469],\n",
       "       [0.96625949],\n",
       "       [0.96046203],\n",
       "       [0.95907527],\n",
       "       [0.95551895],\n",
       "       [0.95434958],\n",
       "       [0.95207307],\n",
       "       [0.95188009],\n",
       "       [0.9504107 ],\n",
       "       [0.94904435],\n",
       "       [0.94787485],\n",
       "       [0.94671726],\n",
       "       [0.94554161],\n",
       "       [0.9443762 ],\n",
       "       [0.94311642],\n",
       "       [0.94195523],\n",
       "       [0.94070013],\n",
       "       [0.93941777],\n",
       "       [0.93768646],\n",
       "       [0.93489615],\n",
       "       [0.93251144],\n",
       "       [0.93136146],\n",
       "       [0.9272274 ],\n",
       "       [0.92495116],\n",
       "       [0.92352418],\n",
       "       [0.9219144 ],\n",
       "       [0.91823354],\n",
       "       [0.91691011],\n",
       "       [0.91681637],\n",
       "       [0.91559824],\n",
       "       [0.9143821 ],\n",
       "       [0.91315881],\n",
       "       [0.91195461],\n",
       "       [0.91027971],\n",
       "       [0.90907392],\n",
       "       [0.90795794],\n",
       "       [0.90684607],\n",
       "       [0.90573564],\n",
       "       [0.90459752],\n",
       "       [0.90349105],\n",
       "       [0.89862156],\n",
       "       [0.89752547],\n",
       "       [0.8963326 ],\n",
       "       [0.89091866],\n",
       "       [0.88982851],\n",
       "       [0.88873789],\n",
       "       [0.88619795]])"
      ]
     },
     "execution_count": 85,
     "metadata": {},
     "output_type": "execute_result"
    }
   ],
   "source": [
    "transferDT(X,mu_DT_val,sigma_DT_val,A_T_val,wav_val,T_val)"
   ]
  },
  {
   "cell_type": "code",
   "execution_count": 86,
   "metadata": {},
   "outputs": [
    {
     "data": {
      "text/plain": [
       "1e+20"
      ]
     },
     "execution_count": 86,
     "metadata": {},
     "output_type": "execute_result"
    }
   ],
   "source": [
    "power(wav_val,wav_0_val,K_0_val,index_val)"
   ]
  },
  {
   "cell_type": "code",
   "execution_count": 87,
   "metadata": {},
   "outputs": [
    {
     "data": {
      "text/plain": [
       "array([[0.0174985 ],\n",
       "       [0.0174637 ],\n",
       "       [0.0174285 ],\n",
       "       [0.01739071],\n",
       "       [0.01722195],\n",
       "       [0.01718168],\n",
       "       [0.01707856],\n",
       "       [0.01704471],\n",
       "       [0.01697889],\n",
       "       [0.01697331],\n",
       "       [0.01693088],\n",
       "       [0.01689146],\n",
       "       [0.01685775],\n",
       "       [0.01682441],\n",
       "       [0.01679058],\n",
       "       [0.01675706],\n",
       "       [0.01672086],\n",
       "       [0.01668753],\n",
       "       [0.01665152],\n",
       "       [0.01661476],\n",
       "       [0.01656519],\n",
       "       [0.01648541],\n",
       "       [0.01641735],\n",
       "       [0.01638457],\n",
       "       [0.01626693],\n",
       "       [0.0162023 ],\n",
       "       [0.01616183],\n",
       "       [0.01611623],\n",
       "       [0.01601214],\n",
       "       [0.01597479],\n",
       "       [0.01597214],\n",
       "       [0.01593779],\n",
       "       [0.01590352],\n",
       "       [0.01586907],\n",
       "       [0.0158352 ],\n",
       "       [0.01578813],\n",
       "       [0.01575427],\n",
       "       [0.01572297],\n",
       "       [0.0156918 ],\n",
       "       [0.0156607 ],\n",
       "       [0.01562884],\n",
       "       [0.0155979 ],\n",
       "       [0.015462  ],\n",
       "       [0.01543148],\n",
       "       [0.01539828],\n",
       "       [0.01524798],\n",
       "       [0.01521778],\n",
       "       [0.0151876 ],\n",
       "       [0.01511739]])"
      ]
     },
     "execution_count": 87,
     "metadata": {},
     "output_type": "execute_result"
    }
   ],
   "source": [
    "transferAD(X,mu_AD_val,sigma_AD_val,A_T_val,wav_val,wav_0_val,K_0_val,index_val)"
   ]
  },
  {
   "cell_type": "code",
   "execution_count": null,
   "metadata": {},
   "outputs": [],
   "source": []
  },
  {
   "cell_type": "code",
   "execution_count": null,
   "metadata": {},
   "outputs": [],
   "source": []
  }
 ],
 "metadata": {
  "kernelspec": {
   "display_name": "Python 3",
   "language": "python",
   "name": "python3"
  },
  "language_info": {
   "codemirror_mode": {
    "name": "ipython",
    "version": 3
   },
   "file_extension": ".py",
   "mimetype": "text/x-python",
   "name": "python",
   "nbconvert_exporter": "python",
   "pygments_lexer": "ipython3",
   "version": "3.7.3"
  }
 },
 "nbformat": 4,
 "nbformat_minor": 2
}
