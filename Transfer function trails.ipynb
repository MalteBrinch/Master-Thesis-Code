{
 "cells": [
  {
   "cell_type": "code",
   "execution_count": 6,
   "metadata": {},
   "outputs": [
    {
     "data": {
      "image/png": "[encoded data removed]",
      "text/plain": [
       "<Figure size 432x288 with 1 Axes>"
      ]
     },
     "metadata": {
      "needs_background": "light"
     },
     "output_type": "display_data"
    }
   ],
   "source": [
    "# 15-Sep-2019\n",
    "# Bo Milvang-Jensen\n",
    "# Very rudimentary script to read+plot ...\n",
    "\n",
    "import astropy.io.fits as fits\n",
    "import numpy as np\n",
    "import matplotlib.pyplot as plt\n",
    "\n",
    "# Read photometry catalogue created by my other script\n",
    "photfilename = 'F51_out_REMIR_ROS2.fits'\n",
    "data = fits.getdata(photfilename, 1)\n",
    "\n",
    "# The photometry catalogue contains aperture photometry in 25 different\n",
    "# apertures. If we number them 0..24, they correspond to diameters 1..25 arcsec\n",
    "apno = 10 # This is then 11 arcsec\n",
    "\n",
    "# The photometry catalogue contains photometry for the AGN plus some more\n",
    "# objects in the field, in this case the AGN + 6 more objetcs, so 7 in\n",
    "# total. The AGN is number 1, and the others 2, 3, etc.\n",
    "# This is seen in the column names, which end in _1, _2, etc.\n",
    "# E.g. the column MAG_APER_1 contains the aperture magnitudes (for all\n",
    "# 25 apertures) for the AGN.\n",
    "\n",
    "# Get the aperture magnitudes\n",
    "##foo = data['MAG_APER_1'] # has shape e.g. (767, 25), the 25 being the apertures\n",
    "mag_agn  = data['MAG_APER_1'][:,apno]\n",
    "mag_ref1 = data['MAG_APER_3'][:,apno] # I have found that _3 is good here\n",
    "mag_ref2 = data['MAG_APER_4'][:,apno]\n",
    "\n",
    "# Get the differential magnitudes\n",
    "delta_mag_agn_ref1 = mag_agn - mag_ref1\n",
    "delta_mag_ref2_ref1 = mag_ref2 - mag_ref1\n",
    "\n",
    "# Get the magnitude errors \n",
    "magerr_agn = data['MAGERR_APER_1'][:,apno]\n",
    "magerr_ref1 = data['MAGERR_APER_3'][:,apno]\n",
    "magerr_ref2= data['MAGERR_APER_4'][:,apno]\n",
    "\n",
    "# TODO Here I could loop over the filters, subtracting the median\n",
    "\n",
    "# For simplicity \"extract\" some arrays from the data\n",
    "filt = data['filter']\n",
    "mjd_obs = data['mjd_obs']\n",
    "\n",
    "# A simple plot of the J band differential mags, with the median subtracted\n",
    "# Do 'H' and 'K' in the same way\n",
    "mask = (filt == 'J')\n",
    "#print(magerr_ref1[mask])\n",
    "#plt.scatter(mjd_obs[mask], delta_mag_agn_ref1[mask]-np.median(delta_mag_agn_ref1[mask]))\n",
    "plt.errorbar(mjd_obs[mask], delta_mag_agn_ref1[mask]-np.median(delta_mag_agn_ref1[mask]), magerr_ref1[mask],fmt='b.')\n",
    "plt.title('test')\n",
    "plt.xlabel('MJD-OBS')\n",
    "plt.ylabel('delta mag')\n",
    "plt.show()"
   ]
  },
  {
   "cell_type": "code",
   "execution_count": 7,
   "metadata": {},
   "outputs": [],
   "source": [
    "x=np.asarray(mjd_obs[mask], dtype=float)\n",
    "y=np.asarray(delta_mag_agn_ref1[mask]-np.median(delta_mag_agn_ref1[mask]), dtype=float)\n",
    "yerr = np.array(magerr_ref1[mask], dtype=float)\n",
    "n=len(x)\n",
    "X = np.reshape(x,(n,1))"
   ]
  },
  {
   "cell_type": "code",
   "execution_count": 8,
   "metadata": {},
   "outputs": [],
   "source": [
    "X_new,muJ,sdJ = np.loadtxt('Jband.txt', delimiter=',', usecols=(0,1,2), unpack=True)\n",
    "XK_new,muK,sdK = np.loadtxt('Kband.txt', delimiter=',', usecols=(0,1,2), unpack=True)"
   ]
  },
  {
   "cell_type": "code",
   "execution_count": 62,
   "metadata": {},
   "outputs": [],
   "source": [
    "#Define simple planck function\n",
    "h = 6.626e-34\n",
    "c = 3.0e+8\n",
    "k = 1.38e-23\n",
    "\n",
    "def planck(wav, T):\n",
    "    a = 1.0#8*np.pi*h*c**2#2.0*h*c**2\n",
    "    b = h*c/(1e-9*wav*k*T)\n",
    "    intensity = a/ ( (wav**5) * (np.exp(b) - 1.0) )\n",
    "    return intensity/np.max(intensity)\n",
    "def transferDT(x,mu,sigma,A_T,wav,T):\n",
    "    '''Defines the transfer function for the DT'''\n",
    "    BB = planck(wav, T)\n",
    "    exp = -((np.log(x)-mu)**2/(2*sigma**2))\n",
    "    front = A_T/(x*sigma*np.sqrt(2*np.pi))\n",
    "    return BB*front*np.exp(exp)\n",
    "#might need to include a normalization here\n",
    "#can you determine the index of the power law? Maybe by a fit in a filter?\n",
    "def power(wav,wav_0,K_0,index):\n",
    "    powr=K_0*(wav/wav_0)**(index)\n",
    "    return powr\n",
    "def transferAD(x,mu,sigma,A_T,wav,wav_0,K_0,index):\n",
    "    '''Defines the transfer function for the AD'''\n",
    "    powr = power(wav, wav_0, K_0, index)\n",
    "    \n",
    "    mu_max = 7.0\n",
    "    sigma_max=3.5\n",
    "    exp_max = -((np.log(x)-mu_max)**2/(2*sigma_max**2)) \n",
    "    A_T_max=0.0\n",
    "    front_max = (1.0-A_T_max)/(x*sigma_max*np.sqrt(2*np.pi))\n",
    "    AD_max = front_max*np.exp(exp_max)\n",
    "    \n",
    "    exp = -((np.log(x)-mu)**2/(2*sigma**2))\n",
    "    front = (1.0-A_T)/(x*sigma*np.sqrt(2*np.pi))\n",
    "    return powr*front*np.exp(exp)/AD_max\n",
    "def transfertot(x,mu_DT,mu_AD,sigma_DT,sigma_AD,A_T,T,wav,wav_0, K_0,index):\n",
    "    transfer_DT = transferDT(x,mu_DT,sigma_DT,A_T,wav,T)\n",
    "    transfer_AD = transferAD(x,mu_AD,sigma_AD,A_T,wav,wav_0,K_0,index)\n",
    "    return transfer_DT + transfer_AD"
   ]
  },
  {
   "cell_type": "code",
   "execution_count": 63,
   "metadata": {},
   "outputs": [],
   "source": [
    "sigma_DT_val=3.5#.00.04\n",
    "sigma_AD_val=3.5#0.04\n",
    "mu_DT_val=7.0\n",
    "mu_AD_val=7.0#11.0\n",
    "A_T_val=0.5\n",
    "T_val=2000.0\n",
    "wav_val=5000.0#10.0\n",
    "wav_0_val=5000.0#100.0\n",
    "K_0_val=5.0\n",
    "index_val=-5.0"
   ]
  },
  {
   "cell_type": "code",
   "execution_count": 64,
   "metadata": {},
   "outputs": [
    {
     "name": "stdout",
     "output_type": "stream",
     "text": [
      "[0.005  0.0075 0.005 ]\n",
      "[0.005  0.0075 0.005 ]\n"
     ]
    }
   ],
   "source": [
    "from scipy import signal\n",
    "a=[0.05,0.05,0.05]\n",
    "b=[0.05,0.05,0.05]\n",
    "print(np.convolve(a,b,'same'))\n",
    "print(signal.convolve(a, b, mode='same'))"
   ]
  },
  {
   "cell_type": "code",
   "execution_count": 65,
   "metadata": {},
   "outputs": [
    {
     "data": {
      "text/plain": [
       "array([3.96284184, 3.96304784, 3.96325667, 3.96348129, 3.96449034,\n",
       "       3.96473259, 3.96535538, 3.96556065, 3.96596098, 3.96599496,\n",
       "       3.9662539 , 3.96649503, 3.96670169, 3.96690648, 3.96711473,\n",
       "       3.96732141, 3.9675451 , 3.96775154, 3.96797496, 3.96820353,\n",
       "       3.9685126 , 3.9690119 , 3.96943977, 3.96964648, 3.97039164,\n",
       "       3.9708033 , 3.97106188, 3.97135405, 3.97202398, 3.97226549,\n",
       "       3.97228261, 3.97250522, 3.97272776, 3.9729519 , 3.97317282,\n",
       "       3.97348057, 3.97370246, 3.97390809, 3.9741132 , 3.97431829,\n",
       "       3.97452875, 3.9747336 , 3.97563804, 3.97584228, 3.97606483,\n",
       "       3.97707853, 3.97728337, 3.97748854, 3.97796732])"
      ]
     },
     "execution_count": 65,
     "metadata": {},
     "output_type": "execute_result"
    }
   ],
   "source": [
    "np.log(x)-7.0"
   ]
  },
  {
   "cell_type": "code",
   "execution_count": 66,
   "metadata": {},
   "outputs": [
    {
     "data": {
      "text/plain": [
       "1.0"
      ]
     },
     "execution_count": 66,
     "metadata": {},
     "output_type": "execute_result"
    }
   ],
   "source": [
    "planck(wav_val, T_val)"
   ]
  },
  {
   "cell_type": "code",
   "execution_count": 67,
   "metadata": {},
   "outputs": [
    {
     "data": {
      "text/plain": [
       "array([[5.20396495e-07],\n",
       "       [5.20254629e-07],\n",
       "       [5.20110860e-07],\n",
       "       [5.19956254e-07],\n",
       "       [5.19262279e-07],\n",
       "       [5.19095807e-07],\n",
       "       [5.18668055e-07],\n",
       "       [5.18527140e-07],\n",
       "       [5.18252431e-07],\n",
       "       [5.18229121e-07],\n",
       "       [5.18051516e-07],\n",
       "       [5.17886178e-07],\n",
       "       [5.17744515e-07],\n",
       "       [5.17604165e-07],\n",
       "       [5.17461492e-07],\n",
       "       [5.17319927e-07],\n",
       "       [5.17166751e-07],\n",
       "       [5.17025424e-07],\n",
       "       [5.16872518e-07],\n",
       "       [5.16716131e-07],\n",
       "       [5.16504735e-07],\n",
       "       [5.16163409e-07],\n",
       "       [5.15871084e-07],\n",
       "       [5.15729912e-07],\n",
       "       [5.15221317e-07],\n",
       "       [5.14940545e-07],\n",
       "       [5.14764260e-07],\n",
       "       [5.14565145e-07],\n",
       "       [5.14108858e-07],\n",
       "       [5.13944463e-07],\n",
       "       [5.13932812e-07],\n",
       "       [5.13781325e-07],\n",
       "       [5.13629934e-07],\n",
       "       [5.13477498e-07],\n",
       "       [5.13327289e-07],\n",
       "       [5.13118114e-07],\n",
       "       [5.12967345e-07],\n",
       "       [5.12827669e-07],\n",
       "       [5.12688378e-07],\n",
       "       [5.12549138e-07],\n",
       "       [5.12406291e-07],\n",
       "       [5.12267285e-07],\n",
       "       [5.11653988e-07],\n",
       "       [5.11515590e-07],\n",
       "       [5.11364826e-07],\n",
       "       [5.10678647e-07],\n",
       "       [5.10540096e-07],\n",
       "       [5.10401354e-07],\n",
       "       [5.10077737e-07]])"
      ]
     },
     "execution_count": 67,
     "metadata": {},
     "output_type": "execute_result"
    }
   ],
   "source": [
    "transferDT(X,mu_DT_val,sigma_DT_val,A_T_val,wav_val,T_val)"
   ]
  },
  {
   "cell_type": "code",
   "execution_count": 68,
   "metadata": {},
   "outputs": [
    {
     "data": {
      "text/plain": [
       "5.0"
      ]
     },
     "execution_count": 68,
     "metadata": {},
     "output_type": "execute_result"
    }
   ],
   "source": [
    "power(wav_val,wav_0_val,K_0_val,index_val)"
   ]
  },
  {
   "cell_type": "code",
   "execution_count": 69,
   "metadata": {},
   "outputs": [
    {
     "data": {
      "text/plain": [
       "array([[2.5],\n",
       "       [2.5],\n",
       "       [2.5],\n",
       "       [2.5],\n",
       "       [2.5],\n",
       "       [2.5],\n",
       "       [2.5],\n",
       "       [2.5],\n",
       "       [2.5],\n",
       "       [2.5],\n",
       "       [2.5],\n",
       "       [2.5],\n",
       "       [2.5],\n",
       "       [2.5],\n",
       "       [2.5],\n",
       "       [2.5],\n",
       "       [2.5],\n",
       "       [2.5],\n",
       "       [2.5],\n",
       "       [2.5],\n",
       "       [2.5],\n",
       "       [2.5],\n",
       "       [2.5],\n",
       "       [2.5],\n",
       "       [2.5],\n",
       "       [2.5],\n",
       "       [2.5],\n",
       "       [2.5],\n",
       "       [2.5],\n",
       "       [2.5],\n",
       "       [2.5],\n",
       "       [2.5],\n",
       "       [2.5],\n",
       "       [2.5],\n",
       "       [2.5],\n",
       "       [2.5],\n",
       "       [2.5],\n",
       "       [2.5],\n",
       "       [2.5],\n",
       "       [2.5],\n",
       "       [2.5],\n",
       "       [2.5],\n",
       "       [2.5],\n",
       "       [2.5],\n",
       "       [2.5],\n",
       "       [2.5],\n",
       "       [2.5],\n",
       "       [2.5],\n",
       "       [2.5]])"
      ]
     },
     "execution_count": 69,
     "metadata": {},
     "output_type": "execute_result"
    }
   ],
   "source": [
    "transferAD(X,mu_AD_val,sigma_AD_val,A_T_val,wav_val,wav_0_val,K_0_val,index_val)"
   ]
  },
  {
   "cell_type": "code",
   "execution_count": 21,
   "metadata": {},
   "outputs": [
    {
     "name": "stdout",
     "output_type": "stream",
     "text": [
      "1449.0\n",
      "1.0940723501371404e-18\n"
     ]
    }
   ],
   "source": [
    "wav=1449.0\n",
    "T=2000.0\n",
    "wav_peak=2.898*1e6/T\n",
    "print(wav_peak)\n",
    "b = h*c/(1e-9*wav_peak*k*T)\n",
    "intensity = 1.0/( (wav_peak**5) * (np.exp(b) - 1.0) )\n",
    "print(intensity)\n"
   ]
  },
  {
   "cell_type": "code",
   "execution_count": 43,
   "metadata": {},
   "outputs": [
    {
     "data": {
      "image/png": "[encoded data removed]",
      "text/plain": [
       "<Figure size 432x288 with 1 Axes>"
      ]
     },
     "metadata": {
      "needs_background": "light"
     },
     "output_type": "display_data"
    }
   ],
   "source": [
    "#conv = Psitot(soln.x, XK_new, muK, muJ, sdK)\n",
    "\n",
    "plt.errorbar(XK_new, muK, yerr=sdK, fmt=\".k\", capsize=0, label='muK')\n",
    "#plt.plot(XK_new, 1e82*conv, \":r\", label=\"1e82*ML\")\n",
    "plt.plot(XK_new, muJ, '*', label=\"muJ\")\n",
    "plt.legend(fontsize=14)\n",
    "#plt.xlim(58240,58290)\n",
    "plt.xlabel(\"Time[d]\")\n",
    "plt.ylabel(\"diffmag\");"
   ]
  },
  {
   "cell_type": "code",
   "execution_count": 59,
   "metadata": {},
   "outputs": [
    {
     "name": "stdout",
     "output_type": "stream",
     "text": [
      "[0.37324491 0.3731803  0.37311572 0.37305115 0.3729866  0.37292208\n",
      " 0.37285757 0.37279308 0.37272862 0.37266418 0.37259975 0.37253535\n",
      " 0.37247096 0.3724066  0.37234226 0.37227794 0.37221364 0.37214936\n",
      " 0.3720851  0.37202086 0.37195664 0.37189244 0.37182826 0.3717641\n",
      " 0.37169996 0.37163584 0.37157175 0.37150767 0.37144361 0.37137957\n",
      " 0.37131556 0.37125156 0.37118759 0.37112363 0.3710597  0.37099578\n",
      " 0.37093189 0.37086801 0.37080416 0.37074032 0.37067651 0.37061272\n",
      " 0.37054894 0.37048519 0.37042145 0.37035774 0.37029405 0.37023038\n",
      " 0.37016672 0.37010309 0.37003948 0.36997589 0.36991231 0.36984876\n",
      " 0.36978523 0.36972172 0.36965822 0.36959475 0.3695313  0.36946787\n",
      " 0.36940446 0.36934106 0.36927769 0.36921434 0.36915101 0.3690877\n",
      " 0.3690244  0.36896113 0.36889788 0.36883465 0.36877143 0.36870824\n",
      " 0.36864507 0.36858192 0.36851878 0.36845567 0.36839258 0.3683295\n",
      " 0.36826645 0.36820342 0.3681404  0.36807741 0.36801443 0.36795148\n",
      " 0.36788854 0.36782563 0.36776274 0.36769986 0.367637   0.36757417\n",
      " 0.36751135 0.36744856 0.36738578 0.36732302 0.36726029 0.36719757\n",
      " 0.36713487 0.36707219 0.36700953 0.36694689]\n"
     ]
    }
   ],
   "source": [
    "wav_0=5000.0\n",
    "sigma_DT=3.925736\n",
    "sigma_AD=np.log(300.0)\n",
    "mu_DT= 4.654890\n",
    "mu_AD=np.log(300.0)\n",
    "A_T=0.486334\n",
    "wav= 9933.279485\n",
    "T=7.250991\n",
    "K_0=5.202828\n",
    "index=0.287942\n",
    "    \n",
    "powr = K_0*(wav/wav_0)**(index)\n",
    "exp_AD = -((np.log(XK_new)-mu_AD)**2/(2*sigma_AD**2))\n",
    "front_AD = (1.0-A_T)/(XK_new*sigma_AD)\n",
    "Psi_AD = 57690.160596*powr*front_AD*np.exp(exp_AD)\n",
    "\n",
    "print(Psi_AD)"
   ]
  },
  {
   "cell_type": "code",
   "execution_count": 57,
   "metadata": {},
   "outputs": [
    {
     "data": {
      "text/plain": [
       "[<matplotlib.lines.Line2D at 0x25b93649a20>]"
      ]
     },
     "execution_count": 57,
     "metadata": {},
     "output_type": "execute_result"
    },
    {
     "data": {
      "image/png": "[encoded data removed]",
      "text/plain": [
       "<Figure size 432x288 with 1 Axes>"
      ]
     },
     "metadata": {
      "needs_background": "light"
     },
     "output_type": "display_data"
    }
   ],
   "source": [
    "plt.plot(XK_new,powr*front_AD*np.exp(exp_AD))"
   ]
  },
  {
   "cell_type": "code",
   "execution_count": 58,
   "metadata": {},
   "outputs": [
    {
     "name": "stderr",
     "output_type": "stream",
     "text": [
      "C:\\Users\\Ejer\\Anaconda3\\lib\\site-packages\\ipykernel_launcher.py:4: RuntimeWarning: divide by zero encountered in true_divide\n",
      "  after removing the cwd from sys.path.\n",
      "C:\\Users\\Ejer\\Anaconda3\\lib\\site-packages\\ipykernel_launcher.py:5: RuntimeWarning: divide by zero encountered in log\n",
      "  \"\"\"\n",
      "C:\\Users\\Ejer\\Anaconda3\\lib\\site-packages\\ipykernel_launcher.py:5: RuntimeWarning: invalid value encountered in multiply\n",
      "  \"\"\"\n"
     ]
    },
    {
     "data": {
      "text/plain": [
       "[<matplotlib.lines.Line2D at 0x25b9368a3c8>]"
      ]
     },
     "execution_count": 58,
     "metadata": {},
     "output_type": "execute_result"
    },
    {
     "data": {
      "image/png": "[encoded data removed]",
      "text/plain": [
       "<Figure size 432x288 with 1 Axes>"
      ]
     },
     "metadata": {
      "needs_background": "light"
     },
     "output_type": "display_data"
    }
   ],
   "source": [
    "sig=0.5\n",
    "mean=0.5\n",
    "x=np.linspace(0,2.5,100)\n",
    "front=1/(x*sig*np.sqrt(2*np.pi))\n",
    "y=front*np.exp(-(np.log(x)-mean)**2/(2*sig**2))\n",
    "ynorm=y/((1/(np.exp(mean-sig**2)*sig*np.sqrt(2*np.pi)))*np.exp(-(np.log(np.exp(mean-sig**2))-mean)**2/(2*sig**2)))\n",
    "plt.plot(x,y)"
   ]
  },
  {
   "cell_type": "code",
   "execution_count": null,
   "metadata": {},
   "outputs": [],
   "source": []
  }
 ],
 "metadata": {
  "kernelspec": {
   "display_name": "Python 3",
   "language": "python",
   "name": "python3"
  },
  "language_info": {
   "codemirror_mode": {
    "name": "ipython",
    "version": 3
   },
   "file_extension": ".py",
   "mimetype": "text/x-python",
   "name": "python",
   "nbconvert_exporter": "python",
   "pygments_lexer": "ipython3",
   "version": "3.7.3"
  }
 },
 "nbformat": 4,
 "nbformat_minor": 2
}
