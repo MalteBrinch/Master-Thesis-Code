{
 "cells": [
  {
   "cell_type": "code",
   "execution_count": 1,
   "metadata": {},
   "outputs": [],
   "source": [
    "import theano\n",
    "import theano.tensor as tt\n",
    "import numpy as np\n",
    "# We don't specify the dtype of our input variables, so it\n",
    "# defaults to using float64 without any special config.\n",
    "a = tt.scalar('a')\n",
    "x = tt.vector('x')\n",
    "# `tt.ivector` creates a symbolic vector of integers.\n",
    "y = tt.vector('y')"
   ]
  },
  {
   "cell_type": "code",
   "execution_count": 2,
   "metadata": {},
   "outputs": [],
   "source": [
    "inner = a * x**3 + y**2\n",
    "out = tt.exp(inner).sum()"
   ]
  },
  {
   "cell_type": "code",
   "execution_count": 3,
   "metadata": {},
   "outputs": [],
   "source": [
    "func = theano.function([a, x, y], [out])"
   ]
  },
  {
   "cell_type": "code",
   "execution_count": 4,
   "metadata": {},
   "outputs": [
    {
     "data": {
      "text/plain": [
       "[array(273.78191776)]"
      ]
     },
     "execution_count": 4,
     "metadata": {},
     "output_type": "execute_result"
    }
   ],
   "source": [
    "a_val = 1.2\n",
    "x_vals = np.random.randn(10).astype(theano.config.floatX) \n",
    "y_vals = np.random.randn(10).astype(theano.config.floatX) \n",
    "#x_vals = np.asarray(x_vals,dtype=theano.config.floatX)\n",
    "#y_vals = np.asarray(y_vals,dtype=theano.config.floatX)\n",
    "#print(x_vals)\n",
    "yup = func(a_val, x_vals, y_vals)\n",
    "yup"
   ]
  },
  {
   "cell_type": "code",
   "execution_count": 6,
   "metadata": {},
   "outputs": [
    {
     "data": {
      "text/plain": [
       "array([[0.5       , 0.73105858],\n",
       "       [0.26894142, 0.11920292]])"
      ]
     },
     "execution_count": 6,
     "metadata": {},
     "output_type": "execute_result"
    }
   ],
   "source": [
    "import theano\n",
    "import theano.tensor as T\n",
    "x = T.dmatrix('x')\n",
    "s = 1 / (1 + T.exp(-x))\n",
    "logistic = theano.function([x], s)\n",
    "logistic([[0, 1], [-1, -2]])"
   ]
  },
  {
   "cell_type": "code",
   "execution_count": 7,
   "metadata": {},
   "outputs": [
    {
     "data": {
      "text/plain": [
       "array([Elemwise{mul,no_inplace}.0, Elemwise{mul,no_inplace}.0,\n",
       "       Elemwise{mul,no_inplace}.0, Elemwise{mul,no_inplace}.0,\n",
       "       Elemwise{mul,no_inplace}.0, Elemwise{mul,no_inplace}.0,\n",
       "       Elemwise{mul,no_inplace}.0, Elemwise{mul,no_inplace}.0,\n",
       "       Elemwise{mul,no_inplace}.0, Elemwise{mul,no_inplace}.0],\n",
       "      dtype=object)"
      ]
     },
     "execution_count": 7,
     "metadata": {},
     "output_type": "execute_result"
    }
   ],
   "source": [
    "np.convolve(out,x_vals,'same')"
   ]
  },
  {
   "cell_type": "code",
   "execution_count": 64,
   "metadata": {},
   "outputs": [
    {
     "data": {
      "image/png": "[encoded data removed]",
      "text/plain": [
       "<Figure size 432x288 with 1 Axes>"
      ]
     },
     "metadata": {
      "needs_background": "light"
     },
     "output_type": "display_data"
    }
   ],
   "source": [
    "import numpy as np\n",
    "import theano.tensor as tt\n",
    "import seaborn as sns\n",
    "import matplotlib.pyplot as plt\n",
    "#plt = sns.plt\n",
    "\n",
    "def conv2D_border_mode_same( x, w ):\n",
    "    fso = T.shape(w)[2] - 1  # this is the filter size minus 1\n",
    "    return conv2d(x, w, border_mode='full')[:,:,fso:nps+fso,fso:nps+fso]\n",
    "\n",
    "x = np.arange(50) * 1.\n",
    "y = np.random.normal((x+0.1)/5, 1, 50)\n",
    "\n",
    "def tophat(x, centre, width, amplitude):\n",
    "    return tt.switch((x < centre + (width/2)) & (x >= centre - (width/2)), np.float64(amplitude) / width,  np.float64(0.))\n",
    "\n",
    "import theano.tensor.signal.conv\n",
    "def theano_convolve(x, y, filt_range, centre, width, amplitude):\n",
    "    a = tt.matrix('a', dtype='float64')\n",
    "    b = tt.matrix('b', dtype='float64')\n",
    "\n",
    "    filt = tophat(b, centre, width, amplitude)\n",
    "\n",
    "    func = tt.signal.conv.conv2d(a, filt, (1, y.shape[0]), (1, filt_range.shape[0]), border_mode='full') / filt.sum()\n",
    "\n",
    "    return theano.function([a, b], func)(y[None, :], filt_range[None, :])\n",
    "\n",
    "from scipy.signal import convolve\n",
    "\n",
    "def scipy_convolve(x, y, filt_range, centre, width, amplitude):\n",
    "    a = tt.vector('a')\n",
    "    filt = theano.function([a], tophat(a, centre, width, amplitude))(filt_range)\n",
    "    return convolve(y, filt, mode='same') / sum(filt)\n",
    "\n",
    "convolved_theano = theano_convolve(x, y, np.linspace(-10, 10, len(x)), 0, 3, 1)\n",
    "\n",
    "convolved_scipy = scipy_convolve(x, y, np.linspace(-10, 10, len(x)), 0, 3, 1)\n",
    "\n",
    "plt.plot(x, y, '.', label='data')\n",
    "plt.plot(convolved_theano[0]+0.0, label='theano')\n",
    "plt.plot(convolved_theano[0][convolved_theano[0] > 0.13],label='theano not 0')\n",
    "plt.plot(convolved_scipy,label='scipy')\n",
    "plt.legend()\n",
    "plt.show(block=True)\n"
   ]
  },
  {
   "cell_type": "code",
   "execution_count": 23,
   "metadata": {},
   "outputs": [
    {
     "name": "stdout",
     "output_type": "stream",
     "text": [
      "(99,)\n",
      "(50,)\n"
     ]
    }
   ],
   "source": [
    "print(convolved_theano[0].shape)\n",
    "print(convolved_scipy.shape)"
   ]
  },
  {
   "cell_type": "code",
   "execution_count": 42,
   "metadata": {},
   "outputs": [
    {
     "data": {
      "text/plain": [
       "array([0.25656241, 0.29637875, 0.13530737, 0.22394689, 0.41678207,\n",
       "       0.40628591, 0.4188999 , 0.41129617, 0.27255613, 0.48814656,\n",
       "       0.55679279, 0.51085151, 0.68949677, 1.04075439, 1.35949285,\n",
       "       1.66090201, 1.93065816, 2.25351136, 2.48447469, 2.81314374,\n",
       "       2.8846713 , 3.29714279, 3.63525962, 3.99378677, 4.4498585 ,\n",
       "       4.37967174, 4.86592802, 5.05429311, 5.37376736, 5.36568711,\n",
       "       5.38339689, 5.60517034, 5.49269052, 5.78380532, 6.22412059,\n",
       "       6.62362525, 6.83372375, 7.06041755, 7.53894018, 7.53622991,\n",
       "       7.9290759 , 8.08726408, 8.19533259, 8.2853451 , 8.36296675,\n",
       "       8.54641999, 8.40169865, 8.79586993, 8.63244438, 8.88577676,\n",
       "       7.71259849, 6.66334896, 5.61314655, 4.45784681, 3.43686646,\n",
       "       2.17129942, 1.21070853])"
      ]
     },
     "execution_count": 42,
     "metadata": {},
     "output_type": "execute_result"
    }
   ],
   "source": [
    "convolved_theano[0][convolved_theano[0] > 0.1]"
   ]
  },
  {
   "cell_type": "code",
   "execution_count": 52,
   "metadata": {},
   "outputs": [
    {
     "data": {
      "text/plain": [
       "(50,)"
      ]
     },
     "execution_count": 52,
     "metadata": {},
     "output_type": "execute_result"
    }
   ],
   "source": [
    "convolved_theano[0][convolved_theano[0] > 0.415].shape"
   ]
  },
  {
   "cell_type": "code",
   "execution_count": null,
   "metadata": {},
   "outputs": [],
   "source": []
  }
 ],
 "metadata": {
  "kernelspec": {
   "display_name": "Python 3",
   "language": "python",
   "name": "python3"
  },
  "language_info": {
   "codemirror_mode": {
    "name": "ipython",
    "version": 3
   },
   "file_extension": ".py",
   "mimetype": "text/x-python",
   "name": "python",
   "nbconvert_exporter": "python",
   "pygments_lexer": "ipython3",
   "version": "3.7.3"
  }
 },
 "nbformat": 4,
 "nbformat_minor": 2
}
